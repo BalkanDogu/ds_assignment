{
 "cells": [
  {
   "cell_type": "markdown",
   "metadata": {
    "id": "PrH59S4kW0UC"
   },
   "source": [
    "# Product Amount Forecast by Time"
   ]
  },
  {
   "cell_type": "markdown",
   "metadata": {
    "id": "VmTfi-sqW0UK"
   },
   "source": [
    "## Data\n",
    "\n",
    "Info about this data set: https://fred.stlouisfed.org/series/IPN31152N\n",
    "\n",
    "\n",
    "Units:  Index 2012=100, Not Seasonally Adjusted\n",
    "\n",
    "Frequency:  Monthly\n",
    "\n",
    "The industrial production (IP) index measures the real output of all relevant establishments located in the United States, regardless of their ownership, but not those located in U.S. territories.\n",
    "\n",
    "NAICS = 31152\n",
    "\n",
    "Source Code: IP.N31152.N\n",
    "\n",
    "Suggested Citation:\n",
    "Board of Governors of the Federal Reserve System (US), Industrial Production: Nondurable Goods: Ice cream and frozen dessert [IPN31152N], retrieved from FRED, Federal Reserve Bank of St. Louis; https://fred.stlouisfed.org/series/IPN31152N, November 16, 2019."
   ]
  },
  {
   "cell_type": "markdown",
   "metadata": {
    "id": "JgbAMYoeW0UM"
   },
   "source": [
    "## Import Libraries"
   ]
  },
  {
   "cell_type": "code",
   "execution_count": 1,
   "metadata": {
    "id": "iALmCpKJW0UN"
   },
   "outputs": [],
   "source": [
    "import numpy as np\n",
    "import pandas as pd\n",
    "import matplotlib.pyplot as plt\n",
    "import seaborn as sns\n",
    "\n",
    "import warnings\n",
    "warnings.filterwarnings(\"ignore\")\n",
    "warnings.warn(\"this will not show\")\n",
    "\n",
    "plt.rcParams[\"figure.figsize\"] = (10,6)\n",
    "\n",
    "sns.set_style(\"whitegrid\")\n",
    "pd.set_option('display.float_format', lambda x: '%.3f' % x)\n",
    "\n",
    "# Set it None to display all rows in the dataframe\n",
    "# pd.set_option('display.max_rows', None)\n",
    "\n",
    "# Set it to None to display all columns in the dataframe\n",
    "pd.set_option('display.max_columns', None)"
   ]
  },
  {
   "cell_type": "markdown",
   "metadata": {
    "id": "w5nV2oy4W0UP"
   },
   "source": [
    "## Indest Data"
   ]
  },
  {
   "cell_type": "code",
   "execution_count": 2,
   "metadata": {
    "id": "m0PzGfw-W0UP"
   },
   "outputs": [],
   "source": [
    "df = pd.read_csv(\"Frozen_Dessert_Production.csv\")"
   ]
  },
  {
   "cell_type": "code",
   "execution_count": 3,
   "metadata": {},
   "outputs": [
    {
     "data": {
      "text/html": [
       "<div>\n",
       "<style scoped>\n",
       "    .dataframe tbody tr th:only-of-type {\n",
       "        vertical-align: middle;\n",
       "    }\n",
       "\n",
       "    .dataframe tbody tr th {\n",
       "        vertical-align: top;\n",
       "    }\n",
       "\n",
       "    .dataframe thead th {\n",
       "        text-align: right;\n",
       "    }\n",
       "</style>\n",
       "<table border=\"1\" class=\"dataframe\">\n",
       "  <thead>\n",
       "    <tr style=\"text-align: right;\">\n",
       "      <th></th>\n",
       "      <th>DATE</th>\n",
       "      <th>IPN31152N</th>\n",
       "    </tr>\n",
       "  </thead>\n",
       "  <tbody>\n",
       "    <tr>\n",
       "      <th>0</th>\n",
       "      <td>1972-01-01</td>\n",
       "      <td>59.962</td>\n",
       "    </tr>\n",
       "    <tr>\n",
       "      <th>1</th>\n",
       "      <td>1972-02-01</td>\n",
       "      <td>67.061</td>\n",
       "    </tr>\n",
       "    <tr>\n",
       "      <th>2</th>\n",
       "      <td>1972-03-01</td>\n",
       "      <td>74.235</td>\n",
       "    </tr>\n",
       "    <tr>\n",
       "      <th>3</th>\n",
       "      <td>1972-04-01</td>\n",
       "      <td>78.112</td>\n",
       "    </tr>\n",
       "    <tr>\n",
       "      <th>4</th>\n",
       "      <td>1972-05-01</td>\n",
       "      <td>84.764</td>\n",
       "    </tr>\n",
       "  </tbody>\n",
       "</table>\n",
       "</div>"
      ],
      "text/plain": [
       "         DATE  IPN31152N\n",
       "0  1972-01-01     59.962\n",
       "1  1972-02-01     67.061\n",
       "2  1972-03-01     74.235\n",
       "3  1972-04-01     78.112\n",
       "4  1972-05-01     84.764"
      ]
     },
     "execution_count": 3,
     "metadata": {},
     "output_type": "execute_result"
    }
   ],
   "source": [
    "df.head()"
   ]
  },
  {
   "cell_type": "code",
   "execution_count": null,
   "metadata": {},
   "outputs": [],
   "source": [
    "df = df.set_index(\"DATE\")"
   ]
  },
  {
   "cell_type": "code",
   "execution_count": 12,
   "metadata": {},
   "outputs": [
    {
     "data": {
      "text/html": [
       "<div>\n",
       "<style scoped>\n",
       "    .dataframe tbody tr th:only-of-type {\n",
       "        vertical-align: middle;\n",
       "    }\n",
       "\n",
       "    .dataframe tbody tr th {\n",
       "        vertical-align: top;\n",
       "    }\n",
       "\n",
       "    .dataframe thead th {\n",
       "        text-align: right;\n",
       "    }\n",
       "</style>\n",
       "<table border=\"1\" class=\"dataframe\">\n",
       "  <thead>\n",
       "    <tr style=\"text-align: right;\">\n",
       "      <th></th>\n",
       "      <th>IPN31152N</th>\n",
       "    </tr>\n",
       "    <tr>\n",
       "      <th>DATE</th>\n",
       "      <th></th>\n",
       "    </tr>\n",
       "  </thead>\n",
       "  <tbody>\n",
       "    <tr>\n",
       "      <th>1972-01-01</th>\n",
       "      <td>59.962</td>\n",
       "    </tr>\n",
       "    <tr>\n",
       "      <th>1972-02-01</th>\n",
       "      <td>67.061</td>\n",
       "    </tr>\n",
       "    <tr>\n",
       "      <th>1972-03-01</th>\n",
       "      <td>74.235</td>\n",
       "    </tr>\n",
       "    <tr>\n",
       "      <th>1972-04-01</th>\n",
       "      <td>78.112</td>\n",
       "    </tr>\n",
       "    <tr>\n",
       "      <th>1972-05-01</th>\n",
       "      <td>84.764</td>\n",
       "    </tr>\n",
       "    <tr>\n",
       "      <th>...</th>\n",
       "      <td>...</td>\n",
       "    </tr>\n",
       "    <tr>\n",
       "      <th>2019-05-01</th>\n",
       "      <td>114.561</td>\n",
       "    </tr>\n",
       "    <tr>\n",
       "      <th>2019-06-01</th>\n",
       "      <td>124.960</td>\n",
       "    </tr>\n",
       "    <tr>\n",
       "      <th>2019-07-01</th>\n",
       "      <td>110.263</td>\n",
       "    </tr>\n",
       "    <tr>\n",
       "      <th>2019-08-01</th>\n",
       "      <td>102.609</td>\n",
       "    </tr>\n",
       "    <tr>\n",
       "      <th>2019-09-01</th>\n",
       "      <td>101.587</td>\n",
       "    </tr>\n",
       "  </tbody>\n",
       "</table>\n",
       "<p>573 rows × 1 columns</p>\n",
       "</div>"
      ],
      "text/plain": [
       "            IPN31152N\n",
       "DATE                 \n",
       "1972-01-01     59.962\n",
       "1972-02-01     67.061\n",
       "1972-03-01     74.235\n",
       "1972-04-01     78.112\n",
       "1972-05-01     84.764\n",
       "...               ...\n",
       "2019-05-01    114.561\n",
       "2019-06-01    124.960\n",
       "2019-07-01    110.263\n",
       "2019-08-01    102.609\n",
       "2019-09-01    101.587\n",
       "\n",
       "[573 rows x 1 columns]"
      ]
     },
     "execution_count": 12,
     "metadata": {},
     "output_type": "execute_result"
    }
   ],
   "source": [
    "df"
   ]
  },
  {
   "cell_type": "code",
   "execution_count": 10,
   "metadata": {},
   "outputs": [
    {
     "name": "stdout",
     "output_type": "stream",
     "text": [
      "<class 'pandas.core.frame.DataFrame'>\n",
      "Index: 573 entries, 1972-01-01 to 2019-09-01\n",
      "Data columns (total 1 columns):\n",
      " #   Column     Non-Null Count  Dtype  \n",
      "---  ------     --------------  -----  \n",
      " 0   IPN31152N  573 non-null    float64\n",
      "dtypes: float64(1)\n",
      "memory usage: 9.0+ KB\n"
     ]
    }
   ],
   "source": [
    "df.info()"
   ]
  },
  {
   "cell_type": "markdown",
   "metadata": {
    "id": "r1DNqwCLW0UQ",
    "tags": []
   },
   "source": [
    "## Exploratory Data Analysis and Visualization"
   ]
  },
  {
   "cell_type": "markdown",
   "metadata": {
    "id": "D_O-lYffW0UR"
   },
   "source": [
    "1. Implement basic steps to see how is your data looks like\n",
    "2. Change the column name as \"Production\"\n",
    "2. Plot your data and see its seasonalty"
   ]
  },
  {
   "cell_type": "code",
   "execution_count": 13,
   "metadata": {},
   "outputs": [],
   "source": [
    "df.columns = ['Production']"
   ]
  },
  {
   "cell_type": "code",
   "execution_count": 14,
   "metadata": {
    "tags": []
   },
   "outputs": [
    {
     "data": {
      "text/plain": [
       "<AxesSubplot:xlabel='DATE'>"
      ]
     },
     "execution_count": 14,
     "metadata": {},
     "output_type": "execute_result"
    },
    {
     "data": {
      "image/png": "[encoded data removed]",
      "text/plain": [
       "<Figure size 1152x576 with 1 Axes>"
      ]
     },
     "metadata": {},
     "output_type": "display_data"
    }
   ],
   "source": [
    "df.plot(figsize=(16,8))"
   ]
  },
  {
   "cell_type": "markdown",
   "metadata": {
    "id": "MFgtEy1_W0UT"
   },
   "source": [
    "## Preprocessing of Data"
   ]
  },
  {
   "cell_type": "markdown",
   "metadata": {
    "id": "ZHTMB-NaW0UU"
   },
   "source": [
    "### Train Test Split"
   ]
  },
  {
   "cell_type": "code",
   "execution_count": 15,
   "metadata": {},
   "outputs": [
    {
     "data": {
      "text/plain": [
       "573"
      ]
     },
     "execution_count": 15,
     "metadata": {},
     "output_type": "execute_result"
    }
   ],
   "source": [
    "len(df)"
   ]
  },
  {
   "cell_type": "code",
   "execution_count": 16,
   "metadata": {},
   "outputs": [
    {
     "data": {
      "text/plain": [
       "86.0"
      ]
     },
     "execution_count": 16,
     "metadata": {},
     "output_type": "execute_result"
    }
   ],
   "source": [
    "test_point = np.round(len(df)*0.15)\n",
    "test_point"
   ]
  },
  {
   "cell_type": "code",
   "execution_count": 17,
   "metadata": {},
   "outputs": [
    {
     "data": {
      "text/plain": [
       "487"
      ]
     },
     "execution_count": 17,
     "metadata": {},
     "output_type": "execute_result"
    }
   ],
   "source": [
    "test_ind = int(len(df) - test_point)\n",
    "test_ind"
   ]
  },
  {
   "cell_type": "code",
   "execution_count": 18,
   "metadata": {},
   "outputs": [],
   "source": [
    "train = df.iloc[:test_ind]\n",
    "test = df.iloc[test_ind:]"
   ]
  },
  {
   "cell_type": "code",
   "execution_count": 19,
   "metadata": {},
   "outputs": [
    {
     "data": {
      "text/html": [
       "<div>\n",
       "<style scoped>\n",
       "    .dataframe tbody tr th:only-of-type {\n",
       "        vertical-align: middle;\n",
       "    }\n",
       "\n",
       "    .dataframe tbody tr th {\n",
       "        vertical-align: top;\n",
       "    }\n",
       "\n",
       "    .dataframe thead th {\n",
       "        text-align: right;\n",
       "    }\n",
       "</style>\n",
       "<table border=\"1\" class=\"dataframe\">\n",
       "  <thead>\n",
       "    <tr style=\"text-align: right;\">\n",
       "      <th></th>\n",
       "      <th>Production</th>\n",
       "    </tr>\n",
       "    <tr>\n",
       "      <th>DATE</th>\n",
       "      <th></th>\n",
       "    </tr>\n",
       "  </thead>\n",
       "  <tbody>\n",
       "    <tr>\n",
       "      <th>2012-08-01</th>\n",
       "      <td>107.643</td>\n",
       "    </tr>\n",
       "    <tr>\n",
       "      <th>2012-09-01</th>\n",
       "      <td>96.370</td>\n",
       "    </tr>\n",
       "    <tr>\n",
       "      <th>2012-10-01</th>\n",
       "      <td>88.886</td>\n",
       "    </tr>\n",
       "    <tr>\n",
       "      <th>2012-11-01</th>\n",
       "      <td>74.838</td>\n",
       "    </tr>\n",
       "    <tr>\n",
       "      <th>2012-12-01</th>\n",
       "      <td>68.769</td>\n",
       "    </tr>\n",
       "    <tr>\n",
       "      <th>...</th>\n",
       "      <td>...</td>\n",
       "    </tr>\n",
       "    <tr>\n",
       "      <th>2019-05-01</th>\n",
       "      <td>114.561</td>\n",
       "    </tr>\n",
       "    <tr>\n",
       "      <th>2019-06-01</th>\n",
       "      <td>124.960</td>\n",
       "    </tr>\n",
       "    <tr>\n",
       "      <th>2019-07-01</th>\n",
       "      <td>110.263</td>\n",
       "    </tr>\n",
       "    <tr>\n",
       "      <th>2019-08-01</th>\n",
       "      <td>102.609</td>\n",
       "    </tr>\n",
       "    <tr>\n",
       "      <th>2019-09-01</th>\n",
       "      <td>101.587</td>\n",
       "    </tr>\n",
       "  </tbody>\n",
       "</table>\n",
       "<p>86 rows × 1 columns</p>\n",
       "</div>"
      ],
      "text/plain": [
       "            Production\n",
       "DATE                  \n",
       "2012-08-01     107.643\n",
       "2012-09-01      96.370\n",
       "2012-10-01      88.886\n",
       "2012-11-01      74.838\n",
       "2012-12-01      68.769\n",
       "...                ...\n",
       "2019-05-01     114.561\n",
       "2019-06-01     124.960\n",
       "2019-07-01     110.263\n",
       "2019-08-01     102.609\n",
       "2019-09-01     101.587\n",
       "\n",
       "[86 rows x 1 columns]"
      ]
     },
     "execution_count": 19,
     "metadata": {},
     "output_type": "execute_result"
    }
   ],
   "source": [
    "test"
   ]
  },
  {
   "cell_type": "code",
   "execution_count": 20,
   "metadata": {},
   "outputs": [
    {
     "data": {
      "text/html": [
       "<div>\n",
       "<style scoped>\n",
       "    .dataframe tbody tr th:only-of-type {\n",
       "        vertical-align: middle;\n",
       "    }\n",
       "\n",
       "    .dataframe tbody tr th {\n",
       "        vertical-align: top;\n",
       "    }\n",
       "\n",
       "    .dataframe thead th {\n",
       "        text-align: right;\n",
       "    }\n",
       "</style>\n",
       "<table border=\"1\" class=\"dataframe\">\n",
       "  <thead>\n",
       "    <tr style=\"text-align: right;\">\n",
       "      <th></th>\n",
       "      <th>Production</th>\n",
       "    </tr>\n",
       "    <tr>\n",
       "      <th>DATE</th>\n",
       "      <th></th>\n",
       "    </tr>\n",
       "  </thead>\n",
       "  <tbody>\n",
       "    <tr>\n",
       "      <th>1972-01-01</th>\n",
       "      <td>59.962</td>\n",
       "    </tr>\n",
       "    <tr>\n",
       "      <th>1972-02-01</th>\n",
       "      <td>67.061</td>\n",
       "    </tr>\n",
       "    <tr>\n",
       "      <th>1972-03-01</th>\n",
       "      <td>74.235</td>\n",
       "    </tr>\n",
       "    <tr>\n",
       "      <th>1972-04-01</th>\n",
       "      <td>78.112</td>\n",
       "    </tr>\n",
       "    <tr>\n",
       "      <th>1972-05-01</th>\n",
       "      <td>84.764</td>\n",
       "    </tr>\n",
       "    <tr>\n",
       "      <th>...</th>\n",
       "      <td>...</td>\n",
       "    </tr>\n",
       "    <tr>\n",
       "      <th>2012-03-01</th>\n",
       "      <td>112.487</td>\n",
       "    </tr>\n",
       "    <tr>\n",
       "      <th>2012-04-01</th>\n",
       "      <td>114.811</td>\n",
       "    </tr>\n",
       "    <tr>\n",
       "      <th>2012-05-01</th>\n",
       "      <td>114.566</td>\n",
       "    </tr>\n",
       "    <tr>\n",
       "      <th>2012-06-01</th>\n",
       "      <td>124.343</td>\n",
       "    </tr>\n",
       "    <tr>\n",
       "      <th>2012-07-01</th>\n",
       "      <td>112.327</td>\n",
       "    </tr>\n",
       "  </tbody>\n",
       "</table>\n",
       "<p>487 rows × 1 columns</p>\n",
       "</div>"
      ],
      "text/plain": [
       "            Production\n",
       "DATE                  \n",
       "1972-01-01      59.962\n",
       "1972-02-01      67.061\n",
       "1972-03-01      74.235\n",
       "1972-04-01      78.112\n",
       "1972-05-01      84.764\n",
       "...                ...\n",
       "2012-03-01     112.487\n",
       "2012-04-01     114.811\n",
       "2012-05-01     114.566\n",
       "2012-06-01     124.343\n",
       "2012-07-01     112.327\n",
       "\n",
       "[487 rows x 1 columns]"
      ]
     },
     "execution_count": 20,
     "metadata": {},
     "output_type": "execute_result"
    }
   ],
   "source": [
    "train"
   ]
  },
  {
   "cell_type": "markdown",
   "metadata": {
    "id": "OhtBFsG_W0UW"
   },
   "source": [
    "### Scaling"
   ]
  },
  {
   "cell_type": "code",
   "execution_count": 21,
   "metadata": {},
   "outputs": [],
   "source": [
    "from sklearn.preprocessing import MinMaxScaler"
   ]
  },
  {
   "cell_type": "code",
   "execution_count": 22,
   "metadata": {},
   "outputs": [],
   "source": [
    "scaler = MinMaxScaler()"
   ]
  },
  {
   "cell_type": "code",
   "execution_count": 23,
   "metadata": {},
   "outputs": [],
   "source": [
    "train_scaled = scaler.fit_transform(train)\n",
    "test_scaled = scaler.transform(test)"
   ]
  },
  {
   "cell_type": "markdown",
   "metadata": {
    "id": "mEr60eqqW0UX"
   },
   "source": [
    "## Time Series Generator"
   ]
  },
  {
   "cell_type": "code",
   "execution_count": 24,
   "metadata": {},
   "outputs": [],
   "source": [
    "from tensorflow.keras.preprocessing.sequence import TimeseriesGenerator"
   ]
  },
  {
   "cell_type": "code",
   "execution_count": 25,
   "metadata": {},
   "outputs": [],
   "source": [
    "length = 2\n",
    "batch_size = 1\n",
    "stride = 1 \n",
    "generator = TimeseriesGenerator(data = train_scaled,\n",
    "                                targets = train_scaled,\n",
    "                                length = length,\n",
    "                                batch_size = batch_size,\n",
    "                                stride = stride)"
   ]
  },
  {
   "cell_type": "code",
   "execution_count": 28,
   "metadata": {},
   "outputs": [
    {
     "data": {
      "text/plain": [
       "487"
      ]
     },
     "execution_count": 28,
     "metadata": {},
     "output_type": "execute_result"
    }
   ],
   "source": [
    "len(train_scaled)"
   ]
  },
  {
   "cell_type": "code",
   "execution_count": 27,
   "metadata": {},
   "outputs": [
    {
     "data": {
      "text/plain": [
       "485"
      ]
     },
     "execution_count": 27,
     "metadata": {},
     "output_type": "execute_result"
    }
   ],
   "source": [
    "len(generator)"
   ]
  },
  {
   "cell_type": "code",
   "execution_count": 29,
   "metadata": {},
   "outputs": [
    {
     "data": {
      "text/plain": [
       "<AxesSubplot:xlabel='DATE'>"
      ]
     },
     "execution_count": 29,
     "metadata": {},
     "output_type": "execute_result"
    },
    {
     "data": {
      "image/png": "[encoded data removed]",
      "text/plain": [
       "<Figure size 720x432 with 1 Axes>"
      ]
     },
     "metadata": {},
     "output_type": "display_data"
    }
   ],
   "source": [
    "df.plot()"
   ]
  },
  {
   "cell_type": "code",
   "execution_count": 30,
   "metadata": {},
   "outputs": [],
   "source": [
    "length = 60\n",
    "batch_size = 1\n",
    "generator = TimeseriesGenerator(data = train_scaled, targets = train_scaled, length = length, batch_size = batch_size)"
   ]
  },
  {
   "cell_type": "code",
   "execution_count": 31,
   "metadata": {},
   "outputs": [],
   "source": [
    "X, y = generator[0]"
   ]
  },
  {
   "cell_type": "code",
   "execution_count": 32,
   "metadata": {},
   "outputs": [
    {
     "data": {
      "text/plain": [
       "427"
      ]
     },
     "execution_count": 32,
     "metadata": {},
     "output_type": "execute_result"
    }
   ],
   "source": [
    "len(generator)"
   ]
  },
  {
   "cell_type": "code",
   "execution_count": 33,
   "metadata": {},
   "outputs": [
    {
     "name": "stdout",
     "output_type": "stream",
     "text": [
      "Given the Array: \n",
      "[0.00947104 0.06108982 0.11326273 0.14145625 0.18982663 0.30495972\n",
      " 0.30154406 0.27416065 0.19736841 0.08532665 0.01561588 0.\n",
      " 0.01774221 0.09850931 0.15590133 0.18358944 0.20878908 0.37150354\n",
      " 0.3542551  0.29817568 0.23973867 0.12104304 0.05289938 0.02087498\n",
      " 0.03141355 0.12133246 0.18622481 0.18855185 0.23182893 0.37263651\n",
      " 0.32891584 0.30809031 0.22409662 0.10933731 0.05452176 0.01749278\n",
      " 0.04076752 0.12186114 0.19277469 0.19221257 0.28139264 0.39898221\n",
      " 0.35985962 0.3357137  0.22874706 0.12405219 0.08404241 0.02969736\n",
      " 0.02386668 0.11198795 0.20583228 0.22885832 0.258115   0.37353242\n",
      " 0.35488703 0.32839226 0.24418041 0.11957773 0.06451857 0.02780228]\n",
      "Predict this y: \n",
      "[[0.0371497]]\n"
     ]
    }
   ],
   "source": [
    "print(f'Given the Array: \\n{X.flatten()}')\n",
    "print(f'Predict this y: \\n{y}')"
   ]
  },
  {
   "cell_type": "markdown",
   "metadata": {
    "id": "GXs_mchzW0UY"
   },
   "source": [
    "## Modelling & Model Performance"
   ]
  },
  {
   "cell_type": "markdown",
   "metadata": {
    "id": "_nPVqM5JW0UY"
   },
   "source": [
    "### Import related libraries"
   ]
  },
  {
   "cell_type": "code",
   "execution_count": 35,
   "metadata": {},
   "outputs": [],
   "source": [
    "from tensorflow.keras.models import Sequential\n",
    "from tensorflow.keras.layers import Dense, SimpleRNN, LSTM"
   ]
  },
  {
   "cell_type": "code",
   "execution_count": 38,
   "metadata": {},
   "outputs": [],
   "source": [
    "model = Sequential()\n",
    "model.add(SimpleRNN(units = 80, activation = \"tanh\", input_shape=(length, 1)))\n",
    "model.add(Dense(units = 1))\n",
    "model.compile(optimizer='adam', loss='mse')"
   ]
  },
  {
   "cell_type": "code",
   "execution_count": 39,
   "metadata": {},
   "outputs": [
    {
     "name": "stdout",
     "output_type": "stream",
     "text": [
      "Model: \"sequential_1\"\n",
      "_________________________________________________________________\n",
      "Layer (type)                 Output Shape              Param #   \n",
      "=================================================================\n",
      "simple_rnn_1 (SimpleRNN)     (None, 80)                6560      \n",
      "_________________________________________________________________\n",
      "dense_1 (Dense)              (None, 1)                 81        \n",
      "=================================================================\n",
      "Total params: 6,641\n",
      "Trainable params: 6,641\n",
      "Non-trainable params: 0\n",
      "_________________________________________________________________\n"
     ]
    }
   ],
   "source": [
    "model.summary()"
   ]
  },
  {
   "cell_type": "code",
   "execution_count": 40,
   "metadata": {},
   "outputs": [
    {
     "name": "stdout",
     "output_type": "stream",
     "text": [
      "Epoch 1/5\n",
      "427/427 [==============================] - 9s 18ms/step - loss: 0.0157\n",
      "Epoch 2/5\n",
      "427/427 [==============================] - 8s 18ms/step - loss: 0.0039\n",
      "Epoch 3/5\n",
      "427/427 [==============================] - 10s 24ms/step - loss: 0.0025\n",
      "Epoch 4/5\n",
      "427/427 [==============================] - 10s 23ms/step - loss: 0.0024 0s - loss: 0 - ETA: 0s - los\n",
      "Epoch 5/5\n",
      "427/427 [==============================] - 11s 26ms/step - loss: 0.0024\n"
     ]
    },
    {
     "data": {
      "text/plain": [
       "<keras.callbacks.History at 0x28432e06dc0>"
      ]
     },
     "execution_count": 40,
     "metadata": {},
     "output_type": "execute_result"
    }
   ],
   "source": [
    "model.fit_generator(generator = generator, epochs = 5)"
   ]
  },
  {
   "cell_type": "code",
   "execution_count": 41,
   "metadata": {
    "id": "H0LrCgXjW0UZ"
   },
   "outputs": [
    {
     "data": {
      "text/plain": [
       "<AxesSubplot:>"
      ]
     },
     "execution_count": 41,
     "metadata": {},
     "output_type": "execute_result"
    },
    {
     "data": {
      "image/png": "[encoded data removed]",
      "text/plain": [
       "<Figure size 720x432 with 1 Axes>"
      ]
     },
     "metadata": {},
     "output_type": "display_data"
    }
   ],
   "source": [
    "loss_df = pd.DataFrame(model.history.history)\n",
    "loss_df.plot()"
   ]
  },
  {
   "cell_type": "markdown",
   "metadata": {
    "id": "oa_VzNmpW0Ua"
   },
   "source": [
    "#### Evaluate on Test Data"
   ]
  },
  {
   "cell_type": "code",
   "execution_count": 42,
   "metadata": {},
   "outputs": [],
   "source": [
    "first_eval_batch = train_scaled[-length:]"
   ]
  },
  {
   "cell_type": "code",
   "execution_count": 43,
   "metadata": {},
   "outputs": [
    {
     "data": {
      "text/plain": [
       "(60, 1)"
      ]
     },
     "execution_count": 43,
     "metadata": {},
     "output_type": "execute_result"
    }
   ],
   "source": [
    "first_eval_batch.shape"
   ]
  },
  {
   "cell_type": "code",
   "execution_count": 45,
   "metadata": {},
   "outputs": [],
   "source": [
    "first_eval_batch = first_eval_batch.reshape((1, length, 1))"
   ]
  },
  {
   "cell_type": "code",
   "execution_count": 46,
   "metadata": {},
   "outputs": [
    {
     "data": {
      "text/plain": [
       "(1, 60, 1)"
      ]
     },
     "execution_count": 46,
     "metadata": {},
     "output_type": "execute_result"
    }
   ],
   "source": [
    "first_eval_batch.shape"
   ]
  },
  {
   "cell_type": "code",
   "execution_count": 47,
   "metadata": {},
   "outputs": [
    {
     "data": {
      "text/plain": [
       "array([[0.37085605]], dtype=float32)"
      ]
     },
     "execution_count": 47,
     "metadata": {},
     "output_type": "execute_result"
    }
   ],
   "source": [
    "model.predict(first_eval_batch)"
   ]
  },
  {
   "cell_type": "code",
   "execution_count": 49,
   "metadata": {},
   "outputs": [],
   "source": [
    "test_predictions = []\n",
    "\n",
    "first_eval_batch = train_scaled[-length:]\n",
    "current_batch = first_eval_batch.reshape((1, length, 1))"
   ]
  },
  {
   "cell_type": "code",
   "execution_count": 51,
   "metadata": {},
   "outputs": [
    {
     "data": {
      "text/plain": [
       "(1, 60, 1)"
      ]
     },
     "execution_count": 51,
     "metadata": {},
     "output_type": "execute_result"
    }
   ],
   "source": [
    "current_batch.shape"
   ]
  },
  {
   "cell_type": "code",
   "execution_count": 52,
   "metadata": {
    "scrolled": true,
    "tags": []
   },
   "outputs": [
    {
     "data": {
      "text/plain": [
       "array([[[0.60582894],\n",
       "        [0.49204408],\n",
       "        [0.32987647],\n",
       "        [0.2969518 ],\n",
       "        [0.35876955],\n",
       "        [0.48110555],\n",
       "        [0.59006762],\n",
       "        [0.60473814],\n",
       "        [0.61824732],\n",
       "        [0.80533386],\n",
       "        [0.62801433],\n",
       "        [0.58998181],\n",
       "        [0.47530395],\n",
       "        [0.36576521],\n",
       "        [0.3184129 ],\n",
       "        [0.18278007],\n",
       "        [0.25838552],\n",
       "        [0.41127697],\n",
       "        [0.51611292],\n",
       "        [0.54115039],\n",
       "        [0.57690677],\n",
       "        [0.66681259],\n",
       "        [0.55138499],\n",
       "        [0.53718642],\n",
       "        [0.4420215 ],\n",
       "        [0.34988681],\n",
       "        [0.21230072],\n",
       "        [0.13914302],\n",
       "        [0.23728292],\n",
       "        [0.37697716],\n",
       "        [0.49767551],\n",
       "        [0.53803288],\n",
       "        [0.55192821],\n",
       "        [0.62024348],\n",
       "        [0.51047058],\n",
       "        [0.48647082],\n",
       "        [0.41747634],\n",
       "        [0.28427817],\n",
       "        [0.16309115],\n",
       "        [0.10268271],\n",
       "        [0.24689286],\n",
       "        [0.3454618 ],\n",
       "        [0.40423986],\n",
       "        [0.42151084],\n",
       "        [0.41797011],\n",
       "        [0.45169179],\n",
       "        [0.41887911],\n",
       "        [0.40972803],\n",
       "        [0.31339595],\n",
       "        [0.23591506],\n",
       "        [0.12980579],\n",
       "        [0.09307932],\n",
       "        [0.19444507],\n",
       "        [0.29743684],\n",
       "        [0.39142952],\n",
       "        [0.40833181],\n",
       "        [0.40654945],\n",
       "        [0.47764626],\n",
       "        [0.39026746],\n",
       "        [0.37085605]]])"
      ]
     },
     "execution_count": 52,
     "metadata": {},
     "output_type": "execute_result"
    }
   ],
   "source": [
    "np.append(current_batch[:,1:,:], [[[0.37085605]]], axis = 1)"
   ]
  },
  {
   "cell_type": "code",
   "execution_count": 53,
   "metadata": {},
   "outputs": [],
   "source": [
    "predictions_scaled = []\n",
    "\n",
    "first_eval_batch = train_scaled[-length:]\n",
    "current_batch = first_eval_batch.reshape((1, length, 1))\n",
    "\n",
    "for i in range(len(test)):\n",
    "    \n",
    "    current_pred = model.predict(current_batch)\n",
    "    \n",
    "    predictions_scaled.append(current_pred[0]) \n",
    "    \n",
    "    current_batch = np.append(current_batch[:, 1:, :], [current_pred], axis = 1)"
   ]
  },
  {
   "cell_type": "code",
   "execution_count": 54,
   "metadata": {
    "scrolled": true,
    "tags": []
   },
   "outputs": [
    {
     "data": {
      "text/plain": [
       "[array([0.37085605], dtype=float32),\n",
       " array([0.30108336], dtype=float32),\n",
       " array([0.23371542], dtype=float32),\n",
       " array([0.16723183], dtype=float32),\n",
       " array([0.16139382], dtype=float32),\n",
       " array([0.22981656], dtype=float32),\n",
       " array([0.299652], dtype=float32),\n",
       " array([0.3758369], dtype=float32),\n",
       " array([0.39513168], dtype=float32),\n",
       " array([0.4012222], dtype=float32),\n",
       " array([0.41110516], dtype=float32),\n",
       " array([0.34968543], dtype=float32),\n",
       " array([0.3261219], dtype=float32),\n",
       " array([0.26224753], dtype=float32),\n",
       " array([0.22039022], dtype=float32),\n",
       " array([0.17503726], dtype=float32),\n",
       " array([0.18094814], dtype=float32),\n",
       " array([0.23031619], dtype=float32),\n",
       " array([0.28667873], dtype=float32),\n",
       " array([0.34438792], dtype=float32),\n",
       " array([0.35859507], dtype=float32),\n",
       " array([0.35697508], dtype=float32),\n",
       " array([0.3574373], dtype=float32),\n",
       " array([0.30648914], dtype=float32),\n",
       " array([0.28611067], dtype=float32),\n",
       " array([0.23841037], dtype=float32),\n",
       " array([0.21352986], dtype=float32),\n",
       " array([0.18364258], dtype=float32),\n",
       " array([0.19367789], dtype=float32),\n",
       " array([0.23032084], dtype=float32),\n",
       " array([0.27245012], dtype=float32),\n",
       " array([0.31388754], dtype=float32),\n",
       " array([0.32205793], dtype=float32),\n",
       " array([0.32273087], dtype=float32),\n",
       " array([0.31053135], dtype=float32),\n",
       " array([0.27245808], dtype=float32),\n",
       " array([0.2566818], dtype=float32),\n",
       " array([0.21767335], dtype=float32),\n",
       " array([0.20432909], dtype=float32),\n",
       " array([0.18343839], dtype=float32),\n",
       " array([0.19378999], dtype=float32),\n",
       " array([0.21934555], dtype=float32),\n",
       " array([0.24870759], dtype=float32),\n",
       " array([0.27892324], dtype=float32),\n",
       " array([0.2845248], dtype=float32),\n",
       " array([0.28060946], dtype=float32),\n",
       " array([0.26669726], dtype=float32),\n",
       " array([0.23941739], dtype=float32),\n",
       " array([0.22349513], dtype=float32),\n",
       " array([0.19558093], dtype=float32),\n",
       " array([0.18875076], dtype=float32),\n",
       " array([0.17285597], dtype=float32),\n",
       " array([0.18307714], dtype=float32),\n",
       " array([0.19954439], dtype=float32),\n",
       " array([0.22158024], dtype=float32),\n",
       " array([0.24355549], dtype=float32),\n",
       " array([0.24490218], dtype=float32),\n",
       " array([0.24299207], dtype=float32),\n",
       " array([0.23022181], dtype=float32),\n",
       " array([0.20980404], dtype=float32),\n",
       " array([0.19715339], dtype=float32),\n",
       " array([0.17717452], dtype=float32),\n",
       " array([0.17286925], dtype=float32),\n",
       " array([0.16157477], dtype=float32),\n",
       " array([0.17054902], dtype=float32),\n",
       " array([0.18112153], dtype=float32),\n",
       " array([0.19735648], dtype=float32),\n",
       " array([0.21259643], dtype=float32),\n",
       " array([0.21376956], dtype=float32),\n",
       " array([0.21204229], dtype=float32),\n",
       " array([0.20108275], dtype=float32),\n",
       " array([0.18646358], dtype=float32),\n",
       " array([0.17532687], dtype=float32),\n",
       " array([0.16086355], dtype=float32),\n",
       " array([0.1576138], dtype=float32),\n",
       " array([0.14903468], dtype=float32),\n",
       " array([0.15618987], dtype=float32),\n",
       " array([0.16246612], dtype=float32),\n",
       " array([0.17479748], dtype=float32),\n",
       " array([0.18545233], dtype=float32),\n",
       " array([0.185978], dtype=float32),\n",
       " array([0.18504307], dtype=float32),\n",
       " array([0.1757821], dtype=float32),\n",
       " array([0.16469933], dtype=float32),\n",
       " array([0.15518707], dtype=float32),\n",
       " array([0.14447507], dtype=float32)]"
      ]
     },
     "execution_count": 54,
     "metadata": {},
     "output_type": "execute_result"
    }
   ],
   "source": [
    "predictions_scaled"
   ]
  },
  {
   "cell_type": "code",
   "execution_count": 55,
   "metadata": {
    "scrolled": true,
    "tags": []
   },
   "outputs": [
    {
     "data": {
      "text/plain": [
       "array([[0.35620545],\n",
       "       [0.27422828],\n",
       "       [0.2198076 ],\n",
       "       [0.11764411],\n",
       "       [0.07351475],\n",
       "       [0.14149624],\n",
       "       [0.2863296 ],\n",
       "       [0.35795581],\n",
       "       [0.35814561],\n",
       "       [0.37998486],\n",
       "       [0.50926561],\n",
       "       [0.39057433],\n",
       "       [0.34465461],\n",
       "       [0.28747203],\n",
       "       [0.23516459],\n",
       "       [0.15569044],\n",
       "       [0.06649001],\n",
       "       [0.20170834],\n",
       "       [0.31321197],\n",
       "       [0.40080166],\n",
       "       [0.44136265],\n",
       "       [0.42156466],\n",
       "       [0.52634606],\n",
       "       [0.42622818],\n",
       "       [0.38365722],\n",
       "       [0.30511534],\n",
       "       [0.23707931],\n",
       "       [0.20297948],\n",
       "       [0.12155208],\n",
       "       [0.19574094],\n",
       "       [0.30468338],\n",
       "       [0.37028329],\n",
       "       [0.36143183],\n",
       "       [0.34467716],\n",
       "       [0.41797884],\n",
       "       [0.36154745],\n",
       "       [0.38938173],\n",
       "       [0.30315844],\n",
       "       [0.25649698],\n",
       "       [0.19782873],\n",
       "       [0.13318726],\n",
       "       [0.24834362],\n",
       "       [0.3149827 ],\n",
       "       [0.41828135],\n",
       "       [0.4766849 ],\n",
       "       [0.45728977],\n",
       "       [0.54050318],\n",
       "       [0.48134479],\n",
       "       [0.45575247],\n",
       "       [0.35906261],\n",
       "       [0.31068714],\n",
       "       [0.20365141],\n",
       "       [0.16432593],\n",
       "       [0.2587782 ],\n",
       "       [0.39071032],\n",
       "       [0.44387077],\n",
       "       [0.4695409 ],\n",
       "       [0.41743926],\n",
       "       [0.46851409],\n",
       "       [0.41889656],\n",
       "       [0.39641011],\n",
       "       [0.28544533],\n",
       "       [0.23134679],\n",
       "       [0.13655347],\n",
       "       [0.12472921],\n",
       "       [0.18015997],\n",
       "       [0.29691617],\n",
       "       [0.35382169],\n",
       "       [0.39102302],\n",
       "       [0.37592272],\n",
       "       [0.47940099],\n",
       "       [0.42586022],\n",
       "       [0.3928192 ],\n",
       "       [0.32470899],\n",
       "       [0.2434103 ],\n",
       "       [0.17289089],\n",
       "       [0.13163033],\n",
       "       [0.20608099],\n",
       "       [0.28689318],\n",
       "       [0.41822681],\n",
       "       [0.40948951],\n",
       "       [0.40651527],\n",
       "       [0.48213817],\n",
       "       [0.37525952],\n",
       "       [0.3195946 ],\n",
       "       [0.31216335]])"
      ]
     },
     "execution_count": 55,
     "metadata": {},
     "output_type": "execute_result"
    }
   ],
   "source": [
    "test_scaled"
   ]
  },
  {
   "cell_type": "code",
   "execution_count": null,
   "metadata": {
    "id": "Bhvrnix7W0Ub"
   },
   "outputs": [],
   "source": []
  },
  {
   "cell_type": "markdown",
   "metadata": {
    "id": "uiuwaoCZW0Ub"
   },
   "source": [
    "#### Inverse Transformations and Comparing"
   ]
  },
  {
   "cell_type": "code",
   "execution_count": 56,
   "metadata": {},
   "outputs": [],
   "source": [
    "predictions = scaler.inverse_transform(predictions_scaled)"
   ]
  },
  {
   "cell_type": "code",
   "execution_count": 57,
   "metadata": {
    "scrolled": true,
    "tags": []
   },
   "outputs": [
    {
     "data": {
      "text/plain": [
       "array([[109.65766132],\n",
       "       [100.06294653],\n",
       "       [ 90.79891821],\n",
       "       [ 81.65650087],\n",
       "       [ 80.85369379],\n",
       "       [ 90.2627709 ],\n",
       "       [ 99.86611657],\n",
       "       [110.3425991 ],\n",
       "       [112.99589797],\n",
       "       [113.83342938],\n",
       "       [115.1924733 ],\n",
       "       [106.74640732],\n",
       "       [103.50609386],\n",
       "       [ 94.72248097],\n",
       "       [ 88.96651806],\n",
       "       [ 82.72985693],\n",
       "       [ 83.54268419],\n",
       "       [ 90.33147778],\n",
       "       [ 98.08211041],\n",
       "       [106.01792581],\n",
       "       [107.97160704],\n",
       "       [107.74883526],\n",
       "       [107.81239886],\n",
       "       [100.80631692],\n",
       "       [ 98.00399398],\n",
       "       [ 91.44453958],\n",
       "       [ 88.02312313],\n",
       "       [ 83.91320753],\n",
       "       [ 85.29320163],\n",
       "       [ 90.33211711],\n",
       "       [ 96.12547845],\n",
       "       [101.82369931],\n",
       "       [102.94724234],\n",
       "       [103.03978045],\n",
       "       [101.36217673],\n",
       "       [ 96.12657268],\n",
       "       [ 93.95711536],\n",
       "       [ 88.59291079],\n",
       "       [ 86.75788982],\n",
       "       [ 83.88512849],\n",
       "       [ 85.30861713],\n",
       "       [ 88.82286268],\n",
       "       [ 92.860551  ],\n",
       "       [ 97.01562298],\n",
       "       [ 97.78591467],\n",
       "       [ 97.24750104],\n",
       "       [ 95.33438003],\n",
       "       [ 91.58301889],\n",
       "       [ 89.39348638],\n",
       "       [ 85.55489638],\n",
       "       [ 84.61565297],\n",
       "       [ 82.42989902],\n",
       "       [ 83.83545175],\n",
       "       [ 86.09992661],\n",
       "       [ 89.13016257],\n",
       "       [ 92.15206477],\n",
       "       [ 92.3372537 ],\n",
       "       [ 92.07458767],\n",
       "       [ 90.31849868],\n",
       "       [ 87.51077221],\n",
       "       [ 85.77113148],\n",
       "       [ 83.0237597 ],\n",
       "       [ 82.43172478],\n",
       "       [ 80.87857622],\n",
       "       [ 82.1126609 ],\n",
       "       [ 83.56652771],\n",
       "       [ 85.79905889],\n",
       "       [ 87.8947644 ],\n",
       "       [ 88.05608522],\n",
       "       [ 87.81856185],\n",
       "       [ 86.31147333],\n",
       "       [ 84.30113403],\n",
       "       [ 82.76968152],\n",
       "       [ 80.78077392],\n",
       "       [ 80.33388819],\n",
       "       [ 79.15413994],\n",
       "       [ 80.13807869],\n",
       "       [ 81.00115029],\n",
       "       [ 82.69688254],\n",
       "       [ 84.16207277],\n",
       "       [ 84.23435946],\n",
       "       [ 84.10579378],\n",
       "       [ 82.83228203],\n",
       "       [ 81.30824732],\n",
       "       [ 80.00017928],\n",
       "       [ 78.52713069]])"
      ]
     },
     "execution_count": 57,
     "metadata": {},
     "output_type": "execute_result"
    }
   ],
   "source": [
    "predictions"
   ]
  },
  {
   "cell_type": "code",
   "execution_count": 58,
   "metadata": {},
   "outputs": [
    {
     "data": {
      "text/html": [
       "<div>\n",
       "<style scoped>\n",
       "    .dataframe tbody tr th:only-of-type {\n",
       "        vertical-align: middle;\n",
       "    }\n",
       "\n",
       "    .dataframe tbody tr th {\n",
       "        vertical-align: top;\n",
       "    }\n",
       "\n",
       "    .dataframe thead th {\n",
       "        text-align: right;\n",
       "    }\n",
       "</style>\n",
       "<table border=\"1\" class=\"dataframe\">\n",
       "  <thead>\n",
       "    <tr style=\"text-align: right;\">\n",
       "      <th></th>\n",
       "      <th>Production</th>\n",
       "    </tr>\n",
       "    <tr>\n",
       "      <th>DATE</th>\n",
       "      <th></th>\n",
       "    </tr>\n",
       "  </thead>\n",
       "  <tbody>\n",
       "    <tr>\n",
       "      <th>2012-08-01</th>\n",
       "      <td>107.643</td>\n",
       "    </tr>\n",
       "    <tr>\n",
       "      <th>2012-09-01</th>\n",
       "      <td>96.370</td>\n",
       "    </tr>\n",
       "    <tr>\n",
       "      <th>2012-10-01</th>\n",
       "      <td>88.886</td>\n",
       "    </tr>\n",
       "    <tr>\n",
       "      <th>2012-11-01</th>\n",
       "      <td>74.838</td>\n",
       "    </tr>\n",
       "    <tr>\n",
       "      <th>2012-12-01</th>\n",
       "      <td>68.769</td>\n",
       "    </tr>\n",
       "    <tr>\n",
       "      <th>...</th>\n",
       "      <td>...</td>\n",
       "    </tr>\n",
       "    <tr>\n",
       "      <th>2019-05-01</th>\n",
       "      <td>114.561</td>\n",
       "    </tr>\n",
       "    <tr>\n",
       "      <th>2019-06-01</th>\n",
       "      <td>124.960</td>\n",
       "    </tr>\n",
       "    <tr>\n",
       "      <th>2019-07-01</th>\n",
       "      <td>110.263</td>\n",
       "    </tr>\n",
       "    <tr>\n",
       "      <th>2019-08-01</th>\n",
       "      <td>102.609</td>\n",
       "    </tr>\n",
       "    <tr>\n",
       "      <th>2019-09-01</th>\n",
       "      <td>101.587</td>\n",
       "    </tr>\n",
       "  </tbody>\n",
       "</table>\n",
       "<p>86 rows × 1 columns</p>\n",
       "</div>"
      ],
      "text/plain": [
       "            Production\n",
       "DATE                  \n",
       "2012-08-01     107.643\n",
       "2012-09-01      96.370\n",
       "2012-10-01      88.886\n",
       "2012-11-01      74.838\n",
       "2012-12-01      68.769\n",
       "...                ...\n",
       "2019-05-01     114.561\n",
       "2019-06-01     124.960\n",
       "2019-07-01     110.263\n",
       "2019-08-01     102.609\n",
       "2019-09-01     101.587\n",
       "\n",
       "[86 rows x 1 columns]"
      ]
     },
     "execution_count": 58,
     "metadata": {},
     "output_type": "execute_result"
    }
   ],
   "source": [
    "test"
   ]
  },
  {
   "cell_type": "code",
   "execution_count": 68,
   "metadata": {},
   "outputs": [],
   "source": [
    "test['RNN_Predictions'] = predictions"
   ]
  },
  {
   "cell_type": "code",
   "execution_count": 69,
   "metadata": {},
   "outputs": [
    {
     "data": {
      "text/html": [
       "<div>\n",
       "<style scoped>\n",
       "    .dataframe tbody tr th:only-of-type {\n",
       "        vertical-align: middle;\n",
       "    }\n",
       "\n",
       "    .dataframe tbody tr th {\n",
       "        vertical-align: top;\n",
       "    }\n",
       "\n",
       "    .dataframe thead th {\n",
       "        text-align: right;\n",
       "    }\n",
       "</style>\n",
       "<table border=\"1\" class=\"dataframe\">\n",
       "  <thead>\n",
       "    <tr style=\"text-align: right;\">\n",
       "      <th></th>\n",
       "      <th>Production</th>\n",
       "      <th>RNN_Predictions</th>\n",
       "    </tr>\n",
       "    <tr>\n",
       "      <th>DATE</th>\n",
       "      <th></th>\n",
       "      <th></th>\n",
       "    </tr>\n",
       "  </thead>\n",
       "  <tbody>\n",
       "    <tr>\n",
       "      <th>2012-08-01</th>\n",
       "      <td>107.643</td>\n",
       "      <td>109.658</td>\n",
       "    </tr>\n",
       "    <tr>\n",
       "      <th>2012-09-01</th>\n",
       "      <td>96.370</td>\n",
       "      <td>100.063</td>\n",
       "    </tr>\n",
       "    <tr>\n",
       "      <th>2012-10-01</th>\n",
       "      <td>88.886</td>\n",
       "      <td>90.799</td>\n",
       "    </tr>\n",
       "    <tr>\n",
       "      <th>2012-11-01</th>\n",
       "      <td>74.838</td>\n",
       "      <td>81.657</td>\n",
       "    </tr>\n",
       "    <tr>\n",
       "      <th>2012-12-01</th>\n",
       "      <td>68.769</td>\n",
       "      <td>80.854</td>\n",
       "    </tr>\n",
       "    <tr>\n",
       "      <th>...</th>\n",
       "      <td>...</td>\n",
       "      <td>...</td>\n",
       "    </tr>\n",
       "    <tr>\n",
       "      <th>2019-05-01</th>\n",
       "      <td>114.561</td>\n",
       "      <td>84.106</td>\n",
       "    </tr>\n",
       "    <tr>\n",
       "      <th>2019-06-01</th>\n",
       "      <td>124.960</td>\n",
       "      <td>82.832</td>\n",
       "    </tr>\n",
       "    <tr>\n",
       "      <th>2019-07-01</th>\n",
       "      <td>110.263</td>\n",
       "      <td>81.308</td>\n",
       "    </tr>\n",
       "    <tr>\n",
       "      <th>2019-08-01</th>\n",
       "      <td>102.609</td>\n",
       "      <td>80.000</td>\n",
       "    </tr>\n",
       "    <tr>\n",
       "      <th>2019-09-01</th>\n",
       "      <td>101.587</td>\n",
       "      <td>78.527</td>\n",
       "    </tr>\n",
       "  </tbody>\n",
       "</table>\n",
       "<p>86 rows × 2 columns</p>\n",
       "</div>"
      ],
      "text/plain": [
       "            Production  RNN_Predictions\n",
       "DATE                                   \n",
       "2012-08-01     107.643          109.658\n",
       "2012-09-01      96.370          100.063\n",
       "2012-10-01      88.886           90.799\n",
       "2012-11-01      74.838           81.657\n",
       "2012-12-01      68.769           80.854\n",
       "...                ...              ...\n",
       "2019-05-01     114.561           84.106\n",
       "2019-06-01     124.960           82.832\n",
       "2019-07-01     110.263           81.308\n",
       "2019-08-01     102.609           80.000\n",
       "2019-09-01     101.587           78.527\n",
       "\n",
       "[86 rows x 2 columns]"
      ]
     },
     "execution_count": 69,
     "metadata": {},
     "output_type": "execute_result"
    }
   ],
   "source": [
    "test"
   ]
  },
  {
   "cell_type": "code",
   "execution_count": 70,
   "metadata": {
    "id": "jCKSgQrxW0Uc"
   },
   "outputs": [
    {
     "data": {
      "text/plain": [
       "<AxesSubplot:xlabel='DATE'>"
      ]
     },
     "execution_count": 70,
     "metadata": {},
     "output_type": "execute_result"
    },
    {
     "data": {
      "image/png": "[encoded data removed]",
      "text/plain": [
       "<Figure size 720x432 with 1 Axes>"
      ]
     },
     "metadata": {},
     "output_type": "display_data"
    }
   ],
   "source": [
    "test.plot()"
   ]
  },
  {
   "cell_type": "markdown",
   "metadata": {
    "id": "8LWk7fR2W0Uc"
   },
   "source": [
    "#### Calculation R2 Score and Error Metrics"
   ]
  },
  {
   "cell_type": "code",
   "execution_count": 71,
   "metadata": {},
   "outputs": [],
   "source": [
    "from sklearn.metrics import mean_absolute_error, mean_squared_error, r2_score"
   ]
  },
  {
   "cell_type": "code",
   "execution_count": 72,
   "metadata": {},
   "outputs": [],
   "source": [
    "def eval_metrics(actual, pred):\n",
    "    rmse = np.sqrt(mean_squared_error(actual, pred))\n",
    "    mae = mean_absolute_error(actual, pred)\n",
    "    mse = mean_squared_error(actual, pred)\n",
    "    score = r2_score(actual, pred)\n",
    "    return print(\"r2_score:\", score, \"\\nmae:\", mae, \"\\nmse:\",mse, \"\\nrmse:\",rmse)"
   ]
  },
  {
   "cell_type": "code",
   "execution_count": 74,
   "metadata": {
    "id": "6NL6kGVpW0Uc"
   },
   "outputs": [
    {
     "name": "stdout",
     "output_type": "stream",
     "text": [
      "r2_score: -0.3286441369316562 \n",
      "mae: 14.314714307961133 \n",
      "mse: 326.631974000837 \n",
      "rmse: 18.07296251312543\n"
     ]
    }
   ],
   "source": [
    "eval_metrics(test.Production, test.RNN_Predictions)"
   ]
  },
  {
   "cell_type": "markdown",
   "metadata": {
    "id": "AeWZTdyPW0Ud"
   },
   "source": [
    "### with \"relu\" activation function"
   ]
  },
  {
   "cell_type": "code",
   "execution_count": 76,
   "metadata": {
    "id": "lrlNA3cIW0Ud"
   },
   "outputs": [],
   "source": [
    "model = Sequential()\n",
    "model.add(SimpleRNN(units = 80, activation = \"relu\", input_shape=(length, 1)))\n",
    "model.add(Dense(units = 1))\n",
    "model.compile(optimizer='adam', loss='mse')"
   ]
  },
  {
   "cell_type": "code",
   "execution_count": 77,
   "metadata": {},
   "outputs": [
    {
     "name": "stdout",
     "output_type": "stream",
     "text": [
      "Model: \"sequential_2\"\n",
      "_________________________________________________________________\n",
      "Layer (type)                 Output Shape              Param #   \n",
      "=================================================================\n",
      "simple_rnn_2 (SimpleRNN)     (None, 80)                6560      \n",
      "_________________________________________________________________\n",
      "dense_2 (Dense)              (None, 1)                 81        \n",
      "=================================================================\n",
      "Total params: 6,641\n",
      "Trainable params: 6,641\n",
      "Non-trainable params: 0\n",
      "_________________________________________________________________\n"
     ]
    }
   ],
   "source": [
    "model.summary()"
   ]
  },
  {
   "cell_type": "code",
   "execution_count": 78,
   "metadata": {},
   "outputs": [
    {
     "name": "stdout",
     "output_type": "stream",
     "text": [
      "Epoch 1/5\n",
      "427/427 [==============================] - 8s 17ms/step - loss: 0.0085\n",
      "Epoch 2/5\n",
      "427/427 [==============================] - 8s 18ms/step - loss: 0.0037: 0s - l\n",
      "Epoch 3/5\n",
      "427/427 [==============================] - 7s 17ms/step - loss: 0.0026: 0s - loss: 0.00\n",
      "Epoch 4/5\n",
      "427/427 [==============================] - 8s 18ms/step - loss: 0.0028\n",
      "Epoch 5/5\n",
      "427/427 [==============================] - 7s 17ms/step - loss: 0.0024\n"
     ]
    },
    {
     "data": {
      "text/plain": [
       "<keras.callbacks.History at 0x284366ceb20>"
      ]
     },
     "execution_count": 78,
     "metadata": {},
     "output_type": "execute_result"
    }
   ],
   "source": [
    "model.fit_generator(generator = generator, epochs = 5)"
   ]
  },
  {
   "cell_type": "markdown",
   "metadata": {
    "id": "UEwhDIzzW0Ud"
   },
   "source": [
    "#### Evaluate on Test Data"
   ]
  },
  {
   "cell_type": "code",
   "execution_count": 87,
   "metadata": {},
   "outputs": [],
   "source": [
    "first_eval_batch = train_scaled[-length:]"
   ]
  },
  {
   "cell_type": "code",
   "execution_count": 88,
   "metadata": {},
   "outputs": [
    {
     "data": {
      "text/plain": [
       "(60, 1)"
      ]
     },
     "execution_count": 88,
     "metadata": {},
     "output_type": "execute_result"
    }
   ],
   "source": [
    "first_eval_batch.shape"
   ]
  },
  {
   "cell_type": "code",
   "execution_count": 89,
   "metadata": {},
   "outputs": [],
   "source": [
    "first_eval_batch = first_eval_batch.reshape((1, length, 1))"
   ]
  },
  {
   "cell_type": "code",
   "execution_count": 90,
   "metadata": {},
   "outputs": [
    {
     "data": {
      "text/plain": [
       "(1, 60, 1)"
      ]
     },
     "execution_count": 90,
     "metadata": {},
     "output_type": "execute_result"
    }
   ],
   "source": [
    "first_eval_batch.shape"
   ]
  },
  {
   "cell_type": "code",
   "execution_count": 91,
   "metadata": {},
   "outputs": [
    {
     "data": {
      "text/plain": [
       "array([[0.35526145]], dtype=float32)"
      ]
     },
     "execution_count": 91,
     "metadata": {},
     "output_type": "execute_result"
    }
   ],
   "source": [
    "model.predict(first_eval_batch)"
   ]
  },
  {
   "cell_type": "code",
   "execution_count": 92,
   "metadata": {
    "id": "sEIphpveW0Ud"
   },
   "outputs": [],
   "source": [
    "test_predictions = []\n",
    "\n",
    "first_eval_batch = train_scaled[-length:]\n",
    "current_batch = first_eval_batch.reshape((1, length, 1))"
   ]
  },
  {
   "cell_type": "code",
   "execution_count": 93,
   "metadata": {
    "scrolled": true,
    "tags": []
   },
   "outputs": [
    {
     "data": {
      "text/plain": [
       "array([[[0.60582894],\n",
       "        [0.49204408],\n",
       "        [0.32987647],\n",
       "        [0.2969518 ],\n",
       "        [0.35876955],\n",
       "        [0.48110555],\n",
       "        [0.59006762],\n",
       "        [0.60473814],\n",
       "        [0.61824732],\n",
       "        [0.80533386],\n",
       "        [0.62801433],\n",
       "        [0.58998181],\n",
       "        [0.47530395],\n",
       "        [0.36576521],\n",
       "        [0.3184129 ],\n",
       "        [0.18278007],\n",
       "        [0.25838552],\n",
       "        [0.41127697],\n",
       "        [0.51611292],\n",
       "        [0.54115039],\n",
       "        [0.57690677],\n",
       "        [0.66681259],\n",
       "        [0.55138499],\n",
       "        [0.53718642],\n",
       "        [0.4420215 ],\n",
       "        [0.34988681],\n",
       "        [0.21230072],\n",
       "        [0.13914302],\n",
       "        [0.23728292],\n",
       "        [0.37697716],\n",
       "        [0.49767551],\n",
       "        [0.53803288],\n",
       "        [0.55192821],\n",
       "        [0.62024348],\n",
       "        [0.51047058],\n",
       "        [0.48647082],\n",
       "        [0.41747634],\n",
       "        [0.28427817],\n",
       "        [0.16309115],\n",
       "        [0.10268271],\n",
       "        [0.24689286],\n",
       "        [0.3454618 ],\n",
       "        [0.40423986],\n",
       "        [0.42151084],\n",
       "        [0.41797011],\n",
       "        [0.45169179],\n",
       "        [0.41887911],\n",
       "        [0.40972803],\n",
       "        [0.31339595],\n",
       "        [0.23591506],\n",
       "        [0.12980579],\n",
       "        [0.09307932],\n",
       "        [0.19444507],\n",
       "        [0.29743684],\n",
       "        [0.39142952],\n",
       "        [0.40833181],\n",
       "        [0.40654945],\n",
       "        [0.47764626],\n",
       "        [0.39026746],\n",
       "        [0.35526145]]])"
      ]
     },
     "execution_count": 93,
     "metadata": {},
     "output_type": "execute_result"
    }
   ],
   "source": [
    "np.append(current_batch[:,1:,:], [[[0.35526145]]], axis = 1)"
   ]
  },
  {
   "cell_type": "code",
   "execution_count": 94,
   "metadata": {},
   "outputs": [],
   "source": [
    "predictions_scaled = []\n",
    "\n",
    "first_eval_batch = train_scaled[-length:]\n",
    "current_batch = first_eval_batch.reshape((1, length, 1))\n",
    "\n",
    "for i in range(len(test)):\n",
    "    \n",
    "    current_pred = model.predict(current_batch)\n",
    "    \n",
    "    predictions_scaled.append(current_pred[0]) \n",
    "    \n",
    "    current_batch = np.append(current_batch[:, 1:, :], [current_pred], axis = 1)"
   ]
  },
  {
   "cell_type": "code",
   "execution_count": 95,
   "metadata": {
    "scrolled": true,
    "tags": []
   },
   "outputs": [
    {
     "data": {
      "text/plain": [
       "[array([0.35526145], dtype=float32),\n",
       " array([0.28203636], dtype=float32),\n",
       " array([0.21139072], dtype=float32),\n",
       " array([0.1683154], dtype=float32),\n",
       " array([0.1611838], dtype=float32),\n",
       " array([0.22965944], dtype=float32),\n",
       " array([0.32595998], dtype=float32),\n",
       " array([0.38091278], dtype=float32),\n",
       " array([0.41221073], dtype=float32),\n",
       " array([0.47265732], dtype=float32),\n",
       " array([0.52461934], dtype=float32),\n",
       " array([0.49697787], dtype=float32),\n",
       " array([0.44846958], dtype=float32),\n",
       " array([0.3773605], dtype=float32),\n",
       " array([0.3018212], dtype=float32),\n",
       " array([0.24479894], dtype=float32),\n",
       " array([0.22051439], dtype=float32),\n",
       " array([0.28113252], dtype=float32),\n",
       " array([0.3919174], dtype=float32),\n",
       " array([0.46230012], dtype=float32),\n",
       " array([0.5024946], dtype=float32),\n",
       " array([0.54812354], dtype=float32),\n",
       " array([0.6262595], dtype=float32),\n",
       " array([0.5946229], dtype=float32),\n",
       " array([0.5464328], dtype=float32),\n",
       " array([0.46591717], dtype=float32),\n",
       " array([0.3812073], dtype=float32),\n",
       " array([0.31216484], dtype=float32),\n",
       " array([0.27624533], dtype=float32),\n",
       " array([0.32885104], dtype=float32),\n",
       " array([0.44724682], dtype=float32),\n",
       " array([0.53361917], dtype=float32),\n",
       " array([0.5728525], dtype=float32),\n",
       " array([0.61685413], dtype=float32),\n",
       " array([0.70871097], dtype=float32),\n",
       " array([0.6850749], dtype=float32),\n",
       " array([0.6370841], dtype=float32),\n",
       " array([0.5553119], dtype=float32),\n",
       " array([0.4631786], dtype=float32),\n",
       " array([0.38115472], dtype=float32),\n",
       " array([0.3345292], dtype=float32),\n",
       " array([0.37581173], dtype=float32),\n",
       " array([0.49612162], dtype=float32),\n",
       " array([0.59891605], dtype=float32),\n",
       " array([0.6390535], dtype=float32),\n",
       " array([0.6863124], dtype=float32),\n",
       " array([0.77855456], dtype=float32),\n",
       " array([0.76856387], dtype=float32),\n",
       " array([0.722927], dtype=float32),\n",
       " array([0.63913316], dtype=float32),\n",
       " array([0.543704], dtype=float32),\n",
       " array([0.45113534], dtype=float32),\n",
       " array([0.39241835], dtype=float32),\n",
       " array([0.4172229], dtype=float32),\n",
       " array([0.5374635], dtype=float32),\n",
       " array([0.6590749], dtype=float32),\n",
       " array([0.7056826], dtype=float32),\n",
       " array([0.7568613], dtype=float32),\n",
       " array([0.8354541], dtype=float32),\n",
       " array([0.850339], dtype=float32),\n",
       " array([0.8029209], dtype=float32),\n",
       " array([0.71751446], dtype=float32),\n",
       " array([0.6208232], dtype=float32),\n",
       " array([0.5202993], dtype=float32),\n",
       " array([0.45116013], dtype=float32),\n",
       " array([0.4591897], dtype=float32),\n",
       " array([0.58045876], dtype=float32),\n",
       " array([0.71565115], dtype=float32),\n",
       " array([0.77174544], dtype=float32),\n",
       " array([0.8231228], dtype=float32),\n",
       " array([0.892925], dtype=float32),\n",
       " array([0.9240771], dtype=float32),\n",
       " array([0.876794], dtype=float32),\n",
       " array([0.7896478], dtype=float32),\n",
       " array([0.6901178], dtype=float32),\n",
       " array([0.58336496], dtype=float32),\n",
       " array([0.5051953], dtype=float32),\n",
       " array([0.50019294], dtype=float32),\n",
       " array([0.6226511], dtype=float32),\n",
       " array([0.7683349], dtype=float32),\n",
       " array([0.8307039], dtype=float32),\n",
       " array([0.8814327], dtype=float32),\n",
       " array([0.9496947], dtype=float32),\n",
       " array([0.99041766], dtype=float32),\n",
       " array([0.9449846], dtype=float32),\n",
       " array([0.8570934], dtype=float32)]"
      ]
     },
     "execution_count": 95,
     "metadata": {},
     "output_type": "execute_result"
    }
   ],
   "source": [
    "predictions_scaled"
   ]
  },
  {
   "cell_type": "code",
   "execution_count": 96,
   "metadata": {
    "scrolled": true,
    "tags": []
   },
   "outputs": [
    {
     "data": {
      "text/plain": [
       "array([[0.35620545],\n",
       "       [0.27422828],\n",
       "       [0.2198076 ],\n",
       "       [0.11764411],\n",
       "       [0.07351475],\n",
       "       [0.14149624],\n",
       "       [0.2863296 ],\n",
       "       [0.35795581],\n",
       "       [0.35814561],\n",
       "       [0.37998486],\n",
       "       [0.50926561],\n",
       "       [0.39057433],\n",
       "       [0.34465461],\n",
       "       [0.28747203],\n",
       "       [0.23516459],\n",
       "       [0.15569044],\n",
       "       [0.06649001],\n",
       "       [0.20170834],\n",
       "       [0.31321197],\n",
       "       [0.40080166],\n",
       "       [0.44136265],\n",
       "       [0.42156466],\n",
       "       [0.52634606],\n",
       "       [0.42622818],\n",
       "       [0.38365722],\n",
       "       [0.30511534],\n",
       "       [0.23707931],\n",
       "       [0.20297948],\n",
       "       [0.12155208],\n",
       "       [0.19574094],\n",
       "       [0.30468338],\n",
       "       [0.37028329],\n",
       "       [0.36143183],\n",
       "       [0.34467716],\n",
       "       [0.41797884],\n",
       "       [0.36154745],\n",
       "       [0.38938173],\n",
       "       [0.30315844],\n",
       "       [0.25649698],\n",
       "       [0.19782873],\n",
       "       [0.13318726],\n",
       "       [0.24834362],\n",
       "       [0.3149827 ],\n",
       "       [0.41828135],\n",
       "       [0.4766849 ],\n",
       "       [0.45728977],\n",
       "       [0.54050318],\n",
       "       [0.48134479],\n",
       "       [0.45575247],\n",
       "       [0.35906261],\n",
       "       [0.31068714],\n",
       "       [0.20365141],\n",
       "       [0.16432593],\n",
       "       [0.2587782 ],\n",
       "       [0.39071032],\n",
       "       [0.44387077],\n",
       "       [0.4695409 ],\n",
       "       [0.41743926],\n",
       "       [0.46851409],\n",
       "       [0.41889656],\n",
       "       [0.39641011],\n",
       "       [0.28544533],\n",
       "       [0.23134679],\n",
       "       [0.13655347],\n",
       "       [0.12472921],\n",
       "       [0.18015997],\n",
       "       [0.29691617],\n",
       "       [0.35382169],\n",
       "       [0.39102302],\n",
       "       [0.37592272],\n",
       "       [0.47940099],\n",
       "       [0.42586022],\n",
       "       [0.3928192 ],\n",
       "       [0.32470899],\n",
       "       [0.2434103 ],\n",
       "       [0.17289089],\n",
       "       [0.13163033],\n",
       "       [0.20608099],\n",
       "       [0.28689318],\n",
       "       [0.41822681],\n",
       "       [0.40948951],\n",
       "       [0.40651527],\n",
       "       [0.48213817],\n",
       "       [0.37525952],\n",
       "       [0.3195946 ],\n",
       "       [0.31216335]])"
      ]
     },
     "execution_count": 96,
     "metadata": {},
     "output_type": "execute_result"
    }
   ],
   "source": [
    "test_scaled"
   ]
  },
  {
   "cell_type": "code",
   "execution_count": null,
   "metadata": {},
   "outputs": [],
   "source": []
  },
  {
   "cell_type": "code",
   "execution_count": null,
   "metadata": {},
   "outputs": [],
   "source": []
  },
  {
   "cell_type": "markdown",
   "metadata": {
    "id": "P17_vbkUW0Ue"
   },
   "source": [
    "#### Inverse Transformations and Comparing"
   ]
  },
  {
   "cell_type": "code",
   "execution_count": 97,
   "metadata": {},
   "outputs": [],
   "source": [
    "predictions = scaler.inverse_transform(predictions_scaled)"
   ]
  },
  {
   "cell_type": "code",
   "execution_count": 99,
   "metadata": {
    "scrolled": true,
    "tags": []
   },
   "outputs": [
    {
     "data": {
      "text/plain": [
       "array([[107.51318683],\n",
       "       [ 97.44372037],\n",
       "       [ 87.72896217],\n",
       "       [ 81.80550649],\n",
       "       [ 80.82481354],\n",
       "       [ 90.24116501],\n",
       "       [103.48382816],\n",
       "       [111.04060204],\n",
       "       [115.34450548],\n",
       "       [123.65675183],\n",
       "       [130.80225158],\n",
       "       [127.00116453],\n",
       "       [120.33060087],\n",
       "       [110.55211309],\n",
       "       [100.1644106 ],\n",
       "       [ 92.32305742],\n",
       "       [ 88.98359335],\n",
       "       [ 97.31942914],\n",
       "       [112.55389118],\n",
       "       [122.23249272],\n",
       "       [127.75978854],\n",
       "       [134.03440546],\n",
       "       [144.77918705],\n",
       "       [140.42871539],\n",
       "       [133.80190447],\n",
       "       [122.72988713],\n",
       "       [111.08110079],\n",
       "       [101.58680502],\n",
       "       [ 96.64737211],\n",
       "       [103.8813896 ],\n",
       "       [120.16245444],\n",
       "       [132.03985255],\n",
       "       [137.43498035],\n",
       "       [143.48581732],\n",
       "       [156.11740925],\n",
       "       [152.86712479],\n",
       "       [146.26772286],\n",
       "       [135.0229076 ],\n",
       "       [122.35329635],\n",
       "       [111.0738715 ],\n",
       "       [104.66221375],\n",
       "       [110.33913609],\n",
       "       [126.88341818],\n",
       "       [141.01908233],\n",
       "       [146.53854233],\n",
       "       [153.03729164],\n",
       "       [165.72187374],\n",
       "       [164.3480147 ],\n",
       "       [158.07230765],\n",
       "       [146.54949281],\n",
       "       [133.42665381],\n",
       "       [120.69717967],\n",
       "       [112.62277839],\n",
       "       [116.0337464 ],\n",
       "       [132.56850009],\n",
       "       [149.29176024],\n",
       "       [155.70096315],\n",
       "       [162.73875312],\n",
       "       [173.54635243],\n",
       "       [175.59323159],\n",
       "       [169.07258132],\n",
       "       [157.32801106],\n",
       "       [144.03162006],\n",
       "       [130.20818804],\n",
       "       [120.7005894 ],\n",
       "       [121.80476827],\n",
       "       [138.48094791],\n",
       "       [157.0717813 ],\n",
       "       [164.78552572],\n",
       "       [171.85062632],\n",
       "       [181.44940246],\n",
       "       [185.73324504],\n",
       "       [179.23115977],\n",
       "       [167.24735103],\n",
       "       [153.56058689],\n",
       "       [138.88059126],\n",
       "       [128.13117867],\n",
       "       [127.44328196],\n",
       "       [144.28298112],\n",
       "       [164.31653207],\n",
       "       [172.89313498],\n",
       "       [179.86904983],\n",
       "       [189.25602106],\n",
       "       [194.85599496],\n",
       "       [188.60831983],\n",
       "       [176.52205525]])"
      ]
     },
     "execution_count": 99,
     "metadata": {},
     "output_type": "execute_result"
    }
   ],
   "source": [
    "predictions"
   ]
  },
  {
   "cell_type": "code",
   "execution_count": 101,
   "metadata": {},
   "outputs": [],
   "source": [
    "test['Relu_Predictions'] = predictions"
   ]
  },
  {
   "cell_type": "code",
   "execution_count": 102,
   "metadata": {
    "id": "v-M3v-GIW0Ue"
   },
   "outputs": [
    {
     "data": {
      "text/html": [
       "<div>\n",
       "<style scoped>\n",
       "    .dataframe tbody tr th:only-of-type {\n",
       "        vertical-align: middle;\n",
       "    }\n",
       "\n",
       "    .dataframe tbody tr th {\n",
       "        vertical-align: top;\n",
       "    }\n",
       "\n",
       "    .dataframe thead th {\n",
       "        text-align: right;\n",
       "    }\n",
       "</style>\n",
       "<table border=\"1\" class=\"dataframe\">\n",
       "  <thead>\n",
       "    <tr style=\"text-align: right;\">\n",
       "      <th></th>\n",
       "      <th>Production</th>\n",
       "      <th>RNN_Predictions</th>\n",
       "      <th>Relu_Predictions</th>\n",
       "    </tr>\n",
       "    <tr>\n",
       "      <th>DATE</th>\n",
       "      <th></th>\n",
       "      <th></th>\n",
       "      <th></th>\n",
       "    </tr>\n",
       "  </thead>\n",
       "  <tbody>\n",
       "    <tr>\n",
       "      <th>2012-08-01</th>\n",
       "      <td>107.643</td>\n",
       "      <td>109.658</td>\n",
       "      <td>107.513</td>\n",
       "    </tr>\n",
       "    <tr>\n",
       "      <th>2012-09-01</th>\n",
       "      <td>96.370</td>\n",
       "      <td>100.063</td>\n",
       "      <td>97.444</td>\n",
       "    </tr>\n",
       "    <tr>\n",
       "      <th>2012-10-01</th>\n",
       "      <td>88.886</td>\n",
       "      <td>90.799</td>\n",
       "      <td>87.729</td>\n",
       "    </tr>\n",
       "    <tr>\n",
       "      <th>2012-11-01</th>\n",
       "      <td>74.838</td>\n",
       "      <td>81.657</td>\n",
       "      <td>81.806</td>\n",
       "    </tr>\n",
       "    <tr>\n",
       "      <th>2012-12-01</th>\n",
       "      <td>68.769</td>\n",
       "      <td>80.854</td>\n",
       "      <td>80.825</td>\n",
       "    </tr>\n",
       "    <tr>\n",
       "      <th>...</th>\n",
       "      <td>...</td>\n",
       "      <td>...</td>\n",
       "      <td>...</td>\n",
       "    </tr>\n",
       "    <tr>\n",
       "      <th>2019-05-01</th>\n",
       "      <td>114.561</td>\n",
       "      <td>84.106</td>\n",
       "      <td>179.869</td>\n",
       "    </tr>\n",
       "    <tr>\n",
       "      <th>2019-06-01</th>\n",
       "      <td>124.960</td>\n",
       "      <td>82.832</td>\n",
       "      <td>189.256</td>\n",
       "    </tr>\n",
       "    <tr>\n",
       "      <th>2019-07-01</th>\n",
       "      <td>110.263</td>\n",
       "      <td>81.308</td>\n",
       "      <td>194.856</td>\n",
       "    </tr>\n",
       "    <tr>\n",
       "      <th>2019-08-01</th>\n",
       "      <td>102.609</td>\n",
       "      <td>80.000</td>\n",
       "      <td>188.608</td>\n",
       "    </tr>\n",
       "    <tr>\n",
       "      <th>2019-09-01</th>\n",
       "      <td>101.587</td>\n",
       "      <td>78.527</td>\n",
       "      <td>176.522</td>\n",
       "    </tr>\n",
       "  </tbody>\n",
       "</table>\n",
       "<p>86 rows × 3 columns</p>\n",
       "</div>"
      ],
      "text/plain": [
       "            Production  RNN_Predictions  Relu_Predictions\n",
       "DATE                                                     \n",
       "2012-08-01     107.643          109.658           107.513\n",
       "2012-09-01      96.370          100.063            97.444\n",
       "2012-10-01      88.886           90.799            87.729\n",
       "2012-11-01      74.838           81.657            81.806\n",
       "2012-12-01      68.769           80.854            80.825\n",
       "...                ...              ...               ...\n",
       "2019-05-01     114.561           84.106           179.869\n",
       "2019-06-01     124.960           82.832           189.256\n",
       "2019-07-01     110.263           81.308           194.856\n",
       "2019-08-01     102.609           80.000           188.608\n",
       "2019-09-01     101.587           78.527           176.522\n",
       "\n",
       "[86 rows x 3 columns]"
      ]
     },
     "execution_count": 102,
     "metadata": {},
     "output_type": "execute_result"
    }
   ],
   "source": [
    "test"
   ]
  },
  {
   "cell_type": "code",
   "execution_count": 104,
   "metadata": {},
   "outputs": [
    {
     "data": {
      "text/plain": [
       "<AxesSubplot:xlabel='DATE'>"
      ]
     },
     "execution_count": 104,
     "metadata": {},
     "output_type": "execute_result"
    },
    {
     "data": {
      "image/png": "[encoded data removed]",
      "text/plain": [
       "<Figure size 720x432 with 1 Axes>"
      ]
     },
     "metadata": {},
     "output_type": "display_data"
    }
   ],
   "source": [
    "test.plot()"
   ]
  },
  {
   "cell_type": "markdown",
   "metadata": {
    "id": "y2YxA_sTW0Ue"
   },
   "source": [
    "#### Calculation R2 Score and Error Metrics"
   ]
  },
  {
   "cell_type": "code",
   "execution_count": 105,
   "metadata": {
    "id": "biBzyA-dW0Uf"
   },
   "outputs": [
    {
     "name": "stdout",
     "output_type": "stream",
     "text": [
      "r2_score: -5.150569056183552 \n",
      "mae: 32.90855300730493 \n",
      "mse: 1512.047098397001 \n",
      "rmse: 38.88504980576727\n"
     ]
    }
   ],
   "source": [
    "eval_metrics(test.Production, test.Relu_Predictions)"
   ]
  }
 ],
 "metadata": {
  "colab": {
   "name": "DL-Assignmet-3 (RNN-Time_Series-Frozen_Dessert_Production)-Student.ipynb",
   "provenance": []
  },
  "kernelspec": {
   "display_name": "Python 3 (ipykernel)",
   "language": "python",
   "name": "python3"
  },
  "language_info": {
   "codemirror_mode": {
    "name": "ipython",
    "version": 3
   },
   "file_extension": ".py",
   "mimetype": "text/x-python",
   "name": "python",
   "nbconvert_exporter": "python",
   "pygments_lexer": "ipython3",
   "version": "3.9.7"
  }
 },
 "nbformat": 4,
 "nbformat_minor": 4
}
