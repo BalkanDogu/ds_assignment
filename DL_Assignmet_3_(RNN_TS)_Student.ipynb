{
 "cells": [
  {
   "cell_type": "markdown",
   "metadata": {
    "id": "PrH59S4kW0UC"
   },
   "source": [
    "# Product Amount Forecast by Time"
   ]
  },
  {
   "cell_type": "markdown",
   "metadata": {
    "id": "VmTfi-sqW0UK"
   },
   "source": [
    "## Data\n",
    "\n",
    "Info about this data set: https://fred.stlouisfed.org/series/IPN31152N\n",
    "\n",
    "\n",
    "Units:  Index 2012=100, Not Seasonally Adjusted\n",
    "\n",
    "Frequency:  Monthly\n",
    "\n",
    "The industrial production (IP) index measures the real output of all relevant establishments located in the United States, regardless of their ownership, but not those located in U.S. territories.\n",
    "\n",
    "NAICS = 31152\n",
    "\n",
    "Source Code: IP.N31152.N\n",
    "\n",
    "Suggested Citation:\n",
    "Board of Governors of the Federal Reserve System (US), Industrial Production: Nondurable Goods: Ice cream and frozen dessert [IPN31152N], retrieved from FRED, Federal Reserve Bank of St. Louis; https://fred.stlouisfed.org/series/IPN31152N, November 16, 2019."
   ]
  },
  {
   "cell_type": "markdown",
   "metadata": {
    "id": "JgbAMYoeW0UM"
   },
   "source": [
    "## Import Libraries"
   ]
  },
  {
   "cell_type": "code",
   "execution_count": 1,
   "metadata": {
    "id": "iALmCpKJW0UN"
   },
   "outputs": [],
   "source": [
    "import numpy as np\n",
    "import pandas as pd\n",
    "import matplotlib.pyplot as plt\n",
    "import seaborn as sns\n",
    "\n",
    "import warnings\n",
    "warnings.filterwarnings(\"ignore\")\n",
    "warnings.warn(\"this will not show\")\n",
    "\n",
    "plt.rcParams[\"figure.figsize\"] = (10,6)\n",
    "\n",
    "sns.set_style(\"whitegrid\")\n",
    "pd.set_option('display.float_format', lambda x: '%.3f' % x)\n",
    "\n",
    "# Set it None to display all rows in the dataframe\n",
    "# pd.set_option('display.max_rows', None)\n",
    "\n",
    "# Set it to None to display all columns in the dataframe\n",
    "pd.set_option('display.max_columns', None)"
   ]
  },
  {
   "cell_type": "markdown",
   "metadata": {
    "id": "w5nV2oy4W0UP"
   },
   "source": [
    "## Indest Data"
   ]
  },
  {
   "cell_type": "code",
   "execution_count": 2,
   "metadata": {
    "id": "m0PzGfw-W0UP"
   },
   "outputs": [],
   "source": [
    "df = pd.read_csv(\"Frozen_Dessert_Production.csv\")"
   ]
  },
  {
   "cell_type": "code",
   "execution_count": 3,
   "metadata": {},
   "outputs": [
    {
     "data": {
      "text/html": [
       "<div>\n",
       "<style scoped>\n",
       "    .dataframe tbody tr th:only-of-type {\n",
       "        vertical-align: middle;\n",
       "    }\n",
       "\n",
       "    .dataframe tbody tr th {\n",
       "        vertical-align: top;\n",
       "    }\n",
       "\n",
       "    .dataframe thead th {\n",
       "        text-align: right;\n",
       "    }\n",
       "</style>\n",
       "<table border=\"1\" class=\"dataframe\">\n",
       "  <thead>\n",
       "    <tr style=\"text-align: right;\">\n",
       "      <th></th>\n",
       "      <th>DATE</th>\n",
       "      <th>IPN31152N</th>\n",
       "    </tr>\n",
       "  </thead>\n",
       "  <tbody>\n",
       "    <tr>\n",
       "      <th>0</th>\n",
       "      <td>1972-01-01</td>\n",
       "      <td>59.962</td>\n",
       "    </tr>\n",
       "    <tr>\n",
       "      <th>1</th>\n",
       "      <td>1972-02-01</td>\n",
       "      <td>67.061</td>\n",
       "    </tr>\n",
       "    <tr>\n",
       "      <th>2</th>\n",
       "      <td>1972-03-01</td>\n",
       "      <td>74.235</td>\n",
       "    </tr>\n",
       "    <tr>\n",
       "      <th>3</th>\n",
       "      <td>1972-04-01</td>\n",
       "      <td>78.112</td>\n",
       "    </tr>\n",
       "    <tr>\n",
       "      <th>4</th>\n",
       "      <td>1972-05-01</td>\n",
       "      <td>84.764</td>\n",
       "    </tr>\n",
       "  </tbody>\n",
       "</table>\n",
       "</div>"
      ],
      "text/plain": [
       "         DATE  IPN31152N\n",
       "0  1972-01-01     59.962\n",
       "1  1972-02-01     67.061\n",
       "2  1972-03-01     74.235\n",
       "3  1972-04-01     78.112\n",
       "4  1972-05-01     84.764"
      ]
     },
     "execution_count": 3,
     "metadata": {},
     "output_type": "execute_result"
    }
   ],
   "source": [
    "df.head()"
   ]
  },
  {
   "cell_type": "code",
   "execution_count": 4,
   "metadata": {},
   "outputs": [],
   "source": [
    "df = df.set_index(\"DATE\")"
   ]
  },
  {
   "cell_type": "code",
   "execution_count": 5,
   "metadata": {},
   "outputs": [
    {
     "data": {
      "text/html": [
       "<div>\n",
       "<style scoped>\n",
       "    .dataframe tbody tr th:only-of-type {\n",
       "        vertical-align: middle;\n",
       "    }\n",
       "\n",
       "    .dataframe tbody tr th {\n",
       "        vertical-align: top;\n",
       "    }\n",
       "\n",
       "    .dataframe thead th {\n",
       "        text-align: right;\n",
       "    }\n",
       "</style>\n",
       "<table border=\"1\" class=\"dataframe\">\n",
       "  <thead>\n",
       "    <tr style=\"text-align: right;\">\n",
       "      <th></th>\n",
       "      <th>IPN31152N</th>\n",
       "    </tr>\n",
       "    <tr>\n",
       "      <th>DATE</th>\n",
       "      <th></th>\n",
       "    </tr>\n",
       "  </thead>\n",
       "  <tbody>\n",
       "    <tr>\n",
       "      <th>1972-01-01</th>\n",
       "      <td>59.962</td>\n",
       "    </tr>\n",
       "    <tr>\n",
       "      <th>1972-02-01</th>\n",
       "      <td>67.061</td>\n",
       "    </tr>\n",
       "    <tr>\n",
       "      <th>1972-03-01</th>\n",
       "      <td>74.235</td>\n",
       "    </tr>\n",
       "    <tr>\n",
       "      <th>1972-04-01</th>\n",
       "      <td>78.112</td>\n",
       "    </tr>\n",
       "    <tr>\n",
       "      <th>1972-05-01</th>\n",
       "      <td>84.764</td>\n",
       "    </tr>\n",
       "    <tr>\n",
       "      <th>...</th>\n",
       "      <td>...</td>\n",
       "    </tr>\n",
       "    <tr>\n",
       "      <th>2019-05-01</th>\n",
       "      <td>114.561</td>\n",
       "    </tr>\n",
       "    <tr>\n",
       "      <th>2019-06-01</th>\n",
       "      <td>124.960</td>\n",
       "    </tr>\n",
       "    <tr>\n",
       "      <th>2019-07-01</th>\n",
       "      <td>110.263</td>\n",
       "    </tr>\n",
       "    <tr>\n",
       "      <th>2019-08-01</th>\n",
       "      <td>102.609</td>\n",
       "    </tr>\n",
       "    <tr>\n",
       "      <th>2019-09-01</th>\n",
       "      <td>101.587</td>\n",
       "    </tr>\n",
       "  </tbody>\n",
       "</table>\n",
       "<p>573 rows × 1 columns</p>\n",
       "</div>"
      ],
      "text/plain": [
       "            IPN31152N\n",
       "DATE                 \n",
       "1972-01-01     59.962\n",
       "1972-02-01     67.061\n",
       "1972-03-01     74.235\n",
       "1972-04-01     78.112\n",
       "1972-05-01     84.764\n",
       "...               ...\n",
       "2019-05-01    114.561\n",
       "2019-06-01    124.960\n",
       "2019-07-01    110.263\n",
       "2019-08-01    102.609\n",
       "2019-09-01    101.587\n",
       "\n",
       "[573 rows x 1 columns]"
      ]
     },
     "execution_count": 5,
     "metadata": {},
     "output_type": "execute_result"
    }
   ],
   "source": [
    "df"
   ]
  },
  {
   "cell_type": "code",
   "execution_count": 6,
   "metadata": {},
   "outputs": [
    {
     "name": "stdout",
     "output_type": "stream",
     "text": [
      "<class 'pandas.core.frame.DataFrame'>\n",
      "Index: 573 entries, 1972-01-01 to 2019-09-01\n",
      "Data columns (total 1 columns):\n",
      " #   Column     Non-Null Count  Dtype  \n",
      "---  ------     --------------  -----  \n",
      " 0   IPN31152N  573 non-null    float64\n",
      "dtypes: float64(1)\n",
      "memory usage: 9.0+ KB\n"
     ]
    }
   ],
   "source": [
    "df.info()"
   ]
  },
  {
   "cell_type": "markdown",
   "metadata": {
    "id": "r1DNqwCLW0UQ",
    "tags": []
   },
   "source": [
    "## Exploratory Data Analysis and Visualization"
   ]
  },
  {
   "cell_type": "markdown",
   "metadata": {
    "id": "D_O-lYffW0UR"
   },
   "source": [
    "1. Implement basic steps to see how is your data looks like\n",
    "2. Change the column name as \"Production\"\n",
    "2. Plot your data and see its seasonalty"
   ]
  },
  {
   "cell_type": "code",
   "execution_count": 7,
   "metadata": {},
   "outputs": [],
   "source": [
    "df.columns = ['Production']"
   ]
  },
  {
   "cell_type": "code",
   "execution_count": 8,
   "metadata": {
    "tags": []
   },
   "outputs": [
    {
     "data": {
      "text/plain": [
       "<AxesSubplot:xlabel='DATE'>"
      ]
     },
     "execution_count": 8,
     "metadata": {},
     "output_type": "execute_result"
    },
    {
     "data": {
      "image/png": "[encoded data removed]",
      "text/plain": [
       "<Figure size 1152x576 with 1 Axes>"
      ]
     },
     "metadata": {},
     "output_type": "display_data"
    }
   ],
   "source": [
    "df.plot(figsize=(16,8))"
   ]
  },
  {
   "cell_type": "markdown",
   "metadata": {
    "id": "MFgtEy1_W0UT"
   },
   "source": [
    "## Preprocessing of Data"
   ]
  },
  {
   "cell_type": "markdown",
   "metadata": {
    "id": "ZHTMB-NaW0UU"
   },
   "source": [
    "### Train Test Split"
   ]
  },
  {
   "cell_type": "code",
   "execution_count": 9,
   "metadata": {},
   "outputs": [
    {
     "data": {
      "text/plain": [
       "573"
      ]
     },
     "execution_count": 9,
     "metadata": {},
     "output_type": "execute_result"
    }
   ],
   "source": [
    "len(df)"
   ]
  },
  {
   "cell_type": "code",
   "execution_count": 10,
   "metadata": {},
   "outputs": [
    {
     "data": {
      "text/plain": [
       "86.0"
      ]
     },
     "execution_count": 10,
     "metadata": {},
     "output_type": "execute_result"
    }
   ],
   "source": [
    "test_point = np.round(len(df)*0.15)\n",
    "test_point"
   ]
  },
  {
   "cell_type": "code",
   "execution_count": 11,
   "metadata": {},
   "outputs": [
    {
     "data": {
      "text/plain": [
       "487"
      ]
     },
     "execution_count": 11,
     "metadata": {},
     "output_type": "execute_result"
    }
   ],
   "source": [
    "test_ind = int(len(df) - test_point)\n",
    "test_ind"
   ]
  },
  {
   "cell_type": "code",
   "execution_count": 12,
   "metadata": {},
   "outputs": [],
   "source": [
    "train = df.iloc[:test_ind]\n",
    "test = df.iloc[test_ind:]"
   ]
  },
  {
   "cell_type": "code",
   "execution_count": 13,
   "metadata": {},
   "outputs": [
    {
     "data": {
      "text/html": [
       "<div>\n",
       "<style scoped>\n",
       "    .dataframe tbody tr th:only-of-type {\n",
       "        vertical-align: middle;\n",
       "    }\n",
       "\n",
       "    .dataframe tbody tr th {\n",
       "        vertical-align: top;\n",
       "    }\n",
       "\n",
       "    .dataframe thead th {\n",
       "        text-align: right;\n",
       "    }\n",
       "</style>\n",
       "<table border=\"1\" class=\"dataframe\">\n",
       "  <thead>\n",
       "    <tr style=\"text-align: right;\">\n",
       "      <th></th>\n",
       "      <th>Production</th>\n",
       "    </tr>\n",
       "    <tr>\n",
       "      <th>DATE</th>\n",
       "      <th></th>\n",
       "    </tr>\n",
       "  </thead>\n",
       "  <tbody>\n",
       "    <tr>\n",
       "      <th>2012-08-01</th>\n",
       "      <td>107.643</td>\n",
       "    </tr>\n",
       "    <tr>\n",
       "      <th>2012-09-01</th>\n",
       "      <td>96.370</td>\n",
       "    </tr>\n",
       "    <tr>\n",
       "      <th>2012-10-01</th>\n",
       "      <td>88.886</td>\n",
       "    </tr>\n",
       "    <tr>\n",
       "      <th>2012-11-01</th>\n",
       "      <td>74.838</td>\n",
       "    </tr>\n",
       "    <tr>\n",
       "      <th>2012-12-01</th>\n",
       "      <td>68.769</td>\n",
       "    </tr>\n",
       "    <tr>\n",
       "      <th>...</th>\n",
       "      <td>...</td>\n",
       "    </tr>\n",
       "    <tr>\n",
       "      <th>2019-05-01</th>\n",
       "      <td>114.561</td>\n",
       "    </tr>\n",
       "    <tr>\n",
       "      <th>2019-06-01</th>\n",
       "      <td>124.960</td>\n",
       "    </tr>\n",
       "    <tr>\n",
       "      <th>2019-07-01</th>\n",
       "      <td>110.263</td>\n",
       "    </tr>\n",
       "    <tr>\n",
       "      <th>2019-08-01</th>\n",
       "      <td>102.609</td>\n",
       "    </tr>\n",
       "    <tr>\n",
       "      <th>2019-09-01</th>\n",
       "      <td>101.587</td>\n",
       "    </tr>\n",
       "  </tbody>\n",
       "</table>\n",
       "<p>86 rows × 1 columns</p>\n",
       "</div>"
      ],
      "text/plain": [
       "            Production\n",
       "DATE                  \n",
       "2012-08-01     107.643\n",
       "2012-09-01      96.370\n",
       "2012-10-01      88.886\n",
       "2012-11-01      74.838\n",
       "2012-12-01      68.769\n",
       "...                ...\n",
       "2019-05-01     114.561\n",
       "2019-06-01     124.960\n",
       "2019-07-01     110.263\n",
       "2019-08-01     102.609\n",
       "2019-09-01     101.587\n",
       "\n",
       "[86 rows x 1 columns]"
      ]
     },
     "execution_count": 13,
     "metadata": {},
     "output_type": "execute_result"
    }
   ],
   "source": [
    "test"
   ]
  },
  {
   "cell_type": "code",
   "execution_count": 14,
   "metadata": {},
   "outputs": [
    {
     "data": {
      "text/html": [
       "<div>\n",
       "<style scoped>\n",
       "    .dataframe tbody tr th:only-of-type {\n",
       "        vertical-align: middle;\n",
       "    }\n",
       "\n",
       "    .dataframe tbody tr th {\n",
       "        vertical-align: top;\n",
       "    }\n",
       "\n",
       "    .dataframe thead th {\n",
       "        text-align: right;\n",
       "    }\n",
       "</style>\n",
       "<table border=\"1\" class=\"dataframe\">\n",
       "  <thead>\n",
       "    <tr style=\"text-align: right;\">\n",
       "      <th></th>\n",
       "      <th>Production</th>\n",
       "    </tr>\n",
       "    <tr>\n",
       "      <th>DATE</th>\n",
       "      <th></th>\n",
       "    </tr>\n",
       "  </thead>\n",
       "  <tbody>\n",
       "    <tr>\n",
       "      <th>1972-01-01</th>\n",
       "      <td>59.962</td>\n",
       "    </tr>\n",
       "    <tr>\n",
       "      <th>1972-02-01</th>\n",
       "      <td>67.061</td>\n",
       "    </tr>\n",
       "    <tr>\n",
       "      <th>1972-03-01</th>\n",
       "      <td>74.235</td>\n",
       "    </tr>\n",
       "    <tr>\n",
       "      <th>1972-04-01</th>\n",
       "      <td>78.112</td>\n",
       "    </tr>\n",
       "    <tr>\n",
       "      <th>1972-05-01</th>\n",
       "      <td>84.764</td>\n",
       "    </tr>\n",
       "    <tr>\n",
       "      <th>...</th>\n",
       "      <td>...</td>\n",
       "    </tr>\n",
       "    <tr>\n",
       "      <th>2012-03-01</th>\n",
       "      <td>112.487</td>\n",
       "    </tr>\n",
       "    <tr>\n",
       "      <th>2012-04-01</th>\n",
       "      <td>114.811</td>\n",
       "    </tr>\n",
       "    <tr>\n",
       "      <th>2012-05-01</th>\n",
       "      <td>114.566</td>\n",
       "    </tr>\n",
       "    <tr>\n",
       "      <th>2012-06-01</th>\n",
       "      <td>124.343</td>\n",
       "    </tr>\n",
       "    <tr>\n",
       "      <th>2012-07-01</th>\n",
       "      <td>112.327</td>\n",
       "    </tr>\n",
       "  </tbody>\n",
       "</table>\n",
       "<p>487 rows × 1 columns</p>\n",
       "</div>"
      ],
      "text/plain": [
       "            Production\n",
       "DATE                  \n",
       "1972-01-01      59.962\n",
       "1972-02-01      67.061\n",
       "1972-03-01      74.235\n",
       "1972-04-01      78.112\n",
       "1972-05-01      84.764\n",
       "...                ...\n",
       "2012-03-01     112.487\n",
       "2012-04-01     114.811\n",
       "2012-05-01     114.566\n",
       "2012-06-01     124.343\n",
       "2012-07-01     112.327\n",
       "\n",
       "[487 rows x 1 columns]"
      ]
     },
     "execution_count": 14,
     "metadata": {},
     "output_type": "execute_result"
    }
   ],
   "source": [
    "train"
   ]
  },
  {
   "cell_type": "markdown",
   "metadata": {
    "id": "OhtBFsG_W0UW"
   },
   "source": [
    "### Scaling"
   ]
  },
  {
   "cell_type": "code",
   "execution_count": 15,
   "metadata": {},
   "outputs": [],
   "source": [
    "from sklearn.preprocessing import MinMaxScaler"
   ]
  },
  {
   "cell_type": "code",
   "execution_count": 16,
   "metadata": {},
   "outputs": [],
   "source": [
    "scaler = MinMaxScaler()"
   ]
  },
  {
   "cell_type": "code",
   "execution_count": 17,
   "metadata": {},
   "outputs": [],
   "source": [
    "train_scaled = scaler.fit_transform(train)\n",
    "test_scaled = scaler.transform(test)"
   ]
  },
  {
   "cell_type": "markdown",
   "metadata": {
    "id": "mEr60eqqW0UX"
   },
   "source": [
    "## Time Series Generator"
   ]
  },
  {
   "cell_type": "code",
   "execution_count": 18,
   "metadata": {},
   "outputs": [],
   "source": [
    "from tensorflow.keras.preprocessing.sequence import TimeseriesGenerator"
   ]
  },
  {
   "cell_type": "code",
   "execution_count": 19,
   "metadata": {},
   "outputs": [],
   "source": [
    "length = 2\n",
    "batch_size = 1\n",
    "stride = 1 \n",
    "generator = TimeseriesGenerator(data = train_scaled,\n",
    "                                targets = train_scaled,\n",
    "                                length = length,\n",
    "                                batch_size = batch_size,\n",
    "                                stride = stride)"
   ]
  },
  {
   "cell_type": "code",
   "execution_count": 20,
   "metadata": {},
   "outputs": [
    {
     "data": {
      "text/plain": [
       "487"
      ]
     },
     "execution_count": 20,
     "metadata": {},
     "output_type": "execute_result"
    }
   ],
   "source": [
    "len(train_scaled)"
   ]
  },
  {
   "cell_type": "code",
   "execution_count": 21,
   "metadata": {},
   "outputs": [
    {
     "data": {
      "text/plain": [
       "485"
      ]
     },
     "execution_count": 21,
     "metadata": {},
     "output_type": "execute_result"
    }
   ],
   "source": [
    "len(generator)"
   ]
  },
  {
   "cell_type": "code",
   "execution_count": 22,
   "metadata": {},
   "outputs": [
    {
     "data": {
      "text/plain": [
       "<AxesSubplot:xlabel='DATE'>"
      ]
     },
     "execution_count": 22,
     "metadata": {},
     "output_type": "execute_result"
    },
    {
     "data": {
      "image/png": "[encoded data removed]",
      "text/plain": [
       "<Figure size 720x432 with 1 Axes>"
      ]
     },
     "metadata": {},
     "output_type": "display_data"
    }
   ],
   "source": [
    "df.plot()"
   ]
  },
  {
   "cell_type": "code",
   "execution_count": 23,
   "metadata": {},
   "outputs": [],
   "source": [
    "length = 12\n",
    "batch_size = 1\n",
    "generator = TimeseriesGenerator(data = train_scaled, targets = train_scaled, length = length, batch_size = batch_size)"
   ]
  },
  {
   "cell_type": "code",
   "execution_count": 24,
   "metadata": {},
   "outputs": [],
   "source": [
    "X, y = generator[0]"
   ]
  },
  {
   "cell_type": "code",
   "execution_count": 25,
   "metadata": {},
   "outputs": [
    {
     "data": {
      "text/plain": [
       "475"
      ]
     },
     "execution_count": 25,
     "metadata": {},
     "output_type": "execute_result"
    }
   ],
   "source": [
    "len(generator)"
   ]
  },
  {
   "cell_type": "code",
   "execution_count": 26,
   "metadata": {},
   "outputs": [
    {
     "name": "stdout",
     "output_type": "stream",
     "text": [
      "Given the Array: \n",
      "[0.00947104 0.06108982 0.11326273 0.14145625 0.18982663 0.30495972\n",
      " 0.30154406 0.27416065 0.19736841 0.08532665 0.01561588 0.        ]\n",
      "Predict this y: \n",
      "[[0.01774221]]\n"
     ]
    }
   ],
   "source": [
    "print(f'Given the Array: \\n{X.flatten()}')\n",
    "print(f'Predict this y: \\n{y}')"
   ]
  },
  {
   "cell_type": "markdown",
   "metadata": {
    "id": "GXs_mchzW0UY"
   },
   "source": [
    "## Modelling & Model Performance"
   ]
  },
  {
   "cell_type": "markdown",
   "metadata": {
    "id": "_nPVqM5JW0UY"
   },
   "source": [
    "### Import related libraries"
   ]
  },
  {
   "cell_type": "code",
   "execution_count": 27,
   "metadata": {},
   "outputs": [],
   "source": [
    "from tensorflow.keras.models import Sequential\n",
    "from tensorflow.keras.layers import Dense, SimpleRNN, LSTM"
   ]
  },
  {
   "cell_type": "code",
   "execution_count": 28,
   "metadata": {},
   "outputs": [],
   "source": [
    "model = Sequential()\n",
    "model.add(SimpleRNN(units = 80, activation = \"tanh\", input_shape=(length, 1)))\n",
    "model.add(Dense(units = 1))\n",
    "model.compile(optimizer='adam', loss='mse')"
   ]
  },
  {
   "cell_type": "code",
   "execution_count": 29,
   "metadata": {},
   "outputs": [
    {
     "name": "stdout",
     "output_type": "stream",
     "text": [
      "Model: \"sequential\"\n",
      "_________________________________________________________________\n",
      "Layer (type)                 Output Shape              Param #   \n",
      "=================================================================\n",
      "simple_rnn (SimpleRNN)       (None, 80)                6560      \n",
      "_________________________________________________________________\n",
      "dense (Dense)                (None, 1)                 81        \n",
      "=================================================================\n",
      "Total params: 6,641\n",
      "Trainable params: 6,641\n",
      "Non-trainable params: 0\n",
      "_________________________________________________________________\n"
     ]
    }
   ],
   "source": [
    "model.summary()"
   ]
  },
  {
   "cell_type": "code",
   "execution_count": 30,
   "metadata": {},
   "outputs": [
    {
     "name": "stdout",
     "output_type": "stream",
     "text": [
      "Epoch 1/5\n",
      "475/475 [==============================] - 5s 6ms/step - loss: 0.0103\n",
      "Epoch 2/5\n",
      "475/475 [==============================] - 3s 6ms/step - loss: 0.0045\n",
      "Epoch 3/5\n",
      "475/475 [==============================] - 3s 6ms/step - loss: 0.0038\n",
      "Epoch 4/5\n",
      "475/475 [==============================] - 3s 7ms/step - loss: 0.0042\n",
      "Epoch 5/5\n",
      "475/475 [==============================] - 3s 6ms/step - loss: 0.0035\n"
     ]
    },
    {
     "data": {
      "text/plain": [
       "<keras.callbacks.History at 0x1276326dc10>"
      ]
     },
     "execution_count": 30,
     "metadata": {},
     "output_type": "execute_result"
    }
   ],
   "source": [
    "model.fit_generator(generator = generator, epochs = 5)"
   ]
  },
  {
   "cell_type": "code",
   "execution_count": 31,
   "metadata": {
    "id": "H0LrCgXjW0UZ"
   },
   "outputs": [
    {
     "data": {
      "text/plain": [
       "<AxesSubplot:>"
      ]
     },
     "execution_count": 31,
     "metadata": {},
     "output_type": "execute_result"
    },
    {
     "data": {
      "image/png": "[encoded data removed]",
      "text/plain": [
       "<Figure size 720x432 with 1 Axes>"
      ]
     },
     "metadata": {},
     "output_type": "display_data"
    }
   ],
   "source": [
    "loss_df = pd.DataFrame(model.history.history)\n",
    "loss_df.plot()"
   ]
  },
  {
   "cell_type": "markdown",
   "metadata": {
    "id": "oa_VzNmpW0Ua"
   },
   "source": [
    "#### Evaluate on Test Data"
   ]
  },
  {
   "cell_type": "code",
   "execution_count": 32,
   "metadata": {},
   "outputs": [],
   "source": [
    "first_eval_batch = train_scaled[-length:]"
   ]
  },
  {
   "cell_type": "code",
   "execution_count": 33,
   "metadata": {},
   "outputs": [
    {
     "data": {
      "text/plain": [
       "(12, 1)"
      ]
     },
     "execution_count": 33,
     "metadata": {},
     "output_type": "execute_result"
    }
   ],
   "source": [
    "first_eval_batch.shape"
   ]
  },
  {
   "cell_type": "code",
   "execution_count": 34,
   "metadata": {},
   "outputs": [],
   "source": [
    "first_eval_batch = first_eval_batch.reshape((1, length, 1))"
   ]
  },
  {
   "cell_type": "code",
   "execution_count": 35,
   "metadata": {},
   "outputs": [
    {
     "data": {
      "text/plain": [
       "(1, 12, 1)"
      ]
     },
     "execution_count": 35,
     "metadata": {},
     "output_type": "execute_result"
    }
   ],
   "source": [
    "first_eval_batch.shape"
   ]
  },
  {
   "cell_type": "code",
   "execution_count": 36,
   "metadata": {},
   "outputs": [
    {
     "data": {
      "text/plain": [
       "array([[0.34673828]], dtype=float32)"
      ]
     },
     "execution_count": 36,
     "metadata": {},
     "output_type": "execute_result"
    }
   ],
   "source": [
    "model.predict(first_eval_batch)"
   ]
  },
  {
   "cell_type": "code",
   "execution_count": 37,
   "metadata": {},
   "outputs": [],
   "source": [
    "test_predictions = []\n",
    "\n",
    "first_eval_batch = train_scaled[-length:]\n",
    "current_batch = first_eval_batch.reshape((1, length, 1))"
   ]
  },
  {
   "cell_type": "code",
   "execution_count": 38,
   "metadata": {},
   "outputs": [
    {
     "data": {
      "text/plain": [
       "(1, 12, 1)"
      ]
     },
     "execution_count": 38,
     "metadata": {},
     "output_type": "execute_result"
    }
   ],
   "source": [
    "current_batch.shape"
   ]
  },
  {
   "cell_type": "code",
   "execution_count": 39,
   "metadata": {
    "scrolled": true,
    "tags": []
   },
   "outputs": [
    {
     "data": {
      "text/plain": [
       "array([[[0.31339595],\n",
       "        [0.23591506],\n",
       "        [0.12980579],\n",
       "        [0.09307932],\n",
       "        [0.19444507],\n",
       "        [0.29743684],\n",
       "        [0.39142952],\n",
       "        [0.40833181],\n",
       "        [0.40654945],\n",
       "        [0.47764626],\n",
       "        [0.39026746],\n",
       "        [0.34673828]]])"
      ]
     },
     "execution_count": 39,
     "metadata": {},
     "output_type": "execute_result"
    }
   ],
   "source": [
    "np.append(current_batch[:,1:,:], [[[0.34673828]]], axis = 1)"
   ]
  },
  {
   "cell_type": "code",
   "execution_count": 40,
   "metadata": {},
   "outputs": [],
   "source": [
    "predictions_scaled = []\n",
    "\n",
    "first_eval_batch = train_scaled[-length:]\n",
    "current_batch = first_eval_batch.reshape((1, length, 1))\n",
    "\n",
    "for i in range(len(test)):\n",
    "    \n",
    "    current_pred = model.predict(current_batch)\n",
    "    \n",
    "    predictions_scaled.append(current_pred[0]) \n",
    "    \n",
    "    current_batch = np.append(current_batch[:, 1:, :], [current_pred], axis = 1)"
   ]
  },
  {
   "cell_type": "code",
   "execution_count": 41,
   "metadata": {
    "scrolled": true,
    "tags": []
   },
   "outputs": [
    {
     "data": {
      "text/plain": [
       "[array([0.34673828], dtype=float32),\n",
       " array([0.29807183], dtype=float32),\n",
       " array([0.25409546], dtype=float32),\n",
       " array([0.20365486], dtype=float32),\n",
       " array([0.17644061], dtype=float32),\n",
       " array([0.20915806], dtype=float32),\n",
       " array([0.28160167], dtype=float32),\n",
       " array([0.35864076], dtype=float32),\n",
       " array([0.40966967], dtype=float32),\n",
       " array([0.44718492], dtype=float32),\n",
       " array([0.46548524], dtype=float32),\n",
       " array([0.43809512], dtype=float32),\n",
       " array([0.3848844], dtype=float32),\n",
       " array([0.3261831], dtype=float32),\n",
       " array([0.27590793], dtype=float32),\n",
       " array([0.23659547], dtype=float32),\n",
       " array([0.21852607], dtype=float32),\n",
       " array([0.23598516], dtype=float32),\n",
       " array([0.28689522], dtype=float32),\n",
       " array([0.35185346], dtype=float32),\n",
       " array([0.41053465], dtype=float32),\n",
       " array([0.453808], dtype=float32),\n",
       " array([0.47304288], dtype=float32),\n",
       " array([0.45985273], dtype=float32),\n",
       " array([0.41794762], dtype=float32),\n",
       " array([0.36190403], dtype=float32),\n",
       " array([0.3078503], dtype=float32),\n",
       " array([0.26691252], dtype=float32),\n",
       " array([0.24804848], dtype=float32),\n",
       " array([0.25840893], dtype=float32),\n",
       " array([0.29728612], dtype=float32),\n",
       " array([0.35344258], dtype=float32),\n",
       " array([0.41106611], dtype=float32),\n",
       " array([0.45669013], dtype=float32),\n",
       " array([0.48018432], dtype=float32),\n",
       " array([0.47541407], dtype=float32),\n",
       " array([0.4435487], dtype=float32),\n",
       " array([0.39413244], dtype=float32),\n",
       " array([0.34120312], dtype=float32),\n",
       " array([0.29813358], dtype=float32),\n",
       " array([0.27531284], dtype=float32),\n",
       " array([0.27897865], dtype=float32),\n",
       " array([0.30897725], dtype=float32),\n",
       " array([0.35756347], dtype=float32),\n",
       " array([0.41185167], dtype=float32),\n",
       " array([0.45824617], dtype=float32),\n",
       " array([0.48570776], dtype=float32),\n",
       " array([0.4877674], dtype=float32),\n",
       " array([0.46426162], dtype=float32),\n",
       " array([0.4219041], dtype=float32),\n",
       " array([0.3723758], dtype=float32),\n",
       " array([0.3287284], dtype=float32),\n",
       " array([0.3020971], dtype=float32),\n",
       " array([0.299379], dtype=float32),\n",
       " array([0.32153228], dtype=float32),\n",
       " array([0.36297166], dtype=float32),\n",
       " array([0.41299492], dtype=float32),\n",
       " array([0.45891744], dtype=float32),\n",
       " array([0.48946187], dtype=float32),\n",
       " array([0.4974051], dtype=float32),\n",
       " array([0.48126772], dtype=float32),\n",
       " array([0.4457587], dtype=float32),\n",
       " array([0.4005584], dtype=float32),\n",
       " array([0.35765934], dtype=float32),\n",
       " array([0.32822877], dtype=float32),\n",
       " array([0.31989074], dtype=float32),\n",
       " array([0.334877], dtype=float32),\n",
       " array([0.36940417], dtype=float32),\n",
       " array([0.4146305], dtype=float32),\n",
       " array([0.4590662], dtype=float32),\n",
       " array([0.4916493], dtype=float32),\n",
       " array([0.50454557], dtype=float32),\n",
       " array([0.4950289], dtype=float32),\n",
       " array([0.4660974], dtype=float32),\n",
       " array([0.42566586], dtype=float32),\n",
       " array([0.38448253], dtype=float32),\n",
       " array([0.35333908], dtype=float32),\n",
       " array([0.34033436], dtype=float32),\n",
       " array([0.34885687], dtype=float32),\n",
       " array([0.37674356], dtype=float32),\n",
       " array([0.41685864], dtype=float32),\n",
       " array([0.45899886], dtype=float32),\n",
       " array([0.49260384], dtype=float32),\n",
       " array([0.5094855], dtype=float32),\n",
       " array([0.5058527], dtype=float32),\n",
       " array([0.48317677], dtype=float32)]"
      ]
     },
     "execution_count": 41,
     "metadata": {},
     "output_type": "execute_result"
    }
   ],
   "source": [
    "predictions_scaled"
   ]
  },
  {
   "cell_type": "code",
   "execution_count": 42,
   "metadata": {
    "scrolled": true,
    "tags": []
   },
   "outputs": [
    {
     "data": {
      "text/plain": [
       "array([[0.35620545],\n",
       "       [0.27422828],\n",
       "       [0.2198076 ],\n",
       "       [0.11764411],\n",
       "       [0.07351475],\n",
       "       [0.14149624],\n",
       "       [0.2863296 ],\n",
       "       [0.35795581],\n",
       "       [0.35814561],\n",
       "       [0.37998486],\n",
       "       [0.50926561],\n",
       "       [0.39057433],\n",
       "       [0.34465461],\n",
       "       [0.28747203],\n",
       "       [0.23516459],\n",
       "       [0.15569044],\n",
       "       [0.06649001],\n",
       "       [0.20170834],\n",
       "       [0.31321197],\n",
       "       [0.40080166],\n",
       "       [0.44136265],\n",
       "       [0.42156466],\n",
       "       [0.52634606],\n",
       "       [0.42622818],\n",
       "       [0.38365722],\n",
       "       [0.30511534],\n",
       "       [0.23707931],\n",
       "       [0.20297948],\n",
       "       [0.12155208],\n",
       "       [0.19574094],\n",
       "       [0.30468338],\n",
       "       [0.37028329],\n",
       "       [0.36143183],\n",
       "       [0.34467716],\n",
       "       [0.41797884],\n",
       "       [0.36154745],\n",
       "       [0.38938173],\n",
       "       [0.30315844],\n",
       "       [0.25649698],\n",
       "       [0.19782873],\n",
       "       [0.13318726],\n",
       "       [0.24834362],\n",
       "       [0.3149827 ],\n",
       "       [0.41828135],\n",
       "       [0.4766849 ],\n",
       "       [0.45728977],\n",
       "       [0.54050318],\n",
       "       [0.48134479],\n",
       "       [0.45575247],\n",
       "       [0.35906261],\n",
       "       [0.31068714],\n",
       "       [0.20365141],\n",
       "       [0.16432593],\n",
       "       [0.2587782 ],\n",
       "       [0.39071032],\n",
       "       [0.44387077],\n",
       "       [0.4695409 ],\n",
       "       [0.41743926],\n",
       "       [0.46851409],\n",
       "       [0.41889656],\n",
       "       [0.39641011],\n",
       "       [0.28544533],\n",
       "       [0.23134679],\n",
       "       [0.13655347],\n",
       "       [0.12472921],\n",
       "       [0.18015997],\n",
       "       [0.29691617],\n",
       "       [0.35382169],\n",
       "       [0.39102302],\n",
       "       [0.37592272],\n",
       "       [0.47940099],\n",
       "       [0.42586022],\n",
       "       [0.3928192 ],\n",
       "       [0.32470899],\n",
       "       [0.2434103 ],\n",
       "       [0.17289089],\n",
       "       [0.13163033],\n",
       "       [0.20608099],\n",
       "       [0.28689318],\n",
       "       [0.41822681],\n",
       "       [0.40948951],\n",
       "       [0.40651527],\n",
       "       [0.48213817],\n",
       "       [0.37525952],\n",
       "       [0.3195946 ],\n",
       "       [0.31216335]])"
      ]
     },
     "execution_count": 42,
     "metadata": {},
     "output_type": "execute_result"
    }
   ],
   "source": [
    "test_scaled"
   ]
  },
  {
   "cell_type": "markdown",
   "metadata": {
    "id": "uiuwaoCZW0Ub"
   },
   "source": [
    "#### Inverse Transformations and Comparing"
   ]
  },
  {
   "cell_type": "code",
   "execution_count": 43,
   "metadata": {},
   "outputs": [],
   "source": [
    "predictions = scaler.inverse_transform(predictions_scaled)"
   ]
  },
  {
   "cell_type": "code",
   "execution_count": 44,
   "metadata": {
    "scrolled": true,
    "tags": []
   },
   "outputs": [
    {
     "data": {
      "text/plain": [
       "array([[106.34113301],\n",
       "       [ 99.64882002],\n",
       "       [ 93.60145836],\n",
       "       [ 86.66517343],\n",
       "       [ 82.9228366 ],\n",
       "       [ 87.42194095],\n",
       "       [ 97.38394353],\n",
       "       [107.97788963],\n",
       "       [114.99507369],\n",
       "       [120.15394241],\n",
       "       [122.67049143],\n",
       "       [118.90396888],\n",
       "       [111.58675314],\n",
       "       [103.51451164],\n",
       "       [ 96.60097601],\n",
       "       [ 91.19496535],\n",
       "       [ 88.7101715 ],\n",
       "       [ 91.11103968],\n",
       "       [ 98.11187998],\n",
       "       [107.04454152],\n",
       "       [115.11402082],\n",
       "       [121.06470925],\n",
       "       [123.70977068],\n",
       "       [121.89594168],\n",
       "       [116.13340724],\n",
       "       [108.42663391],\n",
       "       [100.99349554],\n",
       "       [ 95.36398157],\n",
       "       [ 92.76991447],\n",
       "       [ 94.19462029],\n",
       "       [ 99.54077419],\n",
       "       [107.26306753],\n",
       "       [115.18710462],\n",
       "       [121.46104123],\n",
       "       [124.6918181 ],\n",
       "       [124.03584254],\n",
       "       [119.65391284],\n",
       "       [112.8584883 ],\n",
       "       [105.57997218],\n",
       "       [ 99.65731156],\n",
       "       [ 96.51914248],\n",
       "       [ 97.0232416 ],\n",
       "       [101.14846615],\n",
       "       [107.82974668],\n",
       "       [115.29512996],\n",
       "       [121.6750182 ],\n",
       "       [125.45136832],\n",
       "       [125.73459724],\n",
       "       [122.50222616],\n",
       "       [116.67747644],\n",
       "       [109.86664664],\n",
       "       [103.86452537],\n",
       "       [100.20235204],\n",
       "       [ 99.82857265],\n",
       "       [102.8749577 ],\n",
       "       [108.57344903],\n",
       "       [115.4523423 ],\n",
       "       [121.76732681],\n",
       "       [125.96761051],\n",
       "       [127.0599168 ],\n",
       "       [124.84080118],\n",
       "       [119.95781735],\n",
       "       [113.74214942],\n",
       "       [107.8429307 ],\n",
       "       [103.79581849],\n",
       "       [102.64922289],\n",
       "       [104.71004424],\n",
       "       [109.45800767],\n",
       "       [115.67725745],\n",
       "       [121.78778519],\n",
       "       [126.26841266],\n",
       "       [128.04182898],\n",
       "       [126.73315644],\n",
       "       [122.75467325],\n",
       "       [117.19477187],\n",
       "       [111.53149256],\n",
       "       [107.24883437],\n",
       "       [105.46050457],\n",
       "       [106.63246823],\n",
       "       [110.46727556],\n",
       "       [115.98365779],\n",
       "       [121.77852319],\n",
       "       [126.39967498],\n",
       "       [128.72113578],\n",
       "       [128.2215775 ],\n",
       "       [125.10332173]])"
      ]
     },
     "execution_count": 44,
     "metadata": {},
     "output_type": "execute_result"
    }
   ],
   "source": [
    "predictions"
   ]
  },
  {
   "cell_type": "code",
   "execution_count": 45,
   "metadata": {},
   "outputs": [
    {
     "data": {
      "text/html": [
       "<div>\n",
       "<style scoped>\n",
       "    .dataframe tbody tr th:only-of-type {\n",
       "        vertical-align: middle;\n",
       "    }\n",
       "\n",
       "    .dataframe tbody tr th {\n",
       "        vertical-align: top;\n",
       "    }\n",
       "\n",
       "    .dataframe thead th {\n",
       "        text-align: right;\n",
       "    }\n",
       "</style>\n",
       "<table border=\"1\" class=\"dataframe\">\n",
       "  <thead>\n",
       "    <tr style=\"text-align: right;\">\n",
       "      <th></th>\n",
       "      <th>Production</th>\n",
       "    </tr>\n",
       "    <tr>\n",
       "      <th>DATE</th>\n",
       "      <th></th>\n",
       "    </tr>\n",
       "  </thead>\n",
       "  <tbody>\n",
       "    <tr>\n",
       "      <th>2012-08-01</th>\n",
       "      <td>107.643</td>\n",
       "    </tr>\n",
       "    <tr>\n",
       "      <th>2012-09-01</th>\n",
       "      <td>96.370</td>\n",
       "    </tr>\n",
       "    <tr>\n",
       "      <th>2012-10-01</th>\n",
       "      <td>88.886</td>\n",
       "    </tr>\n",
       "    <tr>\n",
       "      <th>2012-11-01</th>\n",
       "      <td>74.838</td>\n",
       "    </tr>\n",
       "    <tr>\n",
       "      <th>2012-12-01</th>\n",
       "      <td>68.769</td>\n",
       "    </tr>\n",
       "    <tr>\n",
       "      <th>...</th>\n",
       "      <td>...</td>\n",
       "    </tr>\n",
       "    <tr>\n",
       "      <th>2019-05-01</th>\n",
       "      <td>114.561</td>\n",
       "    </tr>\n",
       "    <tr>\n",
       "      <th>2019-06-01</th>\n",
       "      <td>124.960</td>\n",
       "    </tr>\n",
       "    <tr>\n",
       "      <th>2019-07-01</th>\n",
       "      <td>110.263</td>\n",
       "    </tr>\n",
       "    <tr>\n",
       "      <th>2019-08-01</th>\n",
       "      <td>102.609</td>\n",
       "    </tr>\n",
       "    <tr>\n",
       "      <th>2019-09-01</th>\n",
       "      <td>101.587</td>\n",
       "    </tr>\n",
       "  </tbody>\n",
       "</table>\n",
       "<p>86 rows × 1 columns</p>\n",
       "</div>"
      ],
      "text/plain": [
       "            Production\n",
       "DATE                  \n",
       "2012-08-01     107.643\n",
       "2012-09-01      96.370\n",
       "2012-10-01      88.886\n",
       "2012-11-01      74.838\n",
       "2012-12-01      68.769\n",
       "...                ...\n",
       "2019-05-01     114.561\n",
       "2019-06-01     124.960\n",
       "2019-07-01     110.263\n",
       "2019-08-01     102.609\n",
       "2019-09-01     101.587\n",
       "\n",
       "[86 rows x 1 columns]"
      ]
     },
     "execution_count": 45,
     "metadata": {},
     "output_type": "execute_result"
    }
   ],
   "source": [
    "test"
   ]
  },
  {
   "cell_type": "code",
   "execution_count": 46,
   "metadata": {},
   "outputs": [],
   "source": [
    "test['RNN_Predictions'] = predictions"
   ]
  },
  {
   "cell_type": "code",
   "execution_count": 47,
   "metadata": {},
   "outputs": [
    {
     "data": {
      "text/html": [
       "<div>\n",
       "<style scoped>\n",
       "    .dataframe tbody tr th:only-of-type {\n",
       "        vertical-align: middle;\n",
       "    }\n",
       "\n",
       "    .dataframe tbody tr th {\n",
       "        vertical-align: top;\n",
       "    }\n",
       "\n",
       "    .dataframe thead th {\n",
       "        text-align: right;\n",
       "    }\n",
       "</style>\n",
       "<table border=\"1\" class=\"dataframe\">\n",
       "  <thead>\n",
       "    <tr style=\"text-align: right;\">\n",
       "      <th></th>\n",
       "      <th>Production</th>\n",
       "      <th>RNN_Predictions</th>\n",
       "    </tr>\n",
       "    <tr>\n",
       "      <th>DATE</th>\n",
       "      <th></th>\n",
       "      <th></th>\n",
       "    </tr>\n",
       "  </thead>\n",
       "  <tbody>\n",
       "    <tr>\n",
       "      <th>2012-08-01</th>\n",
       "      <td>107.643</td>\n",
       "      <td>106.341</td>\n",
       "    </tr>\n",
       "    <tr>\n",
       "      <th>2012-09-01</th>\n",
       "      <td>96.370</td>\n",
       "      <td>99.649</td>\n",
       "    </tr>\n",
       "    <tr>\n",
       "      <th>2012-10-01</th>\n",
       "      <td>88.886</td>\n",
       "      <td>93.601</td>\n",
       "    </tr>\n",
       "    <tr>\n",
       "      <th>2012-11-01</th>\n",
       "      <td>74.838</td>\n",
       "      <td>86.665</td>\n",
       "    </tr>\n",
       "    <tr>\n",
       "      <th>2012-12-01</th>\n",
       "      <td>68.769</td>\n",
       "      <td>82.923</td>\n",
       "    </tr>\n",
       "    <tr>\n",
       "      <th>...</th>\n",
       "      <td>...</td>\n",
       "      <td>...</td>\n",
       "    </tr>\n",
       "    <tr>\n",
       "      <th>2019-05-01</th>\n",
       "      <td>114.561</td>\n",
       "      <td>121.779</td>\n",
       "    </tr>\n",
       "    <tr>\n",
       "      <th>2019-06-01</th>\n",
       "      <td>124.960</td>\n",
       "      <td>126.400</td>\n",
       "    </tr>\n",
       "    <tr>\n",
       "      <th>2019-07-01</th>\n",
       "      <td>110.263</td>\n",
       "      <td>128.721</td>\n",
       "    </tr>\n",
       "    <tr>\n",
       "      <th>2019-08-01</th>\n",
       "      <td>102.609</td>\n",
       "      <td>128.222</td>\n",
       "    </tr>\n",
       "    <tr>\n",
       "      <th>2019-09-01</th>\n",
       "      <td>101.587</td>\n",
       "      <td>125.103</td>\n",
       "    </tr>\n",
       "  </tbody>\n",
       "</table>\n",
       "<p>86 rows × 2 columns</p>\n",
       "</div>"
      ],
      "text/plain": [
       "            Production  RNN_Predictions\n",
       "DATE                                   \n",
       "2012-08-01     107.643          106.341\n",
       "2012-09-01      96.370           99.649\n",
       "2012-10-01      88.886           93.601\n",
       "2012-11-01      74.838           86.665\n",
       "2012-12-01      68.769           82.923\n",
       "...                ...              ...\n",
       "2019-05-01     114.561          121.779\n",
       "2019-06-01     124.960          126.400\n",
       "2019-07-01     110.263          128.721\n",
       "2019-08-01     102.609          128.222\n",
       "2019-09-01     101.587          125.103\n",
       "\n",
       "[86 rows x 2 columns]"
      ]
     },
     "execution_count": 47,
     "metadata": {},
     "output_type": "execute_result"
    }
   ],
   "source": [
    "test"
   ]
  },
  {
   "cell_type": "code",
   "execution_count": 48,
   "metadata": {
    "id": "jCKSgQrxW0Uc"
   },
   "outputs": [
    {
     "data": {
      "text/plain": [
       "<AxesSubplot:xlabel='DATE'>"
      ]
     },
     "execution_count": 48,
     "metadata": {},
     "output_type": "execute_result"
    },
    {
     "data": {
      "image/png": "[encoded data removed]",
      "text/plain": [
       "<Figure size 720x432 with 1 Axes>"
      ]
     },
     "metadata": {},
     "output_type": "display_data"
    }
   ],
   "source": [
    "test.plot()"
   ]
  },
  {
   "cell_type": "markdown",
   "metadata": {
    "id": "8LWk7fR2W0Uc"
   },
   "source": [
    "#### Calculation R2 Score and Error Metrics"
   ]
  },
  {
   "cell_type": "code",
   "execution_count": 49,
   "metadata": {},
   "outputs": [],
   "source": [
    "from sklearn.metrics import mean_absolute_error, mean_squared_error, r2_score"
   ]
  },
  {
   "cell_type": "code",
   "execution_count": 50,
   "metadata": {},
   "outputs": [],
   "source": [
    "def eval_metrics(actual, pred):\n",
    "    rmse = np.sqrt(mean_squared_error(actual, pred))\n",
    "    mae = mean_absolute_error(actual, pred)\n",
    "    mse = mean_squared_error(actual, pred)\n",
    "    score = r2_score(actual, pred)\n",
    "    return print(\"r2_score:\", score, \"\\nmae:\", mae, \"\\nmse:\",mse, \"\\nrmse:\",rmse)"
   ]
  },
  {
   "cell_type": "code",
   "execution_count": 51,
   "metadata": {
    "id": "6NL6kGVpW0Uc"
   },
   "outputs": [
    {
     "name": "stdout",
     "output_type": "stream",
     "text": [
      "r2_score: 0.3502512605806377 \n",
      "mae: 10.070514879874672 \n",
      "mse: 159.73330063474967 \n",
      "rmse: 12.63856402581993\n"
     ]
    }
   ],
   "source": [
    "eval_metrics(test.Production, test.RNN_Predictions)"
   ]
  },
  {
   "cell_type": "markdown",
   "metadata": {
    "id": "AeWZTdyPW0Ud"
   },
   "source": [
    "### with \"relu\" activation function"
   ]
  },
  {
   "cell_type": "code",
   "execution_count": 52,
   "metadata": {
    "id": "lrlNA3cIW0Ud"
   },
   "outputs": [],
   "source": [
    "model = Sequential()\n",
    "model.add(SimpleRNN(units = 80, activation = \"relu\", input_shape=(length, 1)))\n",
    "model.add(Dense(units = 1))\n",
    "model.compile(optimizer='adam', loss='mse')"
   ]
  },
  {
   "cell_type": "code",
   "execution_count": 53,
   "metadata": {},
   "outputs": [
    {
     "name": "stdout",
     "output_type": "stream",
     "text": [
      "Model: \"sequential_1\"\n",
      "_________________________________________________________________\n",
      "Layer (type)                 Output Shape              Param #   \n",
      "=================================================================\n",
      "simple_rnn_1 (SimpleRNN)     (None, 80)                6560      \n",
      "_________________________________________________________________\n",
      "dense_1 (Dense)              (None, 1)                 81        \n",
      "=================================================================\n",
      "Total params: 6,641\n",
      "Trainable params: 6,641\n",
      "Non-trainable params: 0\n",
      "_________________________________________________________________\n"
     ]
    }
   ],
   "source": [
    "model.summary()"
   ]
  },
  {
   "cell_type": "code",
   "execution_count": 54,
   "metadata": {},
   "outputs": [
    {
     "name": "stdout",
     "output_type": "stream",
     "text": [
      "Epoch 1/5\n",
      "475/475 [==============================] - 4s 6ms/step - loss: 0.0099\n",
      "Epoch 2/5\n",
      "475/475 [==============================] - 3s 6ms/step - loss: 0.0039\n",
      "Epoch 3/5\n",
      "475/475 [==============================] - 3s 7ms/step - loss: 0.0027\n",
      "Epoch 4/5\n",
      "475/475 [==============================] - 4s 7ms/step - loss: 0.0029\n",
      "Epoch 5/5\n",
      "475/475 [==============================] - 3s 6ms/step - loss: 0.0025\n"
     ]
    },
    {
     "data": {
      "text/plain": [
       "<keras.callbacks.History at 0x1276593b730>"
      ]
     },
     "execution_count": 54,
     "metadata": {},
     "output_type": "execute_result"
    }
   ],
   "source": [
    "model.fit_generator(generator = generator, epochs = 5)"
   ]
  },
  {
   "cell_type": "markdown",
   "metadata": {
    "id": "UEwhDIzzW0Ud"
   },
   "source": [
    "#### Evaluate on Test Data"
   ]
  },
  {
   "cell_type": "code",
   "execution_count": 55,
   "metadata": {},
   "outputs": [],
   "source": [
    "first_eval_batch = train_scaled[-length:]"
   ]
  },
  {
   "cell_type": "code",
   "execution_count": 56,
   "metadata": {},
   "outputs": [
    {
     "data": {
      "text/plain": [
       "(12, 1)"
      ]
     },
     "execution_count": 56,
     "metadata": {},
     "output_type": "execute_result"
    }
   ],
   "source": [
    "first_eval_batch.shape"
   ]
  },
  {
   "cell_type": "code",
   "execution_count": 57,
   "metadata": {},
   "outputs": [],
   "source": [
    "first_eval_batch = first_eval_batch.reshape((1, length, 1))"
   ]
  },
  {
   "cell_type": "code",
   "execution_count": 58,
   "metadata": {},
   "outputs": [
    {
     "data": {
      "text/plain": [
       "(1, 12, 1)"
      ]
     },
     "execution_count": 58,
     "metadata": {},
     "output_type": "execute_result"
    }
   ],
   "source": [
    "first_eval_batch.shape"
   ]
  },
  {
   "cell_type": "code",
   "execution_count": 60,
   "metadata": {},
   "outputs": [
    {
     "data": {
      "text/plain": [
       "array([[0.33611423]], dtype=float32)"
      ]
     },
     "execution_count": 60,
     "metadata": {},
     "output_type": "execute_result"
    }
   ],
   "source": [
    "model.predict(first_eval_batch)"
   ]
  },
  {
   "cell_type": "code",
   "execution_count": 61,
   "metadata": {
    "id": "sEIphpveW0Ud"
   },
   "outputs": [],
   "source": [
    "test_predictions = []\n",
    "\n",
    "first_eval_batch = train_scaled[-length:]\n",
    "current_batch = first_eval_batch.reshape((1, length, 1))"
   ]
  },
  {
   "cell_type": "code",
   "execution_count": 62,
   "metadata": {
    "scrolled": true,
    "tags": []
   },
   "outputs": [
    {
     "data": {
      "text/plain": [
       "array([[[0.31339595],\n",
       "        [0.23591506],\n",
       "        [0.12980579],\n",
       "        [0.09307932],\n",
       "        [0.19444507],\n",
       "        [0.29743684],\n",
       "        [0.39142952],\n",
       "        [0.40833181],\n",
       "        [0.40654945],\n",
       "        [0.47764626],\n",
       "        [0.39026746],\n",
       "        [0.33611423]]])"
      ]
     },
     "execution_count": 62,
     "metadata": {},
     "output_type": "execute_result"
    }
   ],
   "source": [
    "np.append(current_batch[:,1:,:], [[[0.33611423]]], axis = 1)"
   ]
  },
  {
   "cell_type": "code",
   "execution_count": 63,
   "metadata": {},
   "outputs": [],
   "source": [
    "predictions_scaled = []\n",
    "\n",
    "first_eval_batch = train_scaled[-length:]\n",
    "current_batch = first_eval_batch.reshape((1, length, 1))\n",
    "\n",
    "for i in range(len(test)):\n",
    "    \n",
    "    current_pred = model.predict(current_batch)\n",
    "    \n",
    "    predictions_scaled.append(current_pred[0]) \n",
    "    \n",
    "    current_batch = np.append(current_batch[:, 1:, :], [current_pred], axis = 1)"
   ]
  },
  {
   "cell_type": "code",
   "execution_count": 64,
   "metadata": {
    "scrolled": true,
    "tags": []
   },
   "outputs": [
    {
     "data": {
      "text/plain": [
       "[array([0.33611423], dtype=float32),\n",
       " array([0.2234455], dtype=float32),\n",
       " array([0.13583928], dtype=float32),\n",
       " array([0.1270311], dtype=float32),\n",
       " array([0.1982683], dtype=float32),\n",
       " array([0.3363988], dtype=float32),\n",
       " array([0.4232538], dtype=float32),\n",
       " array([0.47345257], dtype=float32),\n",
       " array([0.57709754], dtype=float32),\n",
       " array([0.6371455], dtype=float32),\n",
       " array([0.59365916], dtype=float32),\n",
       " array([0.5121355], dtype=float32),\n",
       " array([0.3826728], dtype=float32),\n",
       " array([0.25454062], dtype=float32),\n",
       " array([0.16042471], dtype=float32),\n",
       " array([0.1648525], dtype=float32),\n",
       " array([0.27885544], dtype=float32),\n",
       " array([0.45286044], dtype=float32),\n",
       " array([0.532537], dtype=float32),\n",
       " array([0.5865596], dtype=float32),\n",
       " array([0.69538915], dtype=float32),\n",
       " array([0.73294777], dtype=float32),\n",
       " array([0.66273004], dtype=float32),\n",
       " array([0.5571638], dtype=float32),\n",
       " array([0.4179462], dtype=float32),\n",
       " array([0.2805632], dtype=float32),\n",
       " array([0.1951868], dtype=float32),\n",
       " array([0.23038739], dtype=float32),\n",
       " array([0.38891044], dtype=float32),\n",
       " array([0.5572767], dtype=float32),\n",
       " array([0.62369305], dtype=float32),\n",
       " array([0.6894358], dtype=float32),\n",
       " array([0.80437356], dtype=float32),\n",
       " array([0.80108696], dtype=float32),\n",
       " array([0.7175008], dtype=float32),\n",
       " array([0.5916465], dtype=float32),\n",
       " array([0.4522459], dtype=float32),\n",
       " array([0.31496164], dtype=float32),\n",
       " array([0.2429749], dtype=float32),\n",
       " array([0.315756], dtype=float32),\n",
       " array([0.5076264], dtype=float32),\n",
       " array([0.6596739], dtype=float32),\n",
       " array([0.7204276], dtype=float32),\n",
       " array([0.80465806], dtype=float32),\n",
       " array([0.9075835], dtype=float32),\n",
       " array([0.857622], dtype=float32),\n",
       " array([0.7612009], dtype=float32),\n",
       " array([0.6230264], dtype=float32),\n",
       " array([0.4790325], dtype=float32),\n",
       " array([0.3415434], dtype=float32),\n",
       " array([0.2956852], dtype=float32),\n",
       " array([0.42029873], dtype=float32),\n",
       " array([0.62878823], dtype=float32),\n",
       " array([0.7528931], dtype=float32),\n",
       " array([0.8107576], dtype=float32),\n",
       " array([0.9121339], dtype=float32),\n",
       " array([0.98759156], dtype=float32),\n",
       " array([0.9051511], dtype=float32),\n",
       " array([0.791607], dtype=float32),\n",
       " array([0.64611006], dtype=float32),\n",
       " array([0.5014898], dtype=float32),\n",
       " array([0.36886895], dtype=float32),\n",
       " array([0.36891693], dtype=float32),\n",
       " array([0.537643], dtype=float32),\n",
       " array([0.73852396], dtype=float32),\n",
       " array([0.84078723], dtype=float32),\n",
       " array([0.90541035], dtype=float32),\n",
       " array([1.0118043], dtype=float32),\n",
       " array([1.0422746], dtype=float32),\n",
       " array([0.94304496], dtype=float32),\n",
       " array([0.81356883], dtype=float32),\n",
       " array([0.66448605], dtype=float32),\n",
       " array([0.51680195], dtype=float32),\n",
       " array([0.40811], dtype=float32),\n",
       " array([0.4605465], dtype=float32),\n",
       " array([0.6607386], dtype=float32),\n",
       " array([0.84204847], dtype=float32),\n",
       " array([0.92036504], dtype=float32),\n",
       " array([0.99615425], dtype=float32),\n",
       " array([1.097917], dtype=float32),\n",
       " array([1.0681434], dtype=float32),\n",
       " array([0.9581029], dtype=float32),\n",
       " array([0.8155182], dtype=float32),\n",
       " array([0.66577864], dtype=float32),\n",
       " array([0.51853514], dtype=float32),\n",
       " array([0.453901], dtype=float32)]"
      ]
     },
     "execution_count": 64,
     "metadata": {},
     "output_type": "execute_result"
    }
   ],
   "source": [
    "predictions_scaled"
   ]
  },
  {
   "cell_type": "code",
   "execution_count": 65,
   "metadata": {
    "scrolled": true,
    "tags": []
   },
   "outputs": [
    {
     "data": {
      "text/plain": [
       "array([[0.35620545],\n",
       "       [0.27422828],\n",
       "       [0.2198076 ],\n",
       "       [0.11764411],\n",
       "       [0.07351475],\n",
       "       [0.14149624],\n",
       "       [0.2863296 ],\n",
       "       [0.35795581],\n",
       "       [0.35814561],\n",
       "       [0.37998486],\n",
       "       [0.50926561],\n",
       "       [0.39057433],\n",
       "       [0.34465461],\n",
       "       [0.28747203],\n",
       "       [0.23516459],\n",
       "       [0.15569044],\n",
       "       [0.06649001],\n",
       "       [0.20170834],\n",
       "       [0.31321197],\n",
       "       [0.40080166],\n",
       "       [0.44136265],\n",
       "       [0.42156466],\n",
       "       [0.52634606],\n",
       "       [0.42622818],\n",
       "       [0.38365722],\n",
       "       [0.30511534],\n",
       "       [0.23707931],\n",
       "       [0.20297948],\n",
       "       [0.12155208],\n",
       "       [0.19574094],\n",
       "       [0.30468338],\n",
       "       [0.37028329],\n",
       "       [0.36143183],\n",
       "       [0.34467716],\n",
       "       [0.41797884],\n",
       "       [0.36154745],\n",
       "       [0.38938173],\n",
       "       [0.30315844],\n",
       "       [0.25649698],\n",
       "       [0.19782873],\n",
       "       [0.13318726],\n",
       "       [0.24834362],\n",
       "       [0.3149827 ],\n",
       "       [0.41828135],\n",
       "       [0.4766849 ],\n",
       "       [0.45728977],\n",
       "       [0.54050318],\n",
       "       [0.48134479],\n",
       "       [0.45575247],\n",
       "       [0.35906261],\n",
       "       [0.31068714],\n",
       "       [0.20365141],\n",
       "       [0.16432593],\n",
       "       [0.2587782 ],\n",
       "       [0.39071032],\n",
       "       [0.44387077],\n",
       "       [0.4695409 ],\n",
       "       [0.41743926],\n",
       "       [0.46851409],\n",
       "       [0.41889656],\n",
       "       [0.39641011],\n",
       "       [0.28544533],\n",
       "       [0.23134679],\n",
       "       [0.13655347],\n",
       "       [0.12472921],\n",
       "       [0.18015997],\n",
       "       [0.29691617],\n",
       "       [0.35382169],\n",
       "       [0.39102302],\n",
       "       [0.37592272],\n",
       "       [0.47940099],\n",
       "       [0.42586022],\n",
       "       [0.3928192 ],\n",
       "       [0.32470899],\n",
       "       [0.2434103 ],\n",
       "       [0.17289089],\n",
       "       [0.13163033],\n",
       "       [0.20608099],\n",
       "       [0.28689318],\n",
       "       [0.41822681],\n",
       "       [0.40948951],\n",
       "       [0.40651527],\n",
       "       [0.48213817],\n",
       "       [0.37525952],\n",
       "       [0.3195946 ],\n",
       "       [0.31216335]])"
      ]
     },
     "execution_count": 65,
     "metadata": {},
     "output_type": "execute_result"
    }
   ],
   "source": [
    "test_scaled"
   ]
  },
  {
   "cell_type": "markdown",
   "metadata": {
    "id": "P17_vbkUW0Ue"
   },
   "source": [
    "#### Inverse Transformations and Comparing"
   ]
  },
  {
   "cell_type": "code",
   "execution_count": 66,
   "metadata": {},
   "outputs": [],
   "source": [
    "predictions = scaler.inverse_transform(predictions_scaled)"
   ]
  },
  {
   "cell_type": "code",
   "execution_count": 67,
   "metadata": {
    "scrolled": true,
    "tags": []
   },
   "outputs": [
    {
     "data": {
      "text/plain": [
       "array([[104.88017831],\n",
       "       [ 89.38666282],\n",
       "       [ 77.33958964],\n",
       "       [ 76.12834236],\n",
       "       [ 85.9244464 ],\n",
       "       [104.91931234],\n",
       "       [116.86308134],\n",
       "       [123.7661091 ],\n",
       "       [138.01873274],\n",
       "       [146.27616522],\n",
       "       [140.29618671],\n",
       "       [129.08555071],\n",
       "       [111.28262732],\n",
       "       [ 93.66267367],\n",
       "       [ 80.72042743],\n",
       "       [ 81.32931019],\n",
       "       [ 97.0062995 ],\n",
       "       [120.93440592],\n",
       "       [131.89103749],\n",
       "       [139.31989731],\n",
       "       [154.28547425],\n",
       "       [159.45030591],\n",
       "       [149.7943922 ],\n",
       "       [135.27756363],\n",
       "       [116.13321053],\n",
       "       [ 97.24114058],\n",
       "       [ 85.50069724],\n",
       "       [ 90.34126846],\n",
       "       [112.14039171],\n",
       "       [135.29309594],\n",
       "       [144.42626356],\n",
       "       [153.46680291],\n",
       "       [169.27234561],\n",
       "       [168.82039241],\n",
       "       [157.32613407],\n",
       "       [140.0194166 ],\n",
       "       [120.84989624],\n",
       "       [101.97140375],\n",
       "       [ 92.07222709],\n",
       "       [102.08063806],\n",
       "       [128.46548797],\n",
       "       [149.37413473],\n",
       "       [157.72860519],\n",
       "       [169.31146735],\n",
       "       [183.46514324],\n",
       "       [176.59474971],\n",
       "       [163.33550511],\n",
       "       [144.33458608],\n",
       "       [124.53342547],\n",
       "       [105.62676581],\n",
       "       [ 99.32062528],\n",
       "       [116.45671689],\n",
       "       [145.12692217],\n",
       "       [162.19306512],\n",
       "       [170.15023643],\n",
       "       [184.09088613],\n",
       "       [194.46736766],\n",
       "       [183.13066181],\n",
       "       [167.5167689 ],\n",
       "       [147.50891388],\n",
       "       [127.6216207 ],\n",
       "       [109.38440749],\n",
       "       [109.39100565],\n",
       "       [132.59318785],\n",
       "       [160.21711   ],\n",
       "       [174.27973133],\n",
       "       [183.16630824],\n",
       "       [197.79696114],\n",
       "       [201.98704433],\n",
       "       [188.34159039],\n",
       "       [170.5368228 ],\n",
       "       [150.03586831],\n",
       "       [129.72725213],\n",
       "       [114.78059673],\n",
       "       [121.99134446],\n",
       "       [149.52054003],\n",
       "       [174.45316858],\n",
       "       [185.22278546],\n",
       "       [195.64485574],\n",
       "       [209.63864314],\n",
       "       [205.54436026],\n",
       "       [190.41226389],\n",
       "       [170.80488826],\n",
       "       [150.2136169 ],\n",
       "       [129.965589  ],\n",
       "       [121.07749574]])"
      ]
     },
     "execution_count": 67,
     "metadata": {},
     "output_type": "execute_result"
    }
   ],
   "source": [
    "predictions"
   ]
  },
  {
   "cell_type": "code",
   "execution_count": 68,
   "metadata": {},
   "outputs": [],
   "source": [
    "test['Relu_Predictions'] = predictions"
   ]
  },
  {
   "cell_type": "code",
   "execution_count": 69,
   "metadata": {
    "id": "v-M3v-GIW0Ue"
   },
   "outputs": [
    {
     "data": {
      "text/html": [
       "<div>\n",
       "<style scoped>\n",
       "    .dataframe tbody tr th:only-of-type {\n",
       "        vertical-align: middle;\n",
       "    }\n",
       "\n",
       "    .dataframe tbody tr th {\n",
       "        vertical-align: top;\n",
       "    }\n",
       "\n",
       "    .dataframe thead th {\n",
       "        text-align: right;\n",
       "    }\n",
       "</style>\n",
       "<table border=\"1\" class=\"dataframe\">\n",
       "  <thead>\n",
       "    <tr style=\"text-align: right;\">\n",
       "      <th></th>\n",
       "      <th>Production</th>\n",
       "      <th>RNN_Predictions</th>\n",
       "      <th>Relu_Predictions</th>\n",
       "    </tr>\n",
       "    <tr>\n",
       "      <th>DATE</th>\n",
       "      <th></th>\n",
       "      <th></th>\n",
       "      <th></th>\n",
       "    </tr>\n",
       "  </thead>\n",
       "  <tbody>\n",
       "    <tr>\n",
       "      <th>2012-08-01</th>\n",
       "      <td>107.643</td>\n",
       "      <td>106.341</td>\n",
       "      <td>104.880</td>\n",
       "    </tr>\n",
       "    <tr>\n",
       "      <th>2012-09-01</th>\n",
       "      <td>96.370</td>\n",
       "      <td>99.649</td>\n",
       "      <td>89.387</td>\n",
       "    </tr>\n",
       "    <tr>\n",
       "      <th>2012-10-01</th>\n",
       "      <td>88.886</td>\n",
       "      <td>93.601</td>\n",
       "      <td>77.340</td>\n",
       "    </tr>\n",
       "    <tr>\n",
       "      <th>2012-11-01</th>\n",
       "      <td>74.838</td>\n",
       "      <td>86.665</td>\n",
       "      <td>76.128</td>\n",
       "    </tr>\n",
       "    <tr>\n",
       "      <th>2012-12-01</th>\n",
       "      <td>68.769</td>\n",
       "      <td>82.923</td>\n",
       "      <td>85.924</td>\n",
       "    </tr>\n",
       "    <tr>\n",
       "      <th>...</th>\n",
       "      <td>...</td>\n",
       "      <td>...</td>\n",
       "      <td>...</td>\n",
       "    </tr>\n",
       "    <tr>\n",
       "      <th>2019-05-01</th>\n",
       "      <td>114.561</td>\n",
       "      <td>121.779</td>\n",
       "      <td>190.412</td>\n",
       "    </tr>\n",
       "    <tr>\n",
       "      <th>2019-06-01</th>\n",
       "      <td>124.960</td>\n",
       "      <td>126.400</td>\n",
       "      <td>170.805</td>\n",
       "    </tr>\n",
       "    <tr>\n",
       "      <th>2019-07-01</th>\n",
       "      <td>110.263</td>\n",
       "      <td>128.721</td>\n",
       "      <td>150.214</td>\n",
       "    </tr>\n",
       "    <tr>\n",
       "      <th>2019-08-01</th>\n",
       "      <td>102.609</td>\n",
       "      <td>128.222</td>\n",
       "      <td>129.966</td>\n",
       "    </tr>\n",
       "    <tr>\n",
       "      <th>2019-09-01</th>\n",
       "      <td>101.587</td>\n",
       "      <td>125.103</td>\n",
       "      <td>121.077</td>\n",
       "    </tr>\n",
       "  </tbody>\n",
       "</table>\n",
       "<p>86 rows × 3 columns</p>\n",
       "</div>"
      ],
      "text/plain": [
       "            Production  RNN_Predictions  Relu_Predictions\n",
       "DATE                                                     \n",
       "2012-08-01     107.643          106.341           104.880\n",
       "2012-09-01      96.370           99.649            89.387\n",
       "2012-10-01      88.886           93.601            77.340\n",
       "2012-11-01      74.838           86.665            76.128\n",
       "2012-12-01      68.769           82.923            85.924\n",
       "...                ...              ...               ...\n",
       "2019-05-01     114.561          121.779           190.412\n",
       "2019-06-01     124.960          126.400           170.805\n",
       "2019-07-01     110.263          128.721           150.214\n",
       "2019-08-01     102.609          128.222           129.966\n",
       "2019-09-01     101.587          125.103           121.077\n",
       "\n",
       "[86 rows x 3 columns]"
      ]
     },
     "execution_count": 69,
     "metadata": {},
     "output_type": "execute_result"
    }
   ],
   "source": [
    "test"
   ]
  },
  {
   "cell_type": "code",
   "execution_count": 70,
   "metadata": {},
   "outputs": [
    {
     "data": {
      "text/plain": [
       "<AxesSubplot:xlabel='DATE'>"
      ]
     },
     "execution_count": 70,
     "metadata": {},
     "output_type": "execute_result"
    },
    {
     "data": {
      "image/png": "[encoded data removed]",
      "text/plain": [
       "<Figure size 720x432 with 1 Axes>"
      ]
     },
     "metadata": {},
     "output_type": "display_data"
    }
   ],
   "source": [
    "test.plot()"
   ]
  },
  {
   "cell_type": "markdown",
   "metadata": {
    "id": "y2YxA_sTW0Ue"
   },
   "source": [
    "#### Calculation R2 Score and Error Metrics"
   ]
  },
  {
   "cell_type": "code",
   "execution_count": 71,
   "metadata": {
    "id": "biBzyA-dW0Uf"
   },
   "outputs": [
    {
     "name": "stdout",
     "output_type": "stream",
     "text": [
      "r2_score: -8.137696320113392 \n",
      "mae: 37.91468854731101 \n",
      "mse: 2246.398191882699 \n",
      "rmse: 47.39618330501623\n"
     ]
    }
   ],
   "source": [
    "eval_metrics(test.Production, test.Relu_Predictions)"
   ]
  },
  {
   "cell_type": "code",
   "execution_count": null,
   "metadata": {},
   "outputs": [],
   "source": []
  }
 ],
 "metadata": {
  "colab": {
   "name": "DL-Assignmet-3 (RNN-Time_Series-Frozen_Dessert_Production)-Student.ipynb",
   "provenance": []
  },
  "kernelspec": {
   "display_name": "Python 3 (ipykernel)",
   "language": "python",
   "name": "python3"
  },
  "language_info": {
   "codemirror_mode": {
    "name": "ipython",
    "version": 3
   },
   "file_extension": ".py",
   "mimetype": "text/x-python",
   "name": "python",
   "nbconvert_exporter": "python",
   "pygments_lexer": "ipython3",
   "version": "3.9.7"
  }
 },
 "nbformat": 4,
 "nbformat_minor": 4
}
