{
 "cells": [
  {
   "cell_type": "markdown",
   "id": "f5ffd32b-87d9-42ca-b56a-ef23d48f0585",
   "metadata": {},
   "source": [
    "## STATISTICS                                                   "
   ]
  },
  {
   "cell_type": "markdown",
   "id": "5bca5b96-3ac3-4ff3-8819-435ff98fcee0",
   "metadata": {},
   "source": [
    "## ASSIGNMENT-4 "
   ]
  },
  {
   "cell_type": "code",
   "execution_count": 2,
   "id": "ff2c304e-4642-4a04-8765-ccdf3010e938",
   "metadata": {},
   "outputs": [],
   "source": [
    "import numpy as np\n",
    "import pandas as pd\n",
    "from scipy import stats\n",
    "import matplotlib.pyplot as plt\n",
    "%matplotlib inline"
   ]
  },
  {
   "cell_type": "markdown",
   "id": "41dc3272-db0e-46b5-b485-15adc8bac077",
   "metadata": {},
   "source": [
    "EXERCISE 1. \n",
    "Answer the following questions by looking at the distribution table or coding with Python.\n",
    "1.\tA salesperson has found that the probability of a sale on a single contact is approximately .3. If the salesperson contacts 10 prospects, what is the approximate probability of making at least one sale? (Wackerly, Ex.3.135)"
   ]
  },
  {
   "cell_type": "code",
   "execution_count": 3,
   "id": "678a7ee4-7ec7-4e23-8689-723a5e648a42",
   "metadata": {},
   "outputs": [],
   "source": [
    "n = 10\n",
    "p = 0.3\n",
    "x = 1"
   ]
  },
  {
   "cell_type": "code",
   "execution_count": 4,
   "id": "db732f56-cfef-4443-b8ea-527f037027cc",
   "metadata": {},
   "outputs": [
    {
     "data": {
      "text/plain": [
       "0.12106082100000018"
      ]
     },
     "execution_count": 4,
     "metadata": {},
     "output_type": "execute_result"
    }
   ],
   "source": [
    "stats.binom.pmf(x, n, p)"
   ]
  },
  {
   "cell_type": "markdown",
   "id": "9413eb7d-6010-466b-bf33-f4803e0aa9ab",
   "metadata": {},
   "source": [
    "2.\tTen coins are tossed simultaneously. Find the probability of getting\n",
    "(i) at least seven heads\n",
    "(ii) exactly seven heads\n",
    "(iii)at most seven heads"
   ]
  },
  {
   "cell_type": "code",
   "execution_count": null,
   "id": "bba246bb-7682-4052-9766-1627cbb07ac2",
   "metadata": {},
   "outputs": [],
   "source": [
    "n = 10\n",
    "p = 0.5\n",
    "x = 7"
   ]
  },
  {
   "cell_type": "markdown",
   "id": "86943b39-7fb0-4423-98a8-219e75755e69",
   "metadata": {},
   "source": [
    "# (i) at least seven heads"
   ]
  },
  {
   "cell_type": "code",
   "execution_count": 10,
   "id": "2c8abfa3-ac22-4568-b10e-9592d7280e70",
   "metadata": {
    "tags": []
   },
   "outputs": [
    {
     "data": {
      "text/plain": [
       "0.1493083459"
      ]
     },
     "execution_count": 10,
     "metadata": {},
     "output_type": "execute_result"
    }
   ],
   "source": [
    "stats.binom.cdf(x, n, p)"
   ]
  },
  {
   "cell_type": "markdown",
   "id": "04a9bd3c-a673-43b2-9a19-4602105856a1",
   "metadata": {},
   "source": [
    "# (ii) exactly seven heads"
   ]
  },
  {
   "cell_type": "code",
   "execution_count": 7,
   "id": "25062f75-f279-45c5-96f9-d36b83f4f753",
   "metadata": {},
   "outputs": [
    {
     "data": {
      "text/plain": [
       "0.12106082100000018"
      ]
     },
     "execution_count": 7,
     "metadata": {},
     "output_type": "execute_result"
    }
   ],
   "source": [
    "stats.binom.pmf(x, n, p)"
   ]
  },
  {
   "cell_type": "markdown",
   "id": "2f236dfd-9962-4520-ab18-77ed97a44b0e",
   "metadata": {},
   "source": [
    "## (iii)at most seven heads"
   ]
  },
  {
   "cell_type": "code",
   "execution_count": 11,
   "id": "715e6e00-75f0-4efa-8c6c-d7596170c381",
   "metadata": {},
   "outputs": [
    {
     "data": {
      "text/plain": [
       "0.8506916541"
      ]
     },
     "execution_count": 11,
     "metadata": {},
     "output_type": "execute_result"
    }
   ],
   "source": [
    "1- stats.binom.cdf(x, n, p)"
   ]
  },
  {
   "cell_type": "code",
   "execution_count": null,
   "id": "9d8a457f-6def-4666-b6ab-78920335a10a",
   "metadata": {},
   "outputs": [],
   "source": [
    "EXERCISE 2. \n",
    "The cycle time for trucks hauling concrete to a highway construction site is uniformly distributed over the \n",
    "interval 50 to 70 minutes. What is the probability that the cycle time exceeds 65 minutes  if it is known \n",
    "that the cycle time exceeds 55 minutes? "
   ]
  },
  {
   "cell_type": "code",
   "execution_count": 38,
   "id": "6a155164-c113-44e6-967d-c0d6c2b9c718",
   "metadata": {},
   "outputs": [],
   "source": [
    "55-50 / 70-50 = 0.25\n",
    "65-50 / 70-50 = 0.75\n",
    "0.25/0.75 = 0.3333"
   ]
  },
  {
   "cell_type": "code",
   "execution_count": null,
   "id": "2639e6e0-e8e9-41bb-ae7c-edb8a95b3370",
   "metadata": {},
   "outputs": [],
   "source": [
    "The width of bolts of fabric is normally distributed with mean 950 mm (millimeters) and standard deviation 10 mm.\n",
    "1.\tWhat is the probability that a randomly chosen bolt has a width of between 947 and 958mm?\n"
   ]
  },
  {
   "cell_type": "code",
   "execution_count": 25,
   "id": "f8e9b104-cbd6-4062-a425-d53ee59df309",
   "metadata": {},
   "outputs": [],
   "source": [
    "x = 947\n",
    "sigma= 10\n",
    "mu = 950"
   ]
  },
  {
   "cell_type": "code",
   "execution_count": 26,
   "id": "0728af95-9fc5-4eed-b4c1-8db6c829dc32",
   "metadata": {},
   "outputs": [
    {
     "data": {
      "text/plain": [
       "0.3820885778110474"
      ]
     },
     "execution_count": 26,
     "metadata": {},
     "output_type": "execute_result"
    }
   ],
   "source": [
    "a= stats.norm.cdf(x,mu,sigma)\n",
    "a"
   ]
  },
  {
   "cell_type": "code",
   "execution_count": 27,
   "id": "78e293c6-19a6-4e03-be50-9eb38c284de7",
   "metadata": {},
   "outputs": [],
   "source": [
    "x = 958"
   ]
  },
  {
   "cell_type": "code",
   "execution_count": 28,
   "id": "1b9e03b4-7c32-463e-ac1a-dfb25b6cbedd",
   "metadata": {},
   "outputs": [
    {
     "data": {
      "text/plain": [
       "0.7881446014166034"
      ]
     },
     "execution_count": 28,
     "metadata": {},
     "output_type": "execute_result"
    }
   ],
   "source": [
    "b = stats.norm.cdf(x,mu,sigma)\n",
    "b"
   ]
  },
  {
   "cell_type": "code",
   "execution_count": 29,
   "id": "21b80e11-74c4-4676-a2da-ae1b7bcb7012",
   "metadata": {},
   "outputs": [
    {
     "data": {
      "text/plain": [
       "0.406056023605556"
      ]
     },
     "execution_count": 29,
     "metadata": {},
     "output_type": "execute_result"
    }
   ],
   "source": [
    "b-a"
   ]
  },
  {
   "cell_type": "code",
   "execution_count": null,
   "id": "74559bf4-753e-4115-b015-2f0e49d2e0cd",
   "metadata": {},
   "outputs": [],
   "source": [
    "2.\tWhat is the appropriate value for C such that a randomly chosen bolt has a width less than C with probability .8531? "
   ]
  },
  {
   "cell_type": "code",
   "execution_count": 30,
   "id": "382392a5-cf45-47b6-96ef-6d54c62078af",
   "metadata": {},
   "outputs": [],
   "source": [
    "q = 0.8531"
   ]
  },
  {
   "cell_type": "code",
   "execution_count": 31,
   "id": "c3d16a79-2207-4372-9729-115e1537f313",
   "metadata": {},
   "outputs": [
    {
     "data": {
      "text/plain": [
       "960.4982190962642"
      ]
     },
     "execution_count": 31,
     "metadata": {},
     "output_type": "execute_result"
    }
   ],
   "source": [
    "stats.norm.ppf(q, loc = mu, scale=sigma)"
   ]
  },
  {
   "cell_type": "code",
   "execution_count": null,
   "id": "e51cf111-5ecb-4e1c-bc41-65331f032449",
   "metadata": {},
   "outputs": [],
   "source": [
    "EXERCISE 4. \n",
    "Suppose scores on exams in statistics are normally distributed with an unknown population mean and a population \n",
    "standard deviation of 3 points. A random sample of 36 scores is taken and gives a sample mean (sample mean score) of 68. \n",
    "Find a confidence interval estimate for the population mean exam score (the mean score on all exams). Find a 90% confidence \n",
    "interval for the true (population) mean of statistics exam scores.\n"
   ]
  },
  {
   "cell_type": "code",
   "execution_count": 32,
   "id": "584f5d56-70ea-439a-9a2a-cabf104ae5a8",
   "metadata": {},
   "outputs": [],
   "source": [
    "n = 36\n",
    "s = 3\n",
    "ci = 0.90\n",
    "xbar = 68\n",
    "\n",
    "sem = s/6"
   ]
  },
  {
   "cell_type": "code",
   "execution_count": 33,
   "id": "37f603d7-d56e-4dbb-95b2-8197a8c887d3",
   "metadata": {},
   "outputs": [
    {
     "data": {
      "text/plain": [
       "0.5"
      ]
     },
     "execution_count": 33,
     "metadata": {},
     "output_type": "execute_result"
    }
   ],
   "source": [
    "sem"
   ]
  },
  {
   "cell_type": "code",
   "execution_count": 34,
   "id": "4758524a-2f20-4567-a87e-6c04161933d6",
   "metadata": {},
   "outputs": [
    {
     "data": {
      "text/plain": [
       "(67.17757318652427, 68.82242681347573)"
      ]
     },
     "execution_count": 34,
     "metadata": {},
     "output_type": "execute_result"
    }
   ],
   "source": [
    "stats.norm.interval(0.90, loc=xbar, scale=sem)"
   ]
  },
  {
   "cell_type": "code",
   "execution_count": null,
   "id": "20083649-49a0-4ba6-8cdf-a2fbcb865790",
   "metadata": {},
   "outputs": [],
   "source": []
  },
  {
   "cell_type": "code",
   "execution_count": null,
   "id": "4217e262-7689-41a5-9961-d74412d8a604",
   "metadata": {},
   "outputs": [],
   "source": [
    "What is the normal body temperature for healthy humans? A random sample of 130 healthy human body temperatures \n",
    "provided by Allen Shoemaker yielded 98.25 degrees and standard deviation 0.73 degrees.\n",
    "1.\tGive a 99% confidence interval for the average body temperature of healthy people.\n"
   ]
  },
  {
   "cell_type": "code",
   "execution_count": 35,
   "id": "ee244f79-204c-4505-92e8-578fe051348f",
   "metadata": {},
   "outputs": [],
   "source": [
    "n = 130\n",
    "s = 0.73\n",
    "ci = 0.99\n",
    "xbar = 98.25\n",
    "\n",
    "sem = s/np.sqrt(n)"
   ]
  },
  {
   "cell_type": "code",
   "execution_count": 36,
   "id": "4f2357c3-9b48-4d40-9b54-ab328cdf18a2",
   "metadata": {},
   "outputs": [
    {
     "data": {
      "text/plain": [
       "0.06402523540941313"
      ]
     },
     "execution_count": 36,
     "metadata": {},
     "output_type": "execute_result"
    }
   ],
   "source": [
    "sem"
   ]
  },
  {
   "cell_type": "code",
   "execution_count": 37,
   "id": "afc80dd5-cd0e-47e3-92d9-2bda8640653e",
   "metadata": {},
   "outputs": [
    {
     "data": {
      "text/plain": [
       "(98.08508192246582, 98.41491807753418)"
      ]
     },
     "execution_count": 37,
     "metadata": {},
     "output_type": "execute_result"
    }
   ],
   "source": [
    "stats.norm.interval(0.99, loc=xbar, scale=sem)"
   ]
  },
  {
   "cell_type": "code",
   "execution_count": null,
   "id": "771c4ac5-bd38-4422-a269-f8ae3b549fb4",
   "metadata": {},
   "outputs": [],
   "source": [
    "2.\tDoes the confidence interval obtained in part (a) contain the value 98.6 degrees, the accepted average temperature \n",
    "cited by physicians and others? What conclusions can you draw? \n"
   ]
  },
  {
   "cell_type": "code",
   "execution_count": null,
   "id": "6f368301-c0f3-48ae-95b1-226688435887",
   "metadata": {},
   "outputs": [],
   "source": [
    "98.6 güven aralığı dışında."
   ]
  },
  {
   "cell_type": "code",
   "execution_count": null,
   "id": "c8cb6d93-e3ae-4914-8736-dd81e86dc5ee",
   "metadata": {},
   "outputs": [],
   "source": []
  },
  {
   "cell_type": "code",
   "execution_count": null,
   "id": "4473baf9-1ca4-4c58-b57d-6dad7166e771",
   "metadata": {},
   "outputs": [],
   "source": []
  }
 ],
 "metadata": {
  "kernelspec": {
   "display_name": "Python 3",
   "language": "python",
   "name": "python3"
  },
  "language_info": {
   "codemirror_mode": {
    "name": "ipython",
    "version": 3
   },
   "file_extension": ".py",
   "mimetype": "text/x-python",
   "name": "python",
   "nbconvert_exporter": "python",
   "pygments_lexer": "ipython3",
   "version": "3.8.8"
  }
 },
 "nbformat": 4,
 "nbformat_minor": 5
}
