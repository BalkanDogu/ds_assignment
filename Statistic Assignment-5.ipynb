{
 "cells": [
  {
   "cell_type": "code",
   "execution_count": 1,
   "id": "731b3392-9ea8-422c-992c-eb22d287cd17",
   "metadata": {},
   "outputs": [],
   "source": [
    "import pandas as pd\n",
    "import numpy as np\n",
    "from scipy import stats"
   ]
  },
  {
   "cell_type": "markdown",
   "id": "3f263321-ddf7-4519-865f-0162a3367892",
   "metadata": {},
   "source": [
    "## Statistics Assignment-5 (Hypothesis Tests)"
   ]
  },
  {
   "cell_type": "markdown",
   "id": "cf16a202-c2a7-48df-8b63-88197f62e760",
   "metadata": {},
   "source": [
    "Solve at least 3 exercises."
   ]
  },
  {
   "cell_type": "markdown",
   "id": "fb1a139d-5df7-4991-bfaa-47cc67d6a266",
   "metadata": {},
   "source": [
    "EXERCISE 1. The hourly wages in a particular industry are normally distributed with mean $13.20 and \n",
    "standard  deviation   $2.50. A company in this industry employs 40 workers, paying them an average of  $12.20 per hour. \n",
    "Can this company be accused of paying substandard wages? Use an α = .01 level test. (Wackerly, Ex.10.18)\n",
    "\n",
    "CHECK: statistic: -2.5298221281347035, pvalue= 0.005706018193000826"
   ]
  },
  {
   "cell_type": "code",
   "execution_count": 5,
   "id": "bc6c2a4f-d0ef-4da3-b310-8bff8c3cdbf6",
   "metadata": {},
   "outputs": [],
   "source": [
    "H0 = 13.20\n",
    "HA = 12.20\n",
    "std = 2.50\n",
    "n = 40\n",
    "alpha = 0.01 \n",
    "## sample 30 üstü olduğu için normal distribition kullanıcaz."
   ]
  },
  {
   "cell_type": "code",
   "execution_count": 18,
   "id": "ad78abef-3fdc-4bbd-9950-e7575dbdf74f",
   "metadata": {},
   "outputs": [
    {
     "data": {
      "text/plain": [
       "-2.5298221281347035"
      ]
     },
     "execution_count": 18,
     "metadata": {},
     "output_type": "execute_result"
    }
   ],
   "source": [
    "(12.20 - 13.20) / (2.5/np.sqrt(n))"
   ]
  },
  {
   "cell_type": "code",
   "execution_count": 12,
   "id": "d46b2ede-d3a9-4bdf-891c-41071552f675",
   "metadata": {},
   "outputs": [
    {
     "data": {
      "text/plain": [
       "0.0057059445577806005"
      ]
     },
     "execution_count": 12,
     "metadata": {},
     "output_type": "execute_result"
    }
   ],
   "source": [
    "stats.norm.cdf(-2.52982665628)"
   ]
  },
  {
   "cell_type": "code",
   "execution_count": null,
   "id": "f5459b54-04d2-4b26-b9d2-2b78ced266de",
   "metadata": {},
   "outputs": [],
   "source": []
  },
  {
   "cell_type": "markdown",
   "id": "fca19798-9748-4596-9f78-8e7cb6b2775c",
   "metadata": {},
   "source": [
    "EXERCISE 2. Shear strength measurements derived from unconfined compression tests for two types of soils gave the results \n",
    "shown in the following document (measurements in tons per square foot). Do the soils appear to differ with respect to average \n",
    "shear strength, at the 1% significance level?\n",
    "\n",
    "\n",
    "Results for two type of soils\n",
    "\n",
    "CHECK: statistic: 5.1681473319343345, pvalue= 2.593228732352821e-06"
   ]
  },
  {
   "cell_type": "code",
   "execution_count": 61,
   "id": "1c2c813c-3514-4b86-8274-cedb226d8e87",
   "metadata": {},
   "outputs": [
    {
     "data": {
      "text/html": [
       "<div>\n",
       "<style scoped>\n",
       "    .dataframe tbody tr th:only-of-type {\n",
       "        vertical-align: middle;\n",
       "    }\n",
       "\n",
       "    .dataframe tbody tr th {\n",
       "        vertical-align: top;\n",
       "    }\n",
       "\n",
       "    .dataframe thead th {\n",
       "        text-align: right;\n",
       "    }\n",
       "</style>\n",
       "<table border=\"1\" class=\"dataframe\">\n",
       "  <thead>\n",
       "    <tr style=\"text-align: right;\">\n",
       "      <th></th>\n",
       "      <th>Soil1</th>\n",
       "      <th>Soil2</th>\n",
       "    </tr>\n",
       "  </thead>\n",
       "  <tbody>\n",
       "    <tr>\n",
       "      <th>0</th>\n",
       "      <td>1.442</td>\n",
       "      <td>1.364</td>\n",
       "    </tr>\n",
       "    <tr>\n",
       "      <th>1</th>\n",
       "      <td>1.943</td>\n",
       "      <td>1.878</td>\n",
       "    </tr>\n",
       "    <tr>\n",
       "      <th>2</th>\n",
       "      <td>1.110</td>\n",
       "      <td>1.337</td>\n",
       "    </tr>\n",
       "    <tr>\n",
       "      <th>3</th>\n",
       "      <td>1.912</td>\n",
       "      <td>1.828</td>\n",
       "    </tr>\n",
       "    <tr>\n",
       "      <th>4</th>\n",
       "      <td>1.553</td>\n",
       "      <td>1.371</td>\n",
       "    </tr>\n",
       "  </tbody>\n",
       "</table>\n",
       "</div>"
      ],
      "text/plain": [
       "   Soil1  Soil2\n",
       "0  1.442  1.364\n",
       "1  1.943  1.878\n",
       "2  1.110  1.337\n",
       "3  1.912  1.828\n",
       "4  1.553  1.371"
      ]
     },
     "execution_count": 61,
     "metadata": {},
     "output_type": "execute_result"
    }
   ],
   "source": [
    "soil = pd.read_excel(\"soil.xlsx\")\n",
    "soil.head()"
   ]
  },
  {
   "cell_type": "code",
   "execution_count": 50,
   "id": "7391a566-f748-4980-9645-92a9fefac058",
   "metadata": {},
   "outputs": [
    {
     "data": {
      "text/plain": [
       "1.6918"
      ]
     },
     "execution_count": 50,
     "metadata": {},
     "output_type": "execute_result"
    }
   ],
   "source": [
    "m1 = soil.Soil1.mean()\n",
    "m1"
   ]
  },
  {
   "cell_type": "code",
   "execution_count": 51,
   "id": "27fa4f98-04c2-4ff9-8b86-ea9f37fff0bb",
   "metadata": {},
   "outputs": [
    {
     "data": {
      "text/plain": [
       "1.4171142857142855"
      ]
     },
     "execution_count": 51,
     "metadata": {},
     "output_type": "execute_result"
    }
   ],
   "source": [
    "m2 = soil.Soil2.mean()\n",
    "m2"
   ]
  },
  {
   "cell_type": "code",
   "execution_count": 48,
   "id": "86fa3d2d-cca9-498c-bb1e-21d50445fbfe",
   "metadata": {},
   "outputs": [
    {
     "data": {
      "text/plain": [
       "0.20690284243310078"
      ]
     },
     "execution_count": 48,
     "metadata": {},
     "output_type": "execute_result"
    }
   ],
   "source": [
    "s1 = soil.Soil1.std()\n",
    "s1"
   ]
  },
  {
   "cell_type": "code",
   "execution_count": 49,
   "id": "c45b41f9-3044-408d-a41f-c948977eefcd",
   "metadata": {},
   "outputs": [
    {
     "data": {
      "text/plain": [
       "0.2191842860711146"
      ]
     },
     "execution_count": 49,
     "metadata": {},
     "output_type": "execute_result"
    }
   ],
   "source": [
    "s2 = soil.Soil2.std()\n",
    "s2"
   ]
  },
  {
   "cell_type": "code",
   "execution_count": 60,
   "id": "af8a9e01-05fc-495e-9162-e23368bb0691",
   "metadata": {},
   "outputs": [
    {
     "data": {
      "text/plain": [
       "Ttest_indResult(statistic=5.168147331934331, pvalue=2.5932287323528494e-06)"
      ]
     },
     "execution_count": 60,
     "metadata": {},
     "output_type": "execute_result"
    }
   ],
   "source": [
    "stats.ttest_ind_from_stats(mean1=m1, std1=s1, nobs1=30,\n",
    "                          mean2=m2, std2=s2, nobs2=35)"
   ]
  },
  {
   "cell_type": "code",
   "execution_count": null,
   "id": "cd55a59f-6d75-4eaa-9527-9bef49bad281",
   "metadata": {},
   "outputs": [],
   "source": []
  },
  {
   "cell_type": "markdown",
   "id": "bef9ad5a-b17b-4ea4-bfe3-557e086586de",
   "metadata": {},
   "source": [
    "EXERCISE 3. The following dataset is based on data provided by the World Bank (https://datacatalog.worldbank.org/dataset/education-statistics). \n",
    "World Bank Edstats.  \n",
    "\n",
    "2015 PISA Test Dataset\n",
    "\n",
    "Get descriptive statistics (the central tendency, dispersion and shape of a dataset’s distribution) for each continent group \n",
    "(AS, EU, AF, NA, SA, OC).\n",
    "Determine whether there is any difference (on the average) for the math scores among European (EU) and Asian (AS) countries (assume\n",
    "normality and equal variances). Draw side-by-side box plots.\n",
    "\n",
    "CHECK: statistic=0.870055317967983, pvalue=0.38826888111307345\n"
   ]
  },
  {
   "cell_type": "code",
   "execution_count": 72,
   "id": "4581d551-a010-44b0-9be8-0db0c19fbae2",
   "metadata": {},
   "outputs": [
    {
     "data": {
      "text/html": [
       "<div>\n",
       "<style scoped>\n",
       "    .dataframe tbody tr th:only-of-type {\n",
       "        vertical-align: middle;\n",
       "    }\n",
       "\n",
       "    .dataframe tbody tr th {\n",
       "        vertical-align: top;\n",
       "    }\n",
       "\n",
       "    .dataframe thead th {\n",
       "        text-align: right;\n",
       "    }\n",
       "</style>\n",
       "<table border=\"1\" class=\"dataframe\">\n",
       "  <thead>\n",
       "    <tr style=\"text-align: right;\">\n",
       "      <th></th>\n",
       "      <th>Country Code</th>\n",
       "      <th>Continent_Code</th>\n",
       "      <th>internet_users_per_100</th>\n",
       "      <th>Math</th>\n",
       "      <th>Reading</th>\n",
       "      <th>Science</th>\n",
       "    </tr>\n",
       "  </thead>\n",
       "  <tbody>\n",
       "    <tr>\n",
       "      <th>0</th>\n",
       "      <td>ALB</td>\n",
       "      <td>EU</td>\n",
       "      <td>63.252933</td>\n",
       "      <td>413.1570</td>\n",
       "      <td>405.2588</td>\n",
       "      <td>427.2250</td>\n",
       "    </tr>\n",
       "    <tr>\n",
       "      <th>1</th>\n",
       "      <td>ARE</td>\n",
       "      <td>AS</td>\n",
       "      <td>90.500000</td>\n",
       "      <td>427.4827</td>\n",
       "      <td>433.5423</td>\n",
       "      <td>436.7311</td>\n",
       "    </tr>\n",
       "    <tr>\n",
       "      <th>2</th>\n",
       "      <td>ARG</td>\n",
       "      <td>SA</td>\n",
       "      <td>68.043064</td>\n",
       "      <td>409.0333</td>\n",
       "      <td>425.3031</td>\n",
       "      <td>432.2262</td>\n",
       "    </tr>\n",
       "    <tr>\n",
       "      <th>3</th>\n",
       "      <td>AUS</td>\n",
       "      <td>OC</td>\n",
       "      <td>84.560519</td>\n",
       "      <td>493.8962</td>\n",
       "      <td>502.9006</td>\n",
       "      <td>509.9939</td>\n",
       "    </tr>\n",
       "    <tr>\n",
       "      <th>4</th>\n",
       "      <td>AUT</td>\n",
       "      <td>EU</td>\n",
       "      <td>83.940142</td>\n",
       "      <td>496.7423</td>\n",
       "      <td>484.8656</td>\n",
       "      <td>495.0375</td>\n",
       "    </tr>\n",
       "  </tbody>\n",
       "</table>\n",
       "</div>"
      ],
      "text/plain": [
       "  Country Code Continent_Code  internet_users_per_100      Math   Reading  \\\n",
       "0          ALB             EU               63.252933  413.1570  405.2588   \n",
       "1          ARE             AS               90.500000  427.4827  433.5423   \n",
       "2          ARG             SA               68.043064  409.0333  425.3031   \n",
       "3          AUS             OC               84.560519  493.8962  502.9006   \n",
       "4          AUT             EU               83.940142  496.7423  484.8656   \n",
       "\n",
       "    Science  \n",
       "0  427.2250  \n",
       "1  436.7311  \n",
       "2  432.2262  \n",
       "3  509.9939  \n",
       "4  495.0375  "
      ]
     },
     "execution_count": 72,
     "metadata": {},
     "output_type": "execute_result"
    }
   ],
   "source": [
    "pisa = pd.read_excel(\"2015 PISA Test.xlsx\")\n",
    "pisa.head()"
   ]
  },
  {
   "cell_type": "code",
   "execution_count": null,
   "id": "7830c30e-c75d-4804-8541-db7fd657f5e1",
   "metadata": {},
   "outputs": [],
   "source": [
    "pisa.Continent_Code"
   ]
  },
  {
   "cell_type": "code",
   "execution_count": 108,
   "id": "74ffa91a-0b0d-4465-9faf-8ab60b3840bc",
   "metadata": {},
   "outputs": [
    {
     "data": {
      "text/html": [
       "<div>\n",
       "<style scoped>\n",
       "    .dataframe tbody tr th:only-of-type {\n",
       "        vertical-align: middle;\n",
       "    }\n",
       "\n",
       "    .dataframe tbody tr th {\n",
       "        vertical-align: top;\n",
       "    }\n",
       "\n",
       "    .dataframe thead th {\n",
       "        text-align: right;\n",
       "    }\n",
       "</style>\n",
       "<table border=\"1\" class=\"dataframe\">\n",
       "  <thead>\n",
       "    <tr style=\"text-align: right;\">\n",
       "      <th></th>\n",
       "      <th>Country Code</th>\n",
       "      <th>Continent_Code</th>\n",
       "      <th>internet_users_per_100</th>\n",
       "      <th>Math</th>\n",
       "      <th>Reading</th>\n",
       "      <th>Science</th>\n",
       "    </tr>\n",
       "  </thead>\n",
       "  <tbody>\n",
       "    <tr>\n",
       "      <th>0</th>\n",
       "      <td>ALB</td>\n",
       "      <td>EU</td>\n",
       "      <td>63.252933</td>\n",
       "      <td>413.1570</td>\n",
       "      <td>405.2588</td>\n",
       "      <td>427.2250</td>\n",
       "    </tr>\n",
       "    <tr>\n",
       "      <th>4</th>\n",
       "      <td>AUT</td>\n",
       "      <td>EU</td>\n",
       "      <td>83.940142</td>\n",
       "      <td>496.7423</td>\n",
       "      <td>484.8656</td>\n",
       "      <td>495.0375</td>\n",
       "    </tr>\n",
       "    <tr>\n",
       "      <th>5</th>\n",
       "      <td>BEL</td>\n",
       "      <td>EU</td>\n",
       "      <td>85.052900</td>\n",
       "      <td>506.9844</td>\n",
       "      <td>498.5242</td>\n",
       "      <td>501.9997</td>\n",
       "    </tr>\n",
       "    <tr>\n",
       "      <th>6</th>\n",
       "      <td>BGR</td>\n",
       "      <td>EU</td>\n",
       "      <td>56.656300</td>\n",
       "      <td>441.1899</td>\n",
       "      <td>431.7175</td>\n",
       "      <td>445.7720</td>\n",
       "    </tr>\n",
       "    <tr>\n",
       "      <th>9</th>\n",
       "      <td>CHE</td>\n",
       "      <td>EU</td>\n",
       "      <td>87.479056</td>\n",
       "      <td>521.2506</td>\n",
       "      <td>492.1982</td>\n",
       "      <td>505.5058</td>\n",
       "    </tr>\n",
       "  </tbody>\n",
       "</table>\n",
       "</div>"
      ],
      "text/plain": [
       "  Country Code Continent_Code  internet_users_per_100      Math   Reading  \\\n",
       "0          ALB             EU               63.252933  413.1570  405.2588   \n",
       "4          AUT             EU               83.940142  496.7423  484.8656   \n",
       "5          BEL             EU               85.052900  506.9844  498.5242   \n",
       "6          BGR             EU               56.656300  441.1899  431.7175   \n",
       "9          CHE             EU               87.479056  521.2506  492.1982   \n",
       "\n",
       "    Science  \n",
       "0  427.2250  \n",
       "4  495.0375  \n",
       "5  501.9997  \n",
       "6  445.7720  \n",
       "9  505.5058  "
      ]
     },
     "execution_count": 108,
     "metadata": {},
     "output_type": "execute_result"
    }
   ],
   "source": [
    "pisa_eu= pisa[pisa.Continent_Code == \"EU\"]\n",
    "pisa_eu.head()"
   ]
  },
  {
   "cell_type": "code",
   "execution_count": 95,
   "id": "4f61dbfc-9809-48de-9bee-7c527dcf4562",
   "metadata": {},
   "outputs": [
    {
     "data": {
      "text/plain": [
       "37"
      ]
     },
     "execution_count": 95,
     "metadata": {},
     "output_type": "execute_result"
    }
   ],
   "source": [
    "n1 =pisa_eu.Math.count()\n",
    "n1"
   ]
  },
  {
   "cell_type": "code",
   "execution_count": 96,
   "id": "d1f93a8c-b40d-4f53-a04a-97ba0ef118aa",
   "metadata": {},
   "outputs": [
    {
     "data": {
      "text/plain": [
       "477.98144864864867"
      ]
     },
     "execution_count": 96,
     "metadata": {},
     "output_type": "execute_result"
    }
   ],
   "source": [
    "m1 = pisa_eu.Math.mean()\n",
    "m1"
   ]
  },
  {
   "cell_type": "code",
   "execution_count": 97,
   "id": "c0faafcf-2826-48ca-b6c8-bd23a0ed9fe1",
   "metadata": {},
   "outputs": [
    {
     "data": {
      "text/plain": [
       "35.150402627270616"
      ]
     },
     "execution_count": 97,
     "metadata": {},
     "output_type": "execute_result"
    }
   ],
   "source": [
    "s1 = pisa_eu.Math.std()\n",
    "s1"
   ]
  },
  {
   "cell_type": "code",
   "execution_count": 103,
   "id": "b82821f9-2751-4a12-90e7-fcc0cd56cad6",
   "metadata": {},
   "outputs": [],
   "source": [
    "pisa_sa = pisa[pisa.Continent_Code=='AS']"
   ]
  },
  {
   "cell_type": "code",
   "execution_count": 104,
   "id": "3c8a0a34-dd92-4e8c-a482-8afca2f881fb",
   "metadata": {},
   "outputs": [
    {
     "data": {
      "text/plain": [
       "466.2166470588236"
      ]
     },
     "execution_count": 104,
     "metadata": {},
     "output_type": "execute_result"
    }
   ],
   "source": [
    "m2 = pisa_sa.Math.mean()\n",
    "m2"
   ]
  },
  {
   "cell_type": "code",
   "execution_count": 105,
   "id": "6fb90826-30b7-42e9-81bf-0406dbb24a5f",
   "metadata": {},
   "outputs": [
    {
     "data": {
      "text/plain": [
       "64.3564901327764"
      ]
     },
     "execution_count": 105,
     "metadata": {},
     "output_type": "execute_result"
    }
   ],
   "source": [
    "s2 = pisa_sa.Math.std()\n",
    "s2"
   ]
  },
  {
   "cell_type": "code",
   "execution_count": 106,
   "id": "16cbfa69-9162-440e-aec4-f8277178702d",
   "metadata": {},
   "outputs": [
    {
     "data": {
      "text/plain": [
       "17"
      ]
     },
     "execution_count": 106,
     "metadata": {},
     "output_type": "execute_result"
    }
   ],
   "source": [
    "n2 = pisa_sa.Math.count()\n",
    "n2"
   ]
  },
  {
   "cell_type": "code",
   "execution_count": 107,
   "id": "0dcd6d2c-431c-4613-a0f2-7e7586a4a358",
   "metadata": {},
   "outputs": [
    {
     "data": {
      "text/plain": [
       "Ttest_indResult(statistic=0.8700553179679748, pvalue=0.3882688811130779)"
      ]
     },
     "execution_count": 107,
     "metadata": {},
     "output_type": "execute_result"
    }
   ],
   "source": [
    "stats.ttest_ind_from_stats(mean1=m1, std1=s1, nobs1=n1,\n",
    "                      mean2=m2, std2=s2, nobs2=n2)"
   ]
  },
  {
   "cell_type": "code",
   "execution_count": null,
   "id": "b2d97c68-5270-4a73-a361-ecc1482629c5",
   "metadata": {},
   "outputs": [],
   "source": []
  },
  {
   "cell_type": "code",
   "execution_count": null,
   "id": "9dd361a3-8a0b-4eaf-9265-2f307b6bc580",
   "metadata": {},
   "outputs": [],
   "source": []
  },
  {
   "cell_type": "markdown",
   "id": "18cadc8e-fd98-45a6-a8f0-ee5cf99284e0",
   "metadata": {},
   "source": [
    "EXERCISE 4.The sample dataset has placement test scores (out of 100 points) for four subject areas: English, Reading, Math, and Writing. \n",
    "    Students in the sample completed all 4 placement tests when they enrolled in the university. Suppose we are particularly interested \n",
    "    in the English and Math sections, and want to determine whether students tended to score higher on their English or Math test, on average. \n",
    "    We could use a paired t test to test if there was a significant difference in the average of the two tests.\n",
    "\n",
    "Sample Dataset 2014\n",
    "\n",
    "CHECK: statistic=36.312568981719856, pvalue=3.0710987192210606e-128"
   ]
  },
  {
   "cell_type": "code",
   "execution_count": 113,
   "id": "08358bbc-c7d4-42a8-bc1c-e77adc7ea673",
   "metadata": {},
   "outputs": [
    {
     "data": {
      "text/html": [
       "<div>\n",
       "<style scoped>\n",
       "    .dataframe tbody tr th:only-of-type {\n",
       "        vertical-align: middle;\n",
       "    }\n",
       "\n",
       "    .dataframe tbody tr th {\n",
       "        vertical-align: top;\n",
       "    }\n",
       "\n",
       "    .dataframe thead th {\n",
       "        text-align: right;\n",
       "    }\n",
       "</style>\n",
       "<table border=\"1\" class=\"dataframe\">\n",
       "  <thead>\n",
       "    <tr style=\"text-align: right;\">\n",
       "      <th></th>\n",
       "      <th>ids</th>\n",
       "      <th>bday</th>\n",
       "      <th>enrolldate</th>\n",
       "      <th>expgradate</th>\n",
       "      <th>Rank</th>\n",
       "      <th>Major</th>\n",
       "      <th>Gender</th>\n",
       "      <th>Athlete</th>\n",
       "      <th>Height</th>\n",
       "      <th>Weight</th>\n",
       "      <th>...</th>\n",
       "      <th>English</th>\n",
       "      <th>Reading</th>\n",
       "      <th>Math</th>\n",
       "      <th>Writing</th>\n",
       "      <th>State</th>\n",
       "      <th>LiveOnCampus</th>\n",
       "      <th>HowCommute</th>\n",
       "      <th>CommuteTime</th>\n",
       "      <th>SleepTime</th>\n",
       "      <th>StudyTime</th>\n",
       "    </tr>\n",
       "  </thead>\n",
       "  <tbody>\n",
       "    <tr>\n",
       "      <th>0</th>\n",
       "      <td>43783</td>\n",
       "      <td>1995-03-22</td>\n",
       "      <td>NaT</td>\n",
       "      <td>NaT</td>\n",
       "      <td>NaN</td>\n",
       "      <td>NaN</td>\n",
       "      <td>0.0</td>\n",
       "      <td>0</td>\n",
       "      <td>72.35</td>\n",
       "      <td>NaN</td>\n",
       "      <td>...</td>\n",
       "      <td>88.24</td>\n",
       "      <td>81.50</td>\n",
       "      <td>60.02</td>\n",
       "      <td>81.44</td>\n",
       "      <td>In state</td>\n",
       "      <td>1.0</td>\n",
       "      <td>NaN</td>\n",
       "      <td>NaN</td>\n",
       "      <td>7.0</td>\n",
       "      <td>1.0</td>\n",
       "    </tr>\n",
       "    <tr>\n",
       "      <th>1</th>\n",
       "      <td>20278</td>\n",
       "      <td>1995-01-01</td>\n",
       "      <td>NaT</td>\n",
       "      <td>NaT</td>\n",
       "      <td>NaN</td>\n",
       "      <td>Philosophy</td>\n",
       "      <td>0.0</td>\n",
       "      <td>0</td>\n",
       "      <td>70.66</td>\n",
       "      <td>179.20</td>\n",
       "      <td>...</td>\n",
       "      <td>89.45</td>\n",
       "      <td>85.25</td>\n",
       "      <td>70.19</td>\n",
       "      <td>73.27</td>\n",
       "      <td>NaN</td>\n",
       "      <td>1.0</td>\n",
       "      <td>NaN</td>\n",
       "      <td>NaN</td>\n",
       "      <td>5.0</td>\n",
       "      <td>2.0</td>\n",
       "    </tr>\n",
       "    <tr>\n",
       "      <th>2</th>\n",
       "      <td>20389</td>\n",
       "      <td>1994-12-31</td>\n",
       "      <td>NaT</td>\n",
       "      <td>NaT</td>\n",
       "      <td>NaN</td>\n",
       "      <td>NaN</td>\n",
       "      <td>0.0</td>\n",
       "      <td>0</td>\n",
       "      <td>70.68</td>\n",
       "      <td>198.52</td>\n",
       "      <td>...</td>\n",
       "      <td>96.73</td>\n",
       "      <td>86.88</td>\n",
       "      <td>71.20</td>\n",
       "      <td>84.24</td>\n",
       "      <td>In state</td>\n",
       "      <td>NaN</td>\n",
       "      <td>NaN</td>\n",
       "      <td>NaN</td>\n",
       "      <td>8.0</td>\n",
       "      <td>7.0</td>\n",
       "    </tr>\n",
       "    <tr>\n",
       "      <th>3</th>\n",
       "      <td>22820</td>\n",
       "      <td>1994-12-01</td>\n",
       "      <td>NaT</td>\n",
       "      <td>NaT</td>\n",
       "      <td>NaN</td>\n",
       "      <td>business administration</td>\n",
       "      <td>1.0</td>\n",
       "      <td>0</td>\n",
       "      <td>NaN</td>\n",
       "      <td>198.34</td>\n",
       "      <td>...</td>\n",
       "      <td>74.06</td>\n",
       "      <td>88.68</td>\n",
       "      <td>55.89</td>\n",
       "      <td>73.16</td>\n",
       "      <td>In state</td>\n",
       "      <td>1.0</td>\n",
       "      <td>NaN</td>\n",
       "      <td>NaN</td>\n",
       "      <td>2.0</td>\n",
       "      <td>6.0</td>\n",
       "    </tr>\n",
       "    <tr>\n",
       "      <th>4</th>\n",
       "      <td>24559</td>\n",
       "      <td>1994-11-10</td>\n",
       "      <td>NaT</td>\n",
       "      <td>NaT</td>\n",
       "      <td>NaN</td>\n",
       "      <td>NaN</td>\n",
       "      <td>1.0</td>\n",
       "      <td>1</td>\n",
       "      <td>67.43</td>\n",
       "      <td>128.17</td>\n",
       "      <td>...</td>\n",
       "      <td>82.61</td>\n",
       "      <td>77.30</td>\n",
       "      <td>65.52</td>\n",
       "      <td>80.45</td>\n",
       "      <td>Out of state</td>\n",
       "      <td>1.0</td>\n",
       "      <td>NaN</td>\n",
       "      <td>NaN</td>\n",
       "      <td>7.0</td>\n",
       "      <td>3.0</td>\n",
       "    </tr>\n",
       "  </tbody>\n",
       "</table>\n",
       "<p>5 rows × 23 columns</p>\n",
       "</div>"
      ],
      "text/plain": [
       "     ids       bday enrolldate expgradate  Rank                    Major  \\\n",
       "0  43783 1995-03-22        NaT        NaT   NaN                      NaN   \n",
       "1  20278 1995-01-01        NaT        NaT   NaN               Philosophy   \n",
       "2  20389 1994-12-31        NaT        NaT   NaN                      NaN   \n",
       "3  22820 1994-12-01        NaT        NaT   NaN  business administration   \n",
       "4  24559 1994-11-10        NaT        NaT   NaN                      NaN   \n",
       "\n",
       "   Gender  Athlete  Height  Weight  ...  English  Reading   Math  Writing  \\\n",
       "0     0.0        0   72.35     NaN  ...    88.24    81.50  60.02    81.44   \n",
       "1     0.0        0   70.66  179.20  ...    89.45    85.25  70.19    73.27   \n",
       "2     0.0        0   70.68  198.52  ...    96.73    86.88  71.20    84.24   \n",
       "3     1.0        0     NaN  198.34  ...    74.06    88.68  55.89    73.16   \n",
       "4     1.0        1   67.43  128.17  ...    82.61    77.30  65.52    80.45   \n",
       "\n",
       "          State  LiveOnCampus  HowCommute CommuteTime  SleepTime  StudyTime  \n",
       "0      In state           1.0         NaN         NaN        7.0        1.0  \n",
       "1           NaN           1.0         NaN         NaN        5.0        2.0  \n",
       "2      In state           NaN         NaN         NaN        8.0        7.0  \n",
       "3      In state           1.0         NaN         NaN        2.0        6.0  \n",
       "4  Out of state           1.0         NaN         NaN        7.0        3.0  \n",
       "\n",
       "[5 rows x 23 columns]"
      ]
     },
     "execution_count": 113,
     "metadata": {},
     "output_type": "execute_result"
    }
   ],
   "source": [
    "student = pd.read_excel(\"students_2014.xlsx\")\n",
    "student.head()"
   ]
  },
  {
   "cell_type": "code",
   "execution_count": 153,
   "id": "93647159-80d3-4785-9b84-e1eff37efd1b",
   "metadata": {},
   "outputs": [
    {
     "data": {
      "text/plain": [
       "409"
      ]
     },
     "execution_count": 153,
     "metadata": {},
     "output_type": "execute_result"
    }
   ],
   "source": [
    "student.English.count()"
   ]
  },
  {
   "cell_type": "code",
   "execution_count": 154,
   "id": "f9e078d5-3f4c-4dc7-aa1b-816b73326b0f",
   "metadata": {},
   "outputs": [
    {
     "data": {
      "text/plain": [
       "82.78755501222493"
      ]
     },
     "execution_count": 154,
     "metadata": {},
     "output_type": "execute_result"
    }
   ],
   "source": [
    "student.English.mean()"
   ]
  },
  {
   "cell_type": "code",
   "execution_count": 155,
   "id": "afcbd3dd-5f3b-4534-977c-45f1cccab9af",
   "metadata": {},
   "outputs": [
    {
     "data": {
      "text/plain": [
       "6.839803158182041"
      ]
     },
     "execution_count": 155,
     "metadata": {},
     "output_type": "execute_result"
    }
   ],
   "source": [
    "student.English.std()"
   ]
  },
  {
   "cell_type": "code",
   "execution_count": null,
   "id": "6d86dc3b-aad4-4b84-89d3-d8d4dfbde79a",
   "metadata": {},
   "outputs": [],
   "source": []
  },
  {
   "cell_type": "code",
   "execution_count": 156,
   "id": "9adb92d7-3215-4fc4-a7a9-10ed41c7c76a",
   "metadata": {},
   "outputs": [
    {
     "data": {
      "text/plain": [
       "422"
      ]
     },
     "execution_count": 156,
     "metadata": {},
     "output_type": "execute_result"
    }
   ],
   "source": [
    "student.Math.count()"
   ]
  },
  {
   "cell_type": "code",
   "execution_count": 157,
   "id": "6a1caae8-f51f-410e-8e33-9016e84d6577",
   "metadata": {},
   "outputs": [
    {
     "data": {
      "text/plain": [
       "65.46800947867297"
      ]
     },
     "execution_count": 157,
     "metadata": {},
     "output_type": "execute_result"
    }
   ],
   "source": [
    "student.Math.mean()"
   ]
  },
  {
   "cell_type": "code",
   "execution_count": 158,
   "id": "695b12fe-c07f-4065-93e6-ca5f94b212a4",
   "metadata": {},
   "outputs": [
    {
     "data": {
      "text/plain": [
       "8.37592956204943"
      ]
     },
     "execution_count": 158,
     "metadata": {},
     "output_type": "execute_result"
    }
   ],
   "source": [
    "student.Math.std()"
   ]
  },
  {
   "cell_type": "code",
   "execution_count": 159,
   "id": "76daa3df-7d6f-46b4-8b49-3c7a6d39e033",
   "metadata": {},
   "outputs": [
    {
     "data": {
      "text/plain": [
       "Ttest_indResult(statistic=32.59188089176448, pvalue=1.2521075466223829e-150)"
      ]
     },
     "execution_count": 159,
     "metadata": {},
     "output_type": "execute_result"
    }
   ],
   "source": [
    "stats.ttest_ind_from_stats(mean1=82.78755501222493, std1=6.839803158182041, nobs1=409,\n",
    "                      mean2=65.46800947867297, std2=8.37592956204943, nobs2=422)"
   ]
  },
  {
   "cell_type": "code",
   "execution_count": null,
   "id": "f2b395f7-7f98-4680-b2e6-dab500caa22e",
   "metadata": {},
   "outputs": [],
   "source": []
  }
 ],
 "metadata": {
  "kernelspec": {
   "display_name": "Python 3",
   "language": "python",
   "name": "python3"
  },
  "language_info": {
   "codemirror_mode": {
    "name": "ipython",
    "version": 3
   },
   "file_extension": ".py",
   "mimetype": "text/x-python",
   "name": "python",
   "nbconvert_exporter": "python",
   "pygments_lexer": "ipython3",
   "version": "3.8.8"
  }
 },
 "nbformat": 4,
 "nbformat_minor": 5
}
