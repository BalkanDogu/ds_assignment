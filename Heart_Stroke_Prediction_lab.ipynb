{
 "cells": [
  {
   "cell_type": "markdown",
   "id": "KI0TtW1tvm_r",
   "metadata": {
    "id": "KI0TtW1tvm_r"
   },
   "source": [
    "___\n",
    "\n",
    "<p style=\"text-align: center;\"><img src=\"https://docs.google.com/uc?id=1lY0Uj5R04yMY3-ZppPWxqCr5pvBLYPnV\" class=\"img-fluid\" alt=\"CLRSWY\"></p>\n",
    "\n",
    "___"
   ]
  },
  {
   "cell_type": "markdown",
   "id": "392a02f0-fdda-44ae-a0fc-97f3b03924a9",
   "metadata": {
    "id": "392a02f0-fdda-44ae-a0fc-97f3b03924a9"
   },
   "source": [
    "Data vocabulary:\n",
    "\n",
    "1. #3 (age): age in years \n",
    "2. #4 (sex): sex (1 = male; 0 = female) \n",
    "3. #9 (cp): cp: chest pain type | Value 0: typical angina | Value 1: atypical angina | Value 2: non-anginal pain | Value 3: asymptomatic \n",
    "4. #10 (trestbps): resting blood pressure (in mm Hg on admission to the hospital) \n",
    "5. #12 (chol): serum cholestoral in mg/dl \n",
    "6. #16 (fbs): (fasting blood sugar > 120 mg/dl) (1 = true; 0 = false) \n",
    "7. #19 (restecg): resting electrocardiographic results | Value 0: normal | Value 1: having ST-T wave abnormality (T wave inversions and/or ST elevation or depression of > 0.05 mV) | Value 2: showing probable or definite left ventricular hypertrophy by Estes' criteria \n",
    "8. #32 (thalach): maximum heart rate achieved \n",
    "9. #38 (exang): exercise induced angina (1 = yes; 0 = no) \n",
    "10. #40 (oldpeak): ST depression induced by exercise relative to rest \n",
    "11. #41 (slope): the slope of the peak exercise ST segment | Value 1: upsloping | Value 2: flat | Value 3: downsloping \n",
    "12. #44 (ca): number of major vessels (0-3) colored by flourosopy \n",
    "13. #51 (thal): 3 = normal; 6 = fixed defect; 7 = reversable defect \n",
    "14. #58 (num) (the predicted attribute): Value 0: < 50% diameter narrowing | Value 1: > 50% diameter narrowing "
   ]
  },
  {
   "cell_type": "markdown",
   "id": "2kuJJ54iwAlk",
   "metadata": {
    "id": "2kuJJ54iwAlk"
   },
   "source": [
    "# Import esential Libraries"
   ]
  },
  {
   "cell_type": "code",
   "execution_count": 1,
   "id": "d2f67c2a-c903-4b6c-bcda-2d69e2619192",
   "metadata": {
    "id": "d2f67c2a-c903-4b6c-bcda-2d69e2619192"
   },
   "outputs": [],
   "source": [
    "import numpy as np\n",
    "import pandas as pd\n",
    "import matplotlib.pyplot as plt\n",
    "import seaborn as sns\n",
    "plt.rcParams[\"figure.figsize\"] = (10,6)\n",
    "import warnings\n",
    "warnings.filterwarnings(\"ignore\")\n",
    "warnings.warn(\"this will not show\")\n",
    "%matplotlib inline"
   ]
  },
  {
   "cell_type": "markdown",
   "id": "6Qn_DjhPwKRF",
   "metadata": {
    "id": "6Qn_DjhPwKRF"
   },
   "source": [
    "# Ingest the data to notebook"
   ]
  },
  {
   "cell_type": "code",
   "execution_count": 2,
   "id": "542d4531-d67c-4a30-a836-dc31795ff0e8",
   "metadata": {
    "id": "542d4531-d67c-4a30-a836-dc31795ff0e8"
   },
   "outputs": [
    {
     "data": {
      "text/html": [
       "<div>\n",
       "<style scoped>\n",
       "    .dataframe tbody tr th:only-of-type {\n",
       "        vertical-align: middle;\n",
       "    }\n",
       "\n",
       "    .dataframe tbody tr th {\n",
       "        vertical-align: top;\n",
       "    }\n",
       "\n",
       "    .dataframe thead th {\n",
       "        text-align: right;\n",
       "    }\n",
       "</style>\n",
       "<table border=\"1\" class=\"dataframe\">\n",
       "  <thead>\n",
       "    <tr style=\"text-align: right;\">\n",
       "      <th></th>\n",
       "      <th>age</th>\n",
       "      <th>sex</th>\n",
       "      <th>cp</th>\n",
       "      <th>trestbps</th>\n",
       "      <th>chol</th>\n",
       "      <th>fbs</th>\n",
       "      <th>restecg</th>\n",
       "      <th>thalach</th>\n",
       "      <th>exang</th>\n",
       "      <th>oldpeak</th>\n",
       "      <th>slope</th>\n",
       "      <th>ca</th>\n",
       "      <th>thal</th>\n",
       "      <th>target</th>\n",
       "    </tr>\n",
       "  </thead>\n",
       "  <tbody>\n",
       "    <tr>\n",
       "      <th>0</th>\n",
       "      <td>63</td>\n",
       "      <td>1</td>\n",
       "      <td>3</td>\n",
       "      <td>145</td>\n",
       "      <td>233</td>\n",
       "      <td>1</td>\n",
       "      <td>0</td>\n",
       "      <td>150</td>\n",
       "      <td>0</td>\n",
       "      <td>2.3</td>\n",
       "      <td>0</td>\n",
       "      <td>0</td>\n",
       "      <td>1</td>\n",
       "      <td>1</td>\n",
       "    </tr>\n",
       "    <tr>\n",
       "      <th>1</th>\n",
       "      <td>37</td>\n",
       "      <td>1</td>\n",
       "      <td>2</td>\n",
       "      <td>130</td>\n",
       "      <td>250</td>\n",
       "      <td>0</td>\n",
       "      <td>1</td>\n",
       "      <td>187</td>\n",
       "      <td>0</td>\n",
       "      <td>3.5</td>\n",
       "      <td>0</td>\n",
       "      <td>0</td>\n",
       "      <td>2</td>\n",
       "      <td>1</td>\n",
       "    </tr>\n",
       "    <tr>\n",
       "      <th>2</th>\n",
       "      <td>41</td>\n",
       "      <td>0</td>\n",
       "      <td>1</td>\n",
       "      <td>130</td>\n",
       "      <td>204</td>\n",
       "      <td>0</td>\n",
       "      <td>0</td>\n",
       "      <td>172</td>\n",
       "      <td>0</td>\n",
       "      <td>1.4</td>\n",
       "      <td>2</td>\n",
       "      <td>0</td>\n",
       "      <td>2</td>\n",
       "      <td>1</td>\n",
       "    </tr>\n",
       "    <tr>\n",
       "      <th>3</th>\n",
       "      <td>56</td>\n",
       "      <td>1</td>\n",
       "      <td>1</td>\n",
       "      <td>120</td>\n",
       "      <td>236</td>\n",
       "      <td>0</td>\n",
       "      <td>1</td>\n",
       "      <td>178</td>\n",
       "      <td>0</td>\n",
       "      <td>0.8</td>\n",
       "      <td>2</td>\n",
       "      <td>0</td>\n",
       "      <td>2</td>\n",
       "      <td>1</td>\n",
       "    </tr>\n",
       "    <tr>\n",
       "      <th>4</th>\n",
       "      <td>57</td>\n",
       "      <td>0</td>\n",
       "      <td>0</td>\n",
       "      <td>120</td>\n",
       "      <td>354</td>\n",
       "      <td>0</td>\n",
       "      <td>1</td>\n",
       "      <td>163</td>\n",
       "      <td>1</td>\n",
       "      <td>0.6</td>\n",
       "      <td>2</td>\n",
       "      <td>0</td>\n",
       "      <td>2</td>\n",
       "      <td>1</td>\n",
       "    </tr>\n",
       "  </tbody>\n",
       "</table>\n",
       "</div>"
      ],
      "text/plain": [
       "   age  sex  cp  trestbps  chol  fbs  restecg  thalach  exang  oldpeak  slope  \\\n",
       "0   63    1   3       145   233    1        0      150      0      2.3      0   \n",
       "1   37    1   2       130   250    0        1      187      0      3.5      0   \n",
       "2   41    0   1       130   204    0        0      172      0      1.4      2   \n",
       "3   56    1   1       120   236    0        1      178      0      0.8      2   \n",
       "4   57    0   0       120   354    0        1      163      1      0.6      2   \n",
       "\n",
       "   ca  thal  target  \n",
       "0   0     1       1  \n",
       "1   0     2       1  \n",
       "2   0     2       1  \n",
       "3   0     2       1  \n",
       "4   0     2       1  "
      ]
     },
     "execution_count": 2,
     "metadata": {},
     "output_type": "execute_result"
    }
   ],
   "source": [
    "df = pd.read_csv(\"heart.csv\")\n",
    "df.head()"
   ]
  },
  {
   "cell_type": "markdown",
   "id": "v64txbyYwhzL",
   "metadata": {
    "id": "v64txbyYwhzL"
   },
   "source": [
    "# EDA"
   ]
  },
  {
   "cell_type": "code",
   "execution_count": 3,
   "id": "d741949d-73a9-448c-a6ec-0d8ff589d2a0",
   "metadata": {},
   "outputs": [
    {
     "name": "stdout",
     "output_type": "stream",
     "text": [
      "<class 'pandas.core.frame.DataFrame'>\n",
      "RangeIndex: 303 entries, 0 to 302\n",
      "Data columns (total 14 columns):\n",
      " #   Column    Non-Null Count  Dtype  \n",
      "---  ------    --------------  -----  \n",
      " 0   age       303 non-null    int64  \n",
      " 1   sex       303 non-null    int64  \n",
      " 2   cp        303 non-null    int64  \n",
      " 3   trestbps  303 non-null    int64  \n",
      " 4   chol      303 non-null    int64  \n",
      " 5   fbs       303 non-null    int64  \n",
      " 6   restecg   303 non-null    int64  \n",
      " 7   thalach   303 non-null    int64  \n",
      " 8   exang     303 non-null    int64  \n",
      " 9   oldpeak   303 non-null    float64\n",
      " 10  slope     303 non-null    int64  \n",
      " 11  ca        303 non-null    int64  \n",
      " 12  thal      303 non-null    int64  \n",
      " 13  target    303 non-null    int64  \n",
      "dtypes: float64(1), int64(13)\n",
      "memory usage: 33.3 KB\n"
     ]
    }
   ],
   "source": [
    "df.info()"
   ]
  },
  {
   "cell_type": "code",
   "execution_count": 4,
   "id": "fe831052-3111-4f2f-bc64-78d411ff9a9d",
   "metadata": {},
   "outputs": [
    {
     "data": {
      "text/html": [
       "<div>\n",
       "<style scoped>\n",
       "    .dataframe tbody tr th:only-of-type {\n",
       "        vertical-align: middle;\n",
       "    }\n",
       "\n",
       "    .dataframe tbody tr th {\n",
       "        vertical-align: top;\n",
       "    }\n",
       "\n",
       "    .dataframe thead th {\n",
       "        text-align: right;\n",
       "    }\n",
       "</style>\n",
       "<table border=\"1\" class=\"dataframe\">\n",
       "  <thead>\n",
       "    <tr style=\"text-align: right;\">\n",
       "      <th></th>\n",
       "      <th>age</th>\n",
       "      <th>sex</th>\n",
       "      <th>cp</th>\n",
       "      <th>trestbps</th>\n",
       "      <th>chol</th>\n",
       "      <th>fbs</th>\n",
       "      <th>restecg</th>\n",
       "      <th>thalach</th>\n",
       "      <th>exang</th>\n",
       "      <th>oldpeak</th>\n",
       "      <th>slope</th>\n",
       "      <th>ca</th>\n",
       "      <th>thal</th>\n",
       "      <th>target</th>\n",
       "    </tr>\n",
       "  </thead>\n",
       "  <tbody>\n",
       "    <tr>\n",
       "      <th>count</th>\n",
       "      <td>303.000000</td>\n",
       "      <td>303.000000</td>\n",
       "      <td>303.000000</td>\n",
       "      <td>303.000000</td>\n",
       "      <td>303.000000</td>\n",
       "      <td>303.000000</td>\n",
       "      <td>303.000000</td>\n",
       "      <td>303.000000</td>\n",
       "      <td>303.000000</td>\n",
       "      <td>303.000000</td>\n",
       "      <td>303.000000</td>\n",
       "      <td>303.000000</td>\n",
       "      <td>303.000000</td>\n",
       "      <td>303.000000</td>\n",
       "    </tr>\n",
       "    <tr>\n",
       "      <th>mean</th>\n",
       "      <td>54.366337</td>\n",
       "      <td>0.683168</td>\n",
       "      <td>0.966997</td>\n",
       "      <td>131.623762</td>\n",
       "      <td>246.264026</td>\n",
       "      <td>0.148515</td>\n",
       "      <td>0.528053</td>\n",
       "      <td>149.646865</td>\n",
       "      <td>0.326733</td>\n",
       "      <td>1.039604</td>\n",
       "      <td>1.399340</td>\n",
       "      <td>0.729373</td>\n",
       "      <td>2.313531</td>\n",
       "      <td>0.544554</td>\n",
       "    </tr>\n",
       "    <tr>\n",
       "      <th>std</th>\n",
       "      <td>9.082101</td>\n",
       "      <td>0.466011</td>\n",
       "      <td>1.032052</td>\n",
       "      <td>17.538143</td>\n",
       "      <td>51.830751</td>\n",
       "      <td>0.356198</td>\n",
       "      <td>0.525860</td>\n",
       "      <td>22.905161</td>\n",
       "      <td>0.469794</td>\n",
       "      <td>1.161075</td>\n",
       "      <td>0.616226</td>\n",
       "      <td>1.022606</td>\n",
       "      <td>0.612277</td>\n",
       "      <td>0.498835</td>\n",
       "    </tr>\n",
       "    <tr>\n",
       "      <th>min</th>\n",
       "      <td>29.000000</td>\n",
       "      <td>0.000000</td>\n",
       "      <td>0.000000</td>\n",
       "      <td>94.000000</td>\n",
       "      <td>126.000000</td>\n",
       "      <td>0.000000</td>\n",
       "      <td>0.000000</td>\n",
       "      <td>71.000000</td>\n",
       "      <td>0.000000</td>\n",
       "      <td>0.000000</td>\n",
       "      <td>0.000000</td>\n",
       "      <td>0.000000</td>\n",
       "      <td>0.000000</td>\n",
       "      <td>0.000000</td>\n",
       "    </tr>\n",
       "    <tr>\n",
       "      <th>25%</th>\n",
       "      <td>47.500000</td>\n",
       "      <td>0.000000</td>\n",
       "      <td>0.000000</td>\n",
       "      <td>120.000000</td>\n",
       "      <td>211.000000</td>\n",
       "      <td>0.000000</td>\n",
       "      <td>0.000000</td>\n",
       "      <td>133.500000</td>\n",
       "      <td>0.000000</td>\n",
       "      <td>0.000000</td>\n",
       "      <td>1.000000</td>\n",
       "      <td>0.000000</td>\n",
       "      <td>2.000000</td>\n",
       "      <td>0.000000</td>\n",
       "    </tr>\n",
       "    <tr>\n",
       "      <th>50%</th>\n",
       "      <td>55.000000</td>\n",
       "      <td>1.000000</td>\n",
       "      <td>1.000000</td>\n",
       "      <td>130.000000</td>\n",
       "      <td>240.000000</td>\n",
       "      <td>0.000000</td>\n",
       "      <td>1.000000</td>\n",
       "      <td>153.000000</td>\n",
       "      <td>0.000000</td>\n",
       "      <td>0.800000</td>\n",
       "      <td>1.000000</td>\n",
       "      <td>0.000000</td>\n",
       "      <td>2.000000</td>\n",
       "      <td>1.000000</td>\n",
       "    </tr>\n",
       "    <tr>\n",
       "      <th>75%</th>\n",
       "      <td>61.000000</td>\n",
       "      <td>1.000000</td>\n",
       "      <td>2.000000</td>\n",
       "      <td>140.000000</td>\n",
       "      <td>274.500000</td>\n",
       "      <td>0.000000</td>\n",
       "      <td>1.000000</td>\n",
       "      <td>166.000000</td>\n",
       "      <td>1.000000</td>\n",
       "      <td>1.600000</td>\n",
       "      <td>2.000000</td>\n",
       "      <td>1.000000</td>\n",
       "      <td>3.000000</td>\n",
       "      <td>1.000000</td>\n",
       "    </tr>\n",
       "    <tr>\n",
       "      <th>max</th>\n",
       "      <td>77.000000</td>\n",
       "      <td>1.000000</td>\n",
       "      <td>3.000000</td>\n",
       "      <td>200.000000</td>\n",
       "      <td>564.000000</td>\n",
       "      <td>1.000000</td>\n",
       "      <td>2.000000</td>\n",
       "      <td>202.000000</td>\n",
       "      <td>1.000000</td>\n",
       "      <td>6.200000</td>\n",
       "      <td>2.000000</td>\n",
       "      <td>4.000000</td>\n",
       "      <td>3.000000</td>\n",
       "      <td>1.000000</td>\n",
       "    </tr>\n",
       "  </tbody>\n",
       "</table>\n",
       "</div>"
      ],
      "text/plain": [
       "              age         sex          cp    trestbps        chol         fbs  \\\n",
       "count  303.000000  303.000000  303.000000  303.000000  303.000000  303.000000   \n",
       "mean    54.366337    0.683168    0.966997  131.623762  246.264026    0.148515   \n",
       "std      9.082101    0.466011    1.032052   17.538143   51.830751    0.356198   \n",
       "min     29.000000    0.000000    0.000000   94.000000  126.000000    0.000000   \n",
       "25%     47.500000    0.000000    0.000000  120.000000  211.000000    0.000000   \n",
       "50%     55.000000    1.000000    1.000000  130.000000  240.000000    0.000000   \n",
       "75%     61.000000    1.000000    2.000000  140.000000  274.500000    0.000000   \n",
       "max     77.000000    1.000000    3.000000  200.000000  564.000000    1.000000   \n",
       "\n",
       "          restecg     thalach       exang     oldpeak       slope          ca  \\\n",
       "count  303.000000  303.000000  303.000000  303.000000  303.000000  303.000000   \n",
       "mean     0.528053  149.646865    0.326733    1.039604    1.399340    0.729373   \n",
       "std      0.525860   22.905161    0.469794    1.161075    0.616226    1.022606   \n",
       "min      0.000000   71.000000    0.000000    0.000000    0.000000    0.000000   \n",
       "25%      0.000000  133.500000    0.000000    0.000000    1.000000    0.000000   \n",
       "50%      1.000000  153.000000    0.000000    0.800000    1.000000    0.000000   \n",
       "75%      1.000000  166.000000    1.000000    1.600000    2.000000    1.000000   \n",
       "max      2.000000  202.000000    1.000000    6.200000    2.000000    4.000000   \n",
       "\n",
       "             thal      target  \n",
       "count  303.000000  303.000000  \n",
       "mean     2.313531    0.544554  \n",
       "std      0.612277    0.498835  \n",
       "min      0.000000    0.000000  \n",
       "25%      2.000000    0.000000  \n",
       "50%      2.000000    1.000000  \n",
       "75%      3.000000    1.000000  \n",
       "max      3.000000    1.000000  "
      ]
     },
     "execution_count": 4,
     "metadata": {},
     "output_type": "execute_result"
    }
   ],
   "source": [
    "df.describe()"
   ]
  },
  {
   "cell_type": "code",
   "execution_count": null,
   "id": "f57d21b4-1d63-4973-94f2-38ba3b0dae7b",
   "metadata": {},
   "outputs": [],
   "source": []
  },
  {
   "cell_type": "code",
   "execution_count": 6,
   "id": "7ebac4cb-1772-4722-86f5-7926cd3b3f3e",
   "metadata": {},
   "outputs": [
    {
     "data": {
      "text/plain": [
       "1    165\n",
       "0    138\n",
       "Name: target, dtype: int64"
      ]
     },
     "execution_count": 6,
     "metadata": {},
     "output_type": "execute_result"
    }
   ],
   "source": [
    "df.target.value_counts()"
   ]
  },
  {
   "cell_type": "code",
   "execution_count": 7,
   "id": "bc7eca15-a6ca-4959-a43b-d20e37bcefb3",
   "metadata": {
    "id": "bc7eca15-a6ca-4959-a43b-d20e37bcefb3"
   },
   "outputs": [
    {
     "data": {
      "text/plain": [
       "<AxesSubplot:xlabel='target', ylabel='count'>"
      ]
     },
     "execution_count": 7,
     "metadata": {},
     "output_type": "execute_result"
    },
    {
     "data": {
      "image/png": "[encoded data removed]",
      "text/plain": [
       "<Figure size 432x288 with 1 Axes>"
      ]
     },
     "metadata": {
      "needs_background": "light"
     },
     "output_type": "display_data"
    }
   ],
   "source": [
    "sns.countplot(df.target)"
   ]
  },
  {
   "cell_type": "code",
   "execution_count": 9,
   "id": "4f93078e-a553-4062-ac49-c459e4cfcb63",
   "metadata": {},
   "outputs": [
    {
     "data": {
      "text/plain": [
       "<AxesSubplot:xlabel='chol'>"
      ]
     },
     "execution_count": 9,
     "metadata": {},
     "output_type": "execute_result"
    },
    {
     "data": {
      "image/png": "[encoded data removed]",
      "text/plain": [
       "<Figure size 432x288 with 1 Axes>"
      ]
     },
     "metadata": {
      "needs_background": "light"
     },
     "output_type": "display_data"
    }
   ],
   "source": [
    "sns.boxplot(df.chol) ## kolestrol seviyesi"
   ]
  },
  {
   "cell_type": "code",
   "execution_count": 10,
   "id": "a138399c-890f-474c-9185-7a62af036be2",
   "metadata": {},
   "outputs": [
    {
     "data": {
      "text/plain": [
       "<AxesSubplot:xlabel='trestbps'>"
      ]
     },
     "execution_count": 10,
     "metadata": {},
     "output_type": "execute_result"
    },
    {
     "data": {
      "image/png": "[encoded data removed]",
      "text/plain": [
       "<Figure size 432x288 with 1 Axes>"
      ]
     },
     "metadata": {
      "needs_background": "light"
     },
     "output_type": "display_data"
    }
   ],
   "source": [
    "sns.boxplot(df.trestbps)  ## kan basıncı"
   ]
  },
  {
   "cell_type": "code",
   "execution_count": 11,
   "id": "109f0cba-673b-4ba7-8b67-b62b00ce4d6c",
   "metadata": {},
   "outputs": [
    {
     "data": {
      "text/plain": [
       "<AxesSubplot:xlabel='thalach'>"
      ]
     },
     "execution_count": 11,
     "metadata": {},
     "output_type": "execute_result"
    },
    {
     "data": {
      "image/png": "[encoded data removed]",
      "text/plain": [
       "<Figure size 432x288 with 1 Axes>"
      ]
     },
     "metadata": {
      "needs_background": "light"
     },
     "output_type": "display_data"
    }
   ],
   "source": [
    "sns.boxplot(df.thalach) ## kalp atış hızı"
   ]
  },
  {
   "cell_type": "code",
   "execution_count": 14,
   "id": "931b4951-e140-4860-bdd7-1fd7f130aed1",
   "metadata": {},
   "outputs": [
    {
     "data": {
      "text/plain": [
       "<AxesSubplot:>"
      ]
     },
     "execution_count": 14,
     "metadata": {},
     "output_type": "execute_result"
    },
    {
     "data": {
      "image/png": "[encoded data removed]",
      "text/plain": [
       "<Figure size 1008x432 with 2 Axes>"
      ]
     },
     "metadata": {
      "needs_background": "light"
     },
     "output_type": "display_data"
    }
   ],
   "source": [
    "plt.figure(figsize=(14,6))\n",
    "sns.heatmap(df.corr(), annot=True)"
   ]
  },
  {
   "cell_type": "code",
   "execution_count": 17,
   "id": "bde58bf6-63e0-4cf7-b5d3-e50aa11d8f5b",
   "metadata": {},
   "outputs": [
    {
     "data": {
      "text/plain": [
       "<AxesSubplot:>"
      ]
     },
     "execution_count": 17,
     "metadata": {},
     "output_type": "execute_result"
    },
    {
     "data": {
      "image/png": "[encoded data removed]",
      "text/plain": [
       "<Figure size 864x432 with 1 Axes>"
      ]
     },
     "metadata": {
      "needs_background": "light"
     },
     "output_type": "display_data"
    }
   ],
   "source": [
    "plt.figure(figsize=(12,6))\n",
    "df.corr()[\"target\"].drop(\"target\").sort_values().plot.barh()"
   ]
  },
  {
   "cell_type": "code",
   "execution_count": null,
   "id": "c2822644-a306-48c3-ad9f-139bbd0680d7",
   "metadata": {},
   "outputs": [],
   "source": []
  },
  {
   "cell_type": "markdown",
   "id": "9XRYs7_ZwvG1",
   "metadata": {
    "id": "9XRYs7_ZwvG1"
   },
   "source": [
    "# Data Preprocessing"
   ]
  },
  {
   "cell_type": "code",
   "execution_count": 19,
   "id": "b8e796e6-5cc9-4a11-90b3-e4e884a97a56",
   "metadata": {},
   "outputs": [],
   "source": [
    "X=df.drop([\"target\"], axis=1)\n",
    "y=df[\"target\"]"
   ]
  },
  {
   "cell_type": "code",
   "execution_count": 20,
   "id": "7da71532-8e6e-4017-bfa0-6da19249a515",
   "metadata": {},
   "outputs": [],
   "source": [
    "from sklearn.model_selection import train_test_split\n",
    "from sklearn.preprocessing import StandardScaler"
   ]
  },
  {
   "cell_type": "code",
   "execution_count": 21,
   "id": "3495403b-da0e-4d27-aa63-442e8beb06ba",
   "metadata": {},
   "outputs": [],
   "source": [
    "X_train, X_test, y_train, y_test = train_test_split(X, y, test_size=0.20, stratify=y, random_state=42)"
   ]
  },
  {
   "cell_type": "code",
   "execution_count": 22,
   "id": "e6c2a3bd-fd3b-4eab-84e0-59b1c67f29be",
   "metadata": {},
   "outputs": [],
   "source": [
    "scaler = StandardScaler()"
   ]
  },
  {
   "cell_type": "code",
   "execution_count": 23,
   "id": "ea0ea58a-03fc-41c6-9a70-ed214ca3273b",
   "metadata": {},
   "outputs": [],
   "source": [
    "X_train_scaled = scaler.fit_transform(X_train)\n",
    "X_test_scaled = scaler.transform(X_test)"
   ]
  },
  {
   "cell_type": "markdown",
   "id": "jeBjgfDiw6uJ",
   "metadata": {
    "id": "jeBjgfDiw6uJ"
   },
   "source": [
    "# Implement Logistic Regression and Evaluate"
   ]
  },
  {
   "cell_type": "code",
   "execution_count": 59,
   "id": "359e3748-fa07-40ab-b4a4-797d7878d3b0",
   "metadata": {},
   "outputs": [],
   "source": [
    "from sklearn.linear_model import LogisticRegression"
   ]
  },
  {
   "cell_type": "code",
   "execution_count": 60,
   "id": "2855ede4-b5e9-4d2d-b7e0-99c1ade167f8",
   "metadata": {},
   "outputs": [],
   "source": [
    "log_model=LogisticRegression()"
   ]
  },
  {
   "cell_type": "code",
   "execution_count": 61,
   "id": "e23b9e9a-c303-455a-8f56-21214e8ce624",
   "metadata": {},
   "outputs": [
    {
     "data": {
      "text/plain": [
       "LogisticRegression()"
      ]
     },
     "execution_count": 61,
     "metadata": {},
     "output_type": "execute_result"
    }
   ],
   "source": [
    "log_model.fit(X_train_scaled, y_train)"
   ]
  },
  {
   "cell_type": "code",
   "execution_count": 62,
   "id": "579502ee-d86d-40ad-8b06-d0d84c1a2556",
   "metadata": {},
   "outputs": [],
   "source": [
    "y_pred=log_model.predict(X_test_scaled)"
   ]
  },
  {
   "cell_type": "code",
   "execution_count": 63,
   "id": "c5b1fa7a-5154-4630-b8bf-26db0c6ecfeb",
   "metadata": {},
   "outputs": [],
   "source": [
    "y_pred_proba = log_model.predict_proba(X_test_scaled)"
   ]
  },
  {
   "cell_type": "code",
   "execution_count": 64,
   "id": "d9155b1d-561a-44ce-8134-cea6a4922375",
   "metadata": {},
   "outputs": [],
   "source": [
    "from sklearn.metrics import confusion_matrix, classification_report"
   ]
  },
  {
   "cell_type": "code",
   "execution_count": 65,
   "id": "77603544-aec7-455b-a13b-d84f18417bb4",
   "metadata": {},
   "outputs": [],
   "source": [
    "def eval_metric(model, X_train, y_train, X_test, y_test):\n",
    "    y_train_pred = model.predict(X_train)\n",
    "    y_pred = model.predict(X_test)\n",
    "    \n",
    "    print(\"Test_Set\")\n",
    "    print(confusion_matrix(y_test, y_pred))\n",
    "    print(classification_report(y_test, y_pred))\n",
    "    print()\n",
    "    print(\"Train_Set\")\n",
    "    print(confusion_matrix(y_train, y_train_pred))\n",
    "    print(classification_report(y_train, y_train_pred))"
   ]
  },
  {
   "cell_type": "code",
   "execution_count": 66,
   "id": "3b7cea1a-550f-41ca-8082-7c6e1400f8e1",
   "metadata": {},
   "outputs": [
    {
     "name": "stdout",
     "output_type": "stream",
     "text": [
      "Test_Set\n",
      "[[19  9]\n",
      " [ 3 30]]\n",
      "              precision    recall  f1-score   support\n",
      "\n",
      "           0       0.86      0.68      0.76        28\n",
      "           1       0.77      0.91      0.83        33\n",
      "\n",
      "    accuracy                           0.80        61\n",
      "   macro avg       0.82      0.79      0.80        61\n",
      "weighted avg       0.81      0.80      0.80        61\n",
      "\n",
      "\n",
      "Train_Set\n",
      "[[ 85  25]\n",
      " [ 13 119]]\n",
      "              precision    recall  f1-score   support\n",
      "\n",
      "           0       0.87      0.77      0.82       110\n",
      "           1       0.83      0.90      0.86       132\n",
      "\n",
      "    accuracy                           0.84       242\n",
      "   macro avg       0.85      0.84      0.84       242\n",
      "weighted avg       0.85      0.84      0.84       242\n",
      "\n"
     ]
    }
   ],
   "source": [
    "eval_metric(log_model, X_train_scaled, y_train, X_test_scaled, y_test)"
   ]
  },
  {
   "cell_type": "markdown",
   "id": "e36633d4-d0df-40e9-a629-3698b6749983",
   "metadata": {},
   "source": [
    "## Cros Validet"
   ]
  },
  {
   "cell_type": "code",
   "execution_count": 67,
   "id": "8b70ad1d-dd19-4fdc-9769-b5fb372f1eac",
   "metadata": {},
   "outputs": [],
   "source": [
    "from sklearn.model_selection import cross_validate"
   ]
  },
  {
   "cell_type": "code",
   "execution_count": 68,
   "id": "493ba717-8315-47d4-9756-d1e4f93927ad",
   "metadata": {},
   "outputs": [
    {
     "data": {
      "text/html": [
       "<div>\n",
       "<style scoped>\n",
       "    .dataframe tbody tr th:only-of-type {\n",
       "        vertical-align: middle;\n",
       "    }\n",
       "\n",
       "    .dataframe tbody tr th {\n",
       "        vertical-align: top;\n",
       "    }\n",
       "\n",
       "    .dataframe thead th {\n",
       "        text-align: right;\n",
       "    }\n",
       "</style>\n",
       "<table border=\"1\" class=\"dataframe\">\n",
       "  <thead>\n",
       "    <tr style=\"text-align: right;\">\n",
       "      <th></th>\n",
       "      <th>fit_time</th>\n",
       "      <th>score_time</th>\n",
       "      <th>test_precision</th>\n",
       "      <th>test_recall</th>\n",
       "      <th>test_f1</th>\n",
       "      <th>test_accuracy</th>\n",
       "    </tr>\n",
       "  </thead>\n",
       "  <tbody>\n",
       "    <tr>\n",
       "      <th>1</th>\n",
       "      <td>0.011992</td>\n",
       "      <td>0.010004</td>\n",
       "      <td>0.800000</td>\n",
       "      <td>0.857143</td>\n",
       "      <td>0.827586</td>\n",
       "      <td>0.800000</td>\n",
       "    </tr>\n",
       "    <tr>\n",
       "      <th>2</th>\n",
       "      <td>0.006978</td>\n",
       "      <td>0.004999</td>\n",
       "      <td>0.705882</td>\n",
       "      <td>0.857143</td>\n",
       "      <td>0.774194</td>\n",
       "      <td>0.720000</td>\n",
       "    </tr>\n",
       "    <tr>\n",
       "      <th>3</th>\n",
       "      <td>0.013033</td>\n",
       "      <td>0.004969</td>\n",
       "      <td>0.785714</td>\n",
       "      <td>0.846154</td>\n",
       "      <td>0.814815</td>\n",
       "      <td>0.791667</td>\n",
       "    </tr>\n",
       "    <tr>\n",
       "      <th>4</th>\n",
       "      <td>0.005996</td>\n",
       "      <td>0.005997</td>\n",
       "      <td>0.800000</td>\n",
       "      <td>0.923077</td>\n",
       "      <td>0.857143</td>\n",
       "      <td>0.833333</td>\n",
       "    </tr>\n",
       "    <tr>\n",
       "      <th>5</th>\n",
       "      <td>0.006000</td>\n",
       "      <td>0.005002</td>\n",
       "      <td>0.916667</td>\n",
       "      <td>0.846154</td>\n",
       "      <td>0.880000</td>\n",
       "      <td>0.875000</td>\n",
       "    </tr>\n",
       "    <tr>\n",
       "      <th>6</th>\n",
       "      <td>0.010032</td>\n",
       "      <td>0.006968</td>\n",
       "      <td>0.733333</td>\n",
       "      <td>0.846154</td>\n",
       "      <td>0.785714</td>\n",
       "      <td>0.750000</td>\n",
       "    </tr>\n",
       "    <tr>\n",
       "      <th>7</th>\n",
       "      <td>0.006000</td>\n",
       "      <td>0.005000</td>\n",
       "      <td>0.857143</td>\n",
       "      <td>0.923077</td>\n",
       "      <td>0.888889</td>\n",
       "      <td>0.875000</td>\n",
       "    </tr>\n",
       "    <tr>\n",
       "      <th>8</th>\n",
       "      <td>0.007996</td>\n",
       "      <td>0.007000</td>\n",
       "      <td>0.916667</td>\n",
       "      <td>0.846154</td>\n",
       "      <td>0.880000</td>\n",
       "      <td>0.875000</td>\n",
       "    </tr>\n",
       "    <tr>\n",
       "      <th>9</th>\n",
       "      <td>0.008991</td>\n",
       "      <td>0.008009</td>\n",
       "      <td>0.916667</td>\n",
       "      <td>0.846154</td>\n",
       "      <td>0.880000</td>\n",
       "      <td>0.875000</td>\n",
       "    </tr>\n",
       "    <tr>\n",
       "      <th>10</th>\n",
       "      <td>0.005993</td>\n",
       "      <td>0.011008</td>\n",
       "      <td>0.800000</td>\n",
       "      <td>0.923077</td>\n",
       "      <td>0.857143</td>\n",
       "      <td>0.833333</td>\n",
       "    </tr>\n",
       "  </tbody>\n",
       "</table>\n",
       "</div>"
      ],
      "text/plain": [
       "    fit_time  score_time  test_precision  test_recall   test_f1  test_accuracy\n",
       "1   0.011992    0.010004        0.800000     0.857143  0.827586       0.800000\n",
       "2   0.006978    0.004999        0.705882     0.857143  0.774194       0.720000\n",
       "3   0.013033    0.004969        0.785714     0.846154  0.814815       0.791667\n",
       "4   0.005996    0.005997        0.800000     0.923077  0.857143       0.833333\n",
       "5   0.006000    0.005002        0.916667     0.846154  0.880000       0.875000\n",
       "6   0.010032    0.006968        0.733333     0.846154  0.785714       0.750000\n",
       "7   0.006000    0.005000        0.857143     0.923077  0.888889       0.875000\n",
       "8   0.007996    0.007000        0.916667     0.846154  0.880000       0.875000\n",
       "9   0.008991    0.008009        0.916667     0.846154  0.880000       0.875000\n",
       "10  0.005993    0.011008        0.800000     0.923077  0.857143       0.833333"
      ]
     },
     "execution_count": 68,
     "metadata": {},
     "output_type": "execute_result"
    }
   ],
   "source": [
    "model = LogisticRegression()\n",
    "\n",
    "scores = cross_validate(model, X_train_scaled, y_train, scoring = ['precision','recall','f1','accuracy'], cv = 10)\n",
    "df_scores = pd.DataFrame(scores, index = range(1, 11))\n",
    "df_scores"
   ]
  },
  {
   "cell_type": "code",
   "execution_count": 69,
   "id": "85c02adb-977d-4b23-9a17-6f6f36109eff",
   "metadata": {},
   "outputs": [
    {
     "data": {
      "text/plain": [
       "test_precision    0.823207\n",
       "test_recall       0.871429\n",
       "test_f1           0.844548\n",
       "test_accuracy     0.822833\n",
       "dtype: float64"
      ]
     },
     "execution_count": 69,
     "metadata": {},
     "output_type": "execute_result"
    }
   ],
   "source": [
    "df_scores.mean()[2:]"
   ]
  },
  {
   "cell_type": "code",
   "execution_count": 70,
   "id": "5999879d-f91b-491a-8c7f-27bb5e7ec52c",
   "metadata": {},
   "outputs": [
    {
     "name": "stdout",
     "output_type": "stream",
     "text": [
      "Test_Set\n",
      "[[19  9]\n",
      " [ 3 30]]\n",
      "              precision    recall  f1-score   support\n",
      "\n",
      "           0       0.86      0.68      0.76        28\n",
      "           1       0.77      0.91      0.83        33\n",
      "\n",
      "    accuracy                           0.80        61\n",
      "   macro avg       0.82      0.79      0.80        61\n",
      "weighted avg       0.81      0.80      0.80        61\n",
      "\n",
      "\n",
      "Train_Set\n",
      "[[ 85  25]\n",
      " [ 13 119]]\n",
      "              precision    recall  f1-score   support\n",
      "\n",
      "           0       0.87      0.77      0.82       110\n",
      "           1       0.83      0.90      0.86       132\n",
      "\n",
      "    accuracy                           0.84       242\n",
      "   macro avg       0.85      0.84      0.84       242\n",
      "weighted avg       0.85      0.84      0.84       242\n",
      "\n"
     ]
    }
   ],
   "source": [
    "eval_metric(log_model, X_train_scaled, y_train, X_test_scaled, y_test) ## değerler birbirine yakın çıktı."
   ]
  },
  {
   "cell_type": "markdown",
   "id": "fcbeabe8-b580-43a9-a021-6b78cb0c30e7",
   "metadata": {},
   "source": [
    "## Grid Search"
   ]
  },
  {
   "cell_type": "code",
   "execution_count": 71,
   "id": "6518ed81-b19d-4f72-9b17-ad2869cd516a",
   "metadata": {},
   "outputs": [],
   "source": [
    "from sklearn.model_selection import GridSearchCV\n",
    "\n",
    "model = LogisticRegression()\n",
    "\n",
    "penalty = [\"l1\", \"l2\"]\n",
    "C = np.logspace(-1, 5, 20)\n",
    "class_weight= [\"balanced\", None] \n",
    "solver = [\"lbfgs\", \"liblinear\", \"sag\", \"saga\"]\n",
    "\n",
    "param_grid = {\"penalty\" : penalty,\n",
    "              \"C\" : C,\n",
    "              \"class_weight\":class_weight,\n",
    "              \"solver\":solver}\n",
    "\n",
    "\n",
    "grid_model = GridSearchCV(estimator=model,\n",
    "                          param_grid=param_grid,\n",
    "                          cv=10,\n",
    "                          scoring = \"recall\",   \n",
    "                          n_jobs = -1)"
   ]
  },
  {
   "cell_type": "code",
   "execution_count": 72,
   "id": "f67d084c-f2de-47de-926a-8d7d8d8aa00d",
   "metadata": {},
   "outputs": [
    {
     "data": {
      "text/plain": [
       "GridSearchCV(cv=10, estimator=LogisticRegression(), n_jobs=-1,\n",
       "             param_grid={'C': array([1.00000000e-01, 2.06913808e-01, 4.28133240e-01, 8.85866790e-01,\n",
       "       1.83298071e+00, 3.79269019e+00, 7.84759970e+00, 1.62377674e+01,\n",
       "       3.35981829e+01, 6.95192796e+01, 1.43844989e+02, 2.97635144e+02,\n",
       "       6.15848211e+02, 1.27427499e+03, 2.63665090e+03, 5.45559478e+03,\n",
       "       1.12883789e+04, 2.33572147e+04, 4.83293024e+04, 1.00000000e+05]),\n",
       "                         'class_weight': ['balanced', None],\n",
       "                         'penalty': ['l1', 'l2'],\n",
       "                         'solver': ['lbfgs', 'liblinear', 'sag', 'saga']},\n",
       "             scoring='recall')"
      ]
     },
     "execution_count": 72,
     "metadata": {},
     "output_type": "execute_result"
    }
   ],
   "source": [
    "grid_model.fit(X_train_scaled,y_train)"
   ]
  },
  {
   "cell_type": "code",
   "execution_count": 73,
   "id": "0e076a8f-e0ed-4058-95df-6e8a3367d7fd",
   "metadata": {},
   "outputs": [
    {
     "data": {
      "text/plain": [
       "{'C': 0.1, 'class_weight': None, 'penalty': 'l1', 'solver': 'saga'}"
      ]
     },
     "execution_count": 73,
     "metadata": {},
     "output_type": "execute_result"
    }
   ],
   "source": [
    "grid_model.best_params_"
   ]
  },
  {
   "cell_type": "code",
   "execution_count": 74,
   "id": "e4dc669b-0c33-4ad2-b04b-95b4dcbff0dd",
   "metadata": {},
   "outputs": [
    {
     "name": "stdout",
     "output_type": "stream",
     "text": [
      "Test_Set\n",
      "[[18 10]\n",
      " [ 1 32]]\n",
      "              precision    recall  f1-score   support\n",
      "\n",
      "           0       0.95      0.64      0.77        28\n",
      "           1       0.76      0.97      0.85        33\n",
      "\n",
      "    accuracy                           0.82        61\n",
      "   macro avg       0.85      0.81      0.81        61\n",
      "weighted avg       0.85      0.82      0.81        61\n",
      "\n",
      "\n",
      "Train_Set\n",
      "[[ 86  24]\n",
      " [ 11 121]]\n",
      "              precision    recall  f1-score   support\n",
      "\n",
      "           0       0.89      0.78      0.83       110\n",
      "           1       0.83      0.92      0.87       132\n",
      "\n",
      "    accuracy                           0.86       242\n",
      "   macro avg       0.86      0.85      0.85       242\n",
      "weighted avg       0.86      0.86      0.85       242\n",
      "\n"
     ]
    }
   ],
   "source": [
    "eval_metric(grid_model, X_train_scaled, y_train, X_test_scaled, y_test) \n",
    "\n",
    "## recall cok arttı ama precision duştu birde test datası ile train arasında fark biraz daha açıldı gibi!!!\n",
    "## f1 skoru dengeli bir şekilde arttı"
   ]
  },
  {
   "cell_type": "markdown",
   "id": "bc304121-fd0b-48dd-bae5-f179a8eb14b7",
   "metadata": {},
   "source": [
    "## Finding Best Threshold"
   ]
  },
  {
   "cell_type": "code",
   "execution_count": 75,
   "id": "1935f975-b4c5-46de-9f32-f59e45dd8628",
   "metadata": {},
   "outputs": [],
   "source": [
    "from sklearn.metrics import plot_roc_curve, plot_precision_recall_curve, roc_auc_score, auc, roc_curve, average_precision_score, precision_recall_curve"
   ]
  },
  {
   "cell_type": "code",
   "execution_count": 76,
   "id": "673fd434-66db-4318-932d-c8b7288e3780",
   "metadata": {},
   "outputs": [
    {
     "data": {
      "image/png": "[encoded data removed]",
      "text/plain": [
       "<Figure size 432x288 with 1 Axes>"
      ]
     },
     "metadata": {
      "needs_background": "light"
     },
     "output_type": "display_data"
    }
   ],
   "source": [
    "plot_roc_curve(log_model, X_train_scaled, y_train);"
   ]
  },
  {
   "cell_type": "code",
   "execution_count": 77,
   "id": "cae34269-5a30-4039-b688-70d6e7ed9946",
   "metadata": {},
   "outputs": [
    {
     "data": {
      "text/plain": [
       "0.9279614325068871"
      ]
     },
     "execution_count": 77,
     "metadata": {},
     "output_type": "execute_result"
    }
   ],
   "source": [
    "y_pred_proba = log_model.predict_proba(X_train_scaled)\n",
    "roc_auc_score(y_train, y_pred_proba[:,1])"
   ]
  },
  {
   "cell_type": "code",
   "execution_count": 78,
   "id": "a2467024-a9d5-42de-bbde-a4a1f32b82d2",
   "metadata": {},
   "outputs": [],
   "source": [
    "fp_rate, tp_rate, thresholds = roc_curve(y_train, y_pred_proba[:,1])"
   ]
  },
  {
   "cell_type": "code",
   "execution_count": 79,
   "id": "d599d791-36d5-4df9-9300-667103ed8866",
   "metadata": {},
   "outputs": [
    {
     "data": {
      "text/plain": [
       "0.598181635122485"
      ]
     },
     "execution_count": 79,
     "metadata": {},
     "output_type": "execute_result"
    }
   ],
   "source": [
    "optimal_idx = np.argmax(tp_rate - fp_rate)   ##normalde burda basic model olan (log_model kullanıp aldığım best_thresholds) 0.5 altında çıkması\n",
    "optimal_threshold = thresholds[optimal_idx]  ## gerekiyor ama bunun yüksek çıkması demek, bunu uygularsak değerlerim duşecek demek!!!\n",
    "optimal_threshold"
   ]
  },
  {
   "cell_type": "code",
   "execution_count": 80,
   "id": "7c1bd039-ac35-49f7-8705-dd9bb4b78321",
   "metadata": {},
   "outputs": [],
   "source": [
    "y_pred2 = pd.Series(grid_model.predict_proba(X_test_scaled)[:,1]).apply(lambda x : 1 if x >= optimal_threshold else 0)"
   ]
  },
  {
   "cell_type": "code",
   "execution_count": 81,
   "id": "e6efa1d3-e638-4bd2-8f23-ddf794c0aafd",
   "metadata": {},
   "outputs": [
    {
     "name": "stdout",
     "output_type": "stream",
     "text": [
      "[[19  9]\n",
      " [ 7 26]]\n",
      "              precision    recall  f1-score   support\n",
      "\n",
      "           0       0.73      0.68      0.70        28\n",
      "           1       0.74      0.79      0.76        33\n",
      "\n",
      "    accuracy                           0.74        61\n",
      "   macro avg       0.74      0.73      0.73        61\n",
      "weighted avg       0.74      0.74      0.74        61\n",
      "\n"
     ]
    }
   ],
   "source": [
    "print(confusion_matrix(y_test,y_pred2))\n",
    "print(classification_report(y_test,y_pred2))"
   ]
  },
  {
   "cell_type": "code",
   "execution_count": null,
   "id": "f7f6864d-dfad-433b-a2a5-fd7e92865fd0",
   "metadata": {
    "id": "f7f6864d-dfad-433b-a2a5-fd7e92865fd0"
   },
   "outputs": [],
   "source": []
  },
  {
   "cell_type": "markdown",
   "id": "uyHR7S4ExKCU",
   "metadata": {
    "id": "uyHR7S4ExKCU"
   },
   "source": [
    "# Implement KNN and Evaluate"
   ]
  },
  {
   "cell_type": "code",
   "execution_count": 82,
   "id": "61cae7ac-f5c1-4d7d-9b67-4bd9b47d32a6",
   "metadata": {},
   "outputs": [],
   "source": [
    "from sklearn.model_selection import train_test_split\n",
    "from sklearn.preprocessing import StandardScaler, MinMaxScaler"
   ]
  },
  {
   "cell_type": "code",
   "execution_count": 83,
   "id": "64129d51-8814-4af0-942d-f2b384a0b9f4",
   "metadata": {},
   "outputs": [],
   "source": [
    "X=df.drop([\"target\"], axis=1)\n",
    "y=df[\"target\"]"
   ]
  },
  {
   "cell_type": "code",
   "execution_count": 84,
   "id": "fc84685a-9541-43c3-8fd4-2d26cd221e8e",
   "metadata": {},
   "outputs": [],
   "source": [
    "X_train, X_test, y_train, y_test = train_test_split(X, y, test_size=0.20, stratify=y, random_state=42)"
   ]
  },
  {
   "cell_type": "code",
   "execution_count": 85,
   "id": "5fc82f14-b606-4e41-ae4f-72a1bd250d0f",
   "metadata": {},
   "outputs": [],
   "source": [
    "scaler = StandardScaler()"
   ]
  },
  {
   "cell_type": "code",
   "execution_count": 86,
   "id": "bfe150db-8e22-4f7a-80cb-8bf16e4ea3df",
   "metadata": {},
   "outputs": [],
   "source": [
    "X_train_scaled = scaler.fit_transform(X_train)\n",
    "X_test_scaled = scaler.transform(X_test)"
   ]
  },
  {
   "cell_type": "markdown",
   "id": "a066695c-a3c9-4e64-a927-370de3524cbb",
   "metadata": {},
   "source": [
    "## KNN Model"
   ]
  },
  {
   "cell_type": "code",
   "execution_count": 87,
   "id": "a0492982-0e28-4b30-9d1d-fab2ac602b68",
   "metadata": {},
   "outputs": [],
   "source": [
    "from sklearn.neighbors import KNeighborsClassifier"
   ]
  },
  {
   "cell_type": "code",
   "execution_count": 88,
   "id": "3eb02091-1a9c-4f6d-9223-291b920f5d3f",
   "metadata": {},
   "outputs": [],
   "source": [
    "knn_model = KNeighborsClassifier(n_neighbors=5)"
   ]
  },
  {
   "cell_type": "code",
   "execution_count": 89,
   "id": "05884b76-a181-4041-9bbc-07f860ff0f9b",
   "metadata": {},
   "outputs": [
    {
     "data": {
      "text/plain": [
       "KNeighborsClassifier()"
      ]
     },
     "execution_count": 89,
     "metadata": {},
     "output_type": "execute_result"
    }
   ],
   "source": [
    "knn_model.fit(X_train_scaled,y_train)"
   ]
  },
  {
   "cell_type": "code",
   "execution_count": 90,
   "id": "edebb238-7b00-40a0-9aa8-e40b390ce2ac",
   "metadata": {},
   "outputs": [
    {
     "data": {
      "text/plain": [
       "array([0, 1, 0, 0, 1, 0, 1, 1, 1, 1, 0, 1, 0, 1, 1, 1, 1, 1, 1, 1, 1, 0,\n",
       "       1, 1, 1, 0, 0, 1, 0, 1, 0, 1, 0, 0, 0, 0, 1, 1, 1, 1, 0, 1, 1, 1,\n",
       "       0, 0, 1, 1, 1, 1, 0, 1, 1, 0, 1, 1, 1, 1, 0, 0, 1], dtype=int64)"
      ]
     },
     "execution_count": 90,
     "metadata": {},
     "output_type": "execute_result"
    }
   ],
   "source": [
    "y_pred = knn_model.predict(X_test_scaled)\n",
    "y_pred"
   ]
  },
  {
   "cell_type": "code",
   "execution_count": 91,
   "id": "54217622-8b5d-4b5f-bc49-470f0fa17697",
   "metadata": {},
   "outputs": [],
   "source": [
    "y_pred_proba = knn_model.predict_proba(X_test_scaled)"
   ]
  },
  {
   "cell_type": "code",
   "execution_count": 92,
   "id": "f5db6162-2303-41ab-a65d-149eaa84b41e",
   "metadata": {},
   "outputs": [
    {
     "data": {
      "text/html": [
       "<div>\n",
       "<style scoped>\n",
       "    .dataframe tbody tr th:only-of-type {\n",
       "        vertical-align: middle;\n",
       "    }\n",
       "\n",
       "    .dataframe tbody tr th {\n",
       "        vertical-align: top;\n",
       "    }\n",
       "\n",
       "    .dataframe thead th {\n",
       "        text-align: right;\n",
       "    }\n",
       "</style>\n",
       "<table border=\"1\" class=\"dataframe\">\n",
       "  <thead>\n",
       "    <tr style=\"text-align: right;\">\n",
       "      <th></th>\n",
       "      <th>0</th>\n",
       "      <th>1</th>\n",
       "    </tr>\n",
       "  </thead>\n",
       "  <tbody>\n",
       "    <tr>\n",
       "      <th>0</th>\n",
       "      <td>1.0</td>\n",
       "      <td>0.0</td>\n",
       "    </tr>\n",
       "    <tr>\n",
       "      <th>1</th>\n",
       "      <td>0.4</td>\n",
       "      <td>0.6</td>\n",
       "    </tr>\n",
       "    <tr>\n",
       "      <th>2</th>\n",
       "      <td>1.0</td>\n",
       "      <td>0.0</td>\n",
       "    </tr>\n",
       "    <tr>\n",
       "      <th>3</th>\n",
       "      <td>0.6</td>\n",
       "      <td>0.4</td>\n",
       "    </tr>\n",
       "    <tr>\n",
       "      <th>4</th>\n",
       "      <td>0.4</td>\n",
       "      <td>0.6</td>\n",
       "    </tr>\n",
       "    <tr>\n",
       "      <th>...</th>\n",
       "      <td>...</td>\n",
       "      <td>...</td>\n",
       "    </tr>\n",
       "    <tr>\n",
       "      <th>56</th>\n",
       "      <td>0.4</td>\n",
       "      <td>0.6</td>\n",
       "    </tr>\n",
       "    <tr>\n",
       "      <th>57</th>\n",
       "      <td>0.4</td>\n",
       "      <td>0.6</td>\n",
       "    </tr>\n",
       "    <tr>\n",
       "      <th>58</th>\n",
       "      <td>1.0</td>\n",
       "      <td>0.0</td>\n",
       "    </tr>\n",
       "    <tr>\n",
       "      <th>59</th>\n",
       "      <td>0.8</td>\n",
       "      <td>0.2</td>\n",
       "    </tr>\n",
       "    <tr>\n",
       "      <th>60</th>\n",
       "      <td>0.0</td>\n",
       "      <td>1.0</td>\n",
       "    </tr>\n",
       "  </tbody>\n",
       "</table>\n",
       "<p>61 rows × 2 columns</p>\n",
       "</div>"
      ],
      "text/plain": [
       "      0    1\n",
       "0   1.0  0.0\n",
       "1   0.4  0.6\n",
       "2   1.0  0.0\n",
       "3   0.6  0.4\n",
       "4   0.4  0.6\n",
       "..  ...  ...\n",
       "56  0.4  0.6\n",
       "57  0.4  0.6\n",
       "58  1.0  0.0\n",
       "59  0.8  0.2\n",
       "60  0.0  1.0\n",
       "\n",
       "[61 rows x 2 columns]"
      ]
     },
     "execution_count": 92,
     "metadata": {},
     "output_type": "execute_result"
    }
   ],
   "source": [
    "pd.DataFrame(y_pred_proba)"
   ]
  },
  {
   "cell_type": "code",
   "execution_count": 93,
   "id": "c8ce3b42-cd38-447f-b4ae-d5ce1afaf974",
   "metadata": {},
   "outputs": [],
   "source": [
    "my_dict = {\"Actual\": y_test, \"Pred\":y_pred, \"Proba_1\":y_pred_proba[:,1], \"Proba_0\":y_pred_proba[:,0]}"
   ]
  },
  {
   "cell_type": "code",
   "execution_count": 94,
   "id": "f9a9ba09-2351-48bc-98f9-f98e04f10071",
   "metadata": {},
   "outputs": [
    {
     "data": {
      "text/html": [
       "<div>\n",
       "<style scoped>\n",
       "    .dataframe tbody tr th:only-of-type {\n",
       "        vertical-align: middle;\n",
       "    }\n",
       "\n",
       "    .dataframe tbody tr th {\n",
       "        vertical-align: top;\n",
       "    }\n",
       "\n",
       "    .dataframe thead th {\n",
       "        text-align: right;\n",
       "    }\n",
       "</style>\n",
       "<table border=\"1\" class=\"dataframe\">\n",
       "  <thead>\n",
       "    <tr style=\"text-align: right;\">\n",
       "      <th></th>\n",
       "      <th>Actual</th>\n",
       "      <th>Pred</th>\n",
       "      <th>Proba_1</th>\n",
       "      <th>Proba_0</th>\n",
       "    </tr>\n",
       "  </thead>\n",
       "  <tbody>\n",
       "    <tr>\n",
       "      <th>272</th>\n",
       "      <td>0</td>\n",
       "      <td>0</td>\n",
       "      <td>0.2</td>\n",
       "      <td>0.8</td>\n",
       "    </tr>\n",
       "    <tr>\n",
       "      <th>179</th>\n",
       "      <td>0</td>\n",
       "      <td>0</td>\n",
       "      <td>0.0</td>\n",
       "      <td>1.0</td>\n",
       "    </tr>\n",
       "    <tr>\n",
       "      <th>252</th>\n",
       "      <td>0</td>\n",
       "      <td>0</td>\n",
       "      <td>0.2</td>\n",
       "      <td>0.8</td>\n",
       "    </tr>\n",
       "    <tr>\n",
       "      <th>160</th>\n",
       "      <td>1</td>\n",
       "      <td>1</td>\n",
       "      <td>0.6</td>\n",
       "      <td>0.4</td>\n",
       "    </tr>\n",
       "    <tr>\n",
       "      <th>293</th>\n",
       "      <td>0</td>\n",
       "      <td>1</td>\n",
       "      <td>0.8</td>\n",
       "      <td>0.2</td>\n",
       "    </tr>\n",
       "    <tr>\n",
       "      <th>264</th>\n",
       "      <td>0</td>\n",
       "      <td>0</td>\n",
       "      <td>0.0</td>\n",
       "      <td>1.0</td>\n",
       "    </tr>\n",
       "    <tr>\n",
       "      <th>151</th>\n",
       "      <td>1</td>\n",
       "      <td>1</td>\n",
       "      <td>0.8</td>\n",
       "      <td>0.2</td>\n",
       "    </tr>\n",
       "    <tr>\n",
       "      <th>217</th>\n",
       "      <td>0</td>\n",
       "      <td>0</td>\n",
       "      <td>0.0</td>\n",
       "      <td>1.0</td>\n",
       "    </tr>\n",
       "    <tr>\n",
       "      <th>70</th>\n",
       "      <td>1</td>\n",
       "      <td>0</td>\n",
       "      <td>0.4</td>\n",
       "      <td>0.6</td>\n",
       "    </tr>\n",
       "    <tr>\n",
       "      <th>166</th>\n",
       "      <td>0</td>\n",
       "      <td>0</td>\n",
       "      <td>0.0</td>\n",
       "      <td>1.0</td>\n",
       "    </tr>\n",
       "  </tbody>\n",
       "</table>\n",
       "</div>"
      ],
      "text/plain": [
       "     Actual  Pred  Proba_1  Proba_0\n",
       "272       0     0      0.2      0.8\n",
       "179       0     0      0.0      1.0\n",
       "252       0     0      0.2      0.8\n",
       "160       1     1      0.6      0.4\n",
       "293       0     1      0.8      0.2\n",
       "264       0     0      0.0      1.0\n",
       "151       1     1      0.8      0.2\n",
       "217       0     0      0.0      1.0\n",
       "70        1     0      0.4      0.6\n",
       "166       0     0      0.0      1.0"
      ]
     },
     "execution_count": 94,
     "metadata": {},
     "output_type": "execute_result"
    }
   ],
   "source": [
    "pd.DataFrame.from_dict(my_dict).sample(10)"
   ]
  },
  {
   "cell_type": "code",
   "execution_count": 95,
   "id": "84ef4eaf-26e1-40aa-b874-0993b23faf88",
   "metadata": {},
   "outputs": [],
   "source": [
    "from sklearn.metrics import confusion_matrix, classification_report, plot_confusion_matrix"
   ]
  },
  {
   "cell_type": "code",
   "execution_count": 96,
   "id": "26cb3fc8-0998-442c-8bee-3f1fded8674f",
   "metadata": {},
   "outputs": [
    {
     "data": {
      "text/plain": [
       "array([[19,  9],\n",
       "       [ 3, 30]], dtype=int64)"
      ]
     },
     "execution_count": 96,
     "metadata": {},
     "output_type": "execute_result"
    }
   ],
   "source": [
    "confusion_matrix(y_test, y_pred)"
   ]
  },
  {
   "cell_type": "code",
   "execution_count": 97,
   "id": "16835fa2-16e5-42ca-abc7-80fd07377f66",
   "metadata": {},
   "outputs": [
    {
     "data": {
      "image/png": "[encoded data removed]",
      "text/plain": [
       "<Figure size 432x288 with 2 Axes>"
      ]
     },
     "metadata": {
      "needs_background": "light"
     },
     "output_type": "display_data"
    }
   ],
   "source": [
    "plot_confusion_matrix(knn_model, X_test_scaled, y_test);"
   ]
  },
  {
   "cell_type": "code",
   "execution_count": 98,
   "id": "0fc2d657-28f7-488a-8513-c1c836b36267",
   "metadata": {},
   "outputs": [
    {
     "name": "stdout",
     "output_type": "stream",
     "text": [
      "[[19  9]\n",
      " [ 3 30]]\n",
      "              precision    recall  f1-score   support\n",
      "\n",
      "           0       0.86      0.68      0.76        28\n",
      "           1       0.77      0.91      0.83        33\n",
      "\n",
      "    accuracy                           0.80        61\n",
      "   macro avg       0.82      0.79      0.80        61\n",
      "weighted avg       0.81      0.80      0.80        61\n",
      "\n"
     ]
    }
   ],
   "source": [
    "print(confusion_matrix(y_test, y_pred))\n",
    "print(classification_report(y_test, y_pred))"
   ]
  },
  {
   "cell_type": "markdown",
   "id": "09c16005-3359-4026-a310-13551b990931",
   "metadata": {},
   "source": [
    "## K Values"
   ]
  },
  {
   "cell_type": "code",
   "execution_count": 99,
   "id": "131be2f3-e900-4c05-8c45-8cb5017eb0a5",
   "metadata": {},
   "outputs": [],
   "source": [
    "from sklearn.metrics import accuracy_score, f1_score, recall_score, precision_score"
   ]
  },
  {
   "cell_type": "code",
   "execution_count": 100,
   "id": "95fee71a-2e03-4606-be72-93fd35af890d",
   "metadata": {},
   "outputs": [],
   "source": [
    "test_error_rates = []\n",
    "\n",
    "\n",
    "for k in range(1,30):\n",
    "    knn_model = KNeighborsClassifier(n_neighbors=k)\n",
    "    knn_model.fit(X_train_scaled,y_train) \n",
    "   \n",
    "    y_pred_test = knn_model.predict(X_test_scaled)\n",
    "    \n",
    "    test_error = 1 - accuracy_score(y_test,y_pred_test)\n",
    "    test_error_rates.append(test_error)"
   ]
  },
  {
   "cell_type": "code",
   "execution_count": 101,
   "id": "c99c4e9a-d803-4503-af79-f9e18023cdc5",
   "metadata": {},
   "outputs": [],
   "source": [
    "def eval_metric(model, X_train, y_train, X_test, y_test):\n",
    "    y_train_pred = model.predict(X_train)\n",
    "    y_pred = model.predict(X_test)\n",
    "    \n",
    "    print(\"Test_Set\\n\")\n",
    "    print(confusion_matrix(y_test, y_pred))\n",
    "    print(classification_report(y_test, y_pred))\n",
    "    print()\n",
    "    print(\"Train_Set\\n\")\n",
    "    print(confusion_matrix(y_train, y_train_pred))\n",
    "    print(classification_report(y_train, y_train_pred))"
   ]
  },
  {
   "cell_type": "code",
   "execution_count": 102,
   "id": "326dbc89-afd8-4973-b835-0f78c4225f30",
   "metadata": {},
   "outputs": [
    {
     "name": "stdout",
     "output_type": "stream",
     "text": [
      "WITH K=1\n",
      "\n",
      "Test_Set\n",
      "\n",
      "[[19  9]\n",
      " [ 6 27]]\n",
      "              precision    recall  f1-score   support\n",
      "\n",
      "           0       0.76      0.68      0.72        28\n",
      "           1       0.75      0.82      0.78        33\n",
      "\n",
      "    accuracy                           0.75        61\n",
      "   macro avg       0.76      0.75      0.75        61\n",
      "weighted avg       0.75      0.75      0.75        61\n",
      "\n",
      "\n",
      "Train_Set\n",
      "\n",
      "[[110   0]\n",
      " [  0 132]]\n",
      "              precision    recall  f1-score   support\n",
      "\n",
      "           0       1.00      1.00      1.00       110\n",
      "           1       1.00      1.00      1.00       132\n",
      "\n",
      "    accuracy                           1.00       242\n",
      "   macro avg       1.00      1.00      1.00       242\n",
      "weighted avg       1.00      1.00      1.00       242\n",
      "\n"
     ]
    }
   ],
   "source": [
    "knn = KNeighborsClassifier(n_neighbors=1)\n",
    "\n",
    "knn.fit(X_train_scaled,y_train)\n",
    "print('WITH K=1\\n')\n",
    "eval_metric(knn, X_train_scaled, y_train, X_test_scaled, y_test)"
   ]
  },
  {
   "cell_type": "code",
   "execution_count": 103,
   "id": "fcc5bd76-f614-4620-89a9-827bac2068cd",
   "metadata": {},
   "outputs": [
    {
     "name": "stdout",
     "output_type": "stream",
     "text": [
      "WITH K=22\n",
      "\n",
      "Test_Set\n",
      "\n",
      "[[19  9]\n",
      " [ 1 32]]\n",
      "              precision    recall  f1-score   support\n",
      "\n",
      "           0       0.95      0.68      0.79        28\n",
      "           1       0.78      0.97      0.86        33\n",
      "\n",
      "    accuracy                           0.84        61\n",
      "   macro avg       0.87      0.82      0.83        61\n",
      "weighted avg       0.86      0.84      0.83        61\n",
      "\n",
      "\n",
      "Train_Set\n",
      "\n",
      "[[ 81  29]\n",
      " [ 10 122]]\n",
      "              precision    recall  f1-score   support\n",
      "\n",
      "           0       0.89      0.74      0.81       110\n",
      "           1       0.81      0.92      0.86       132\n",
      "\n",
      "    accuracy                           0.84       242\n",
      "   macro avg       0.85      0.83      0.83       242\n",
      "weighted avg       0.85      0.84      0.84       242\n",
      "\n"
     ]
    }
   ],
   "source": [
    "knn = KNeighborsClassifier(n_neighbors=22)\n",
    "\n",
    "knn.fit(X_train_scaled,y_train)\n",
    "print('WITH K=22\\n')\n",
    "eval_metric(knn, X_train_scaled, y_train, X_test_scaled, y_test)"
   ]
  },
  {
   "cell_type": "code",
   "execution_count": 104,
   "id": "ac96244f-a117-412f-bcae-aafdd8bf5a55",
   "metadata": {},
   "outputs": [
    {
     "name": "stdout",
     "output_type": "stream",
     "text": [
      "WITH K=9\n",
      "\n",
      "Test_Set\n",
      "\n",
      "[[20  8]\n",
      " [ 3 30]]\n",
      "              precision    recall  f1-score   support\n",
      "\n",
      "           0       0.87      0.71      0.78        28\n",
      "           1       0.79      0.91      0.85        33\n",
      "\n",
      "    accuracy                           0.82        61\n",
      "   macro avg       0.83      0.81      0.81        61\n",
      "weighted avg       0.83      0.82      0.82        61\n",
      "\n",
      "\n",
      "Train_Set\n",
      "\n",
      "[[ 85  25]\n",
      " [  9 123]]\n",
      "              precision    recall  f1-score   support\n",
      "\n",
      "           0       0.90      0.77      0.83       110\n",
      "           1       0.83      0.93      0.88       132\n",
      "\n",
      "    accuracy                           0.86       242\n",
      "   macro avg       0.87      0.85      0.86       242\n",
      "weighted avg       0.86      0.86      0.86       242\n",
      "\n"
     ]
    }
   ],
   "source": [
    "knn = KNeighborsClassifier(n_neighbors=9)\n",
    "\n",
    "knn.fit(X_train_scaled,y_train)\n",
    "print('WITH K=9\\n')\n",
    "eval_metric(knn, X_train_scaled, y_train, X_test_scaled, y_test)"
   ]
  },
  {
   "cell_type": "code",
   "execution_count": 105,
   "id": "f2bd967e-09aa-4c4b-b7b3-174a8fca4833",
   "metadata": {},
   "outputs": [
    {
     "name": "stdout",
     "output_type": "stream",
     "text": [
      "WITH K=16\n",
      "\n",
      "Test_Set\n",
      "\n",
      "[[18 10]\n",
      " [ 2 31]]\n",
      "              precision    recall  f1-score   support\n",
      "\n",
      "           0       0.90      0.64      0.75        28\n",
      "           1       0.76      0.94      0.84        33\n",
      "\n",
      "    accuracy                           0.80        61\n",
      "   macro avg       0.83      0.79      0.79        61\n",
      "weighted avg       0.82      0.80      0.80        61\n",
      "\n",
      "\n",
      "Train_Set\n",
      "\n",
      "[[ 86  24]\n",
      " [ 10 122]]\n",
      "              precision    recall  f1-score   support\n",
      "\n",
      "           0       0.90      0.78      0.83       110\n",
      "           1       0.84      0.92      0.88       132\n",
      "\n",
      "    accuracy                           0.86       242\n",
      "   macro avg       0.87      0.85      0.86       242\n",
      "weighted avg       0.86      0.86      0.86       242\n",
      "\n"
     ]
    }
   ],
   "source": [
    "knn = KNeighborsClassifier(n_neighbors=15)\n",
    "\n",
    "knn.fit(X_train_scaled,y_train)\n",
    "print('WITH K=16\\n')\n",
    "eval_metric(knn, X_train_scaled, y_train, X_test_scaled, y_test)"
   ]
  },
  {
   "cell_type": "markdown",
   "id": "6ed44dcb-2440-4c3f-89d8-1ceddb0f9e12",
   "metadata": {},
   "source": [
    "## Optimal K Value"
   ]
  },
  {
   "cell_type": "code",
   "execution_count": 110,
   "id": "cdf14c8e-3ee9-43cc-9fcc-d0d1d6200d6a",
   "metadata": {},
   "outputs": [],
   "source": [
    "from sklearn.model_selection import cross_val_score, cross_validate"
   ]
  },
  {
   "cell_type": "code",
   "execution_count": 111,
   "id": "1785dcf9-b314-44db-a5a6-c2b8e799d8d8",
   "metadata": {},
   "outputs": [
    {
     "data": {
      "text/html": [
       "<div>\n",
       "<style scoped>\n",
       "    .dataframe tbody tr th:only-of-type {\n",
       "        vertical-align: middle;\n",
       "    }\n",
       "\n",
       "    .dataframe tbody tr th {\n",
       "        vertical-align: top;\n",
       "    }\n",
       "\n",
       "    .dataframe thead th {\n",
       "        text-align: right;\n",
       "    }\n",
       "</style>\n",
       "<table border=\"1\" class=\"dataframe\">\n",
       "  <thead>\n",
       "    <tr style=\"text-align: right;\">\n",
       "      <th></th>\n",
       "      <th>fit_time</th>\n",
       "      <th>score_time</th>\n",
       "      <th>test_accuracy</th>\n",
       "      <th>test_precision</th>\n",
       "      <th>test_recall</th>\n",
       "      <th>test_f1</th>\n",
       "    </tr>\n",
       "  </thead>\n",
       "  <tbody>\n",
       "    <tr>\n",
       "      <th>1</th>\n",
       "      <td>0.003003</td>\n",
       "      <td>0.014001</td>\n",
       "      <td>0.840000</td>\n",
       "      <td>0.857143</td>\n",
       "      <td>0.857143</td>\n",
       "      <td>0.857143</td>\n",
       "    </tr>\n",
       "    <tr>\n",
       "      <th>2</th>\n",
       "      <td>0.003000</td>\n",
       "      <td>0.008995</td>\n",
       "      <td>0.600000</td>\n",
       "      <td>0.611111</td>\n",
       "      <td>0.785714</td>\n",
       "      <td>0.687500</td>\n",
       "    </tr>\n",
       "    <tr>\n",
       "      <th>3</th>\n",
       "      <td>0.002002</td>\n",
       "      <td>0.014008</td>\n",
       "      <td>0.791667</td>\n",
       "      <td>0.785714</td>\n",
       "      <td>0.846154</td>\n",
       "      <td>0.814815</td>\n",
       "    </tr>\n",
       "    <tr>\n",
       "      <th>4</th>\n",
       "      <td>0.001997</td>\n",
       "      <td>0.007998</td>\n",
       "      <td>0.833333</td>\n",
       "      <td>0.764706</td>\n",
       "      <td>1.000000</td>\n",
       "      <td>0.866667</td>\n",
       "    </tr>\n",
       "    <tr>\n",
       "      <th>5</th>\n",
       "      <td>0.003998</td>\n",
       "      <td>0.006997</td>\n",
       "      <td>0.916667</td>\n",
       "      <td>1.000000</td>\n",
       "      <td>0.846154</td>\n",
       "      <td>0.916667</td>\n",
       "    </tr>\n",
       "    <tr>\n",
       "      <th>6</th>\n",
       "      <td>0.002000</td>\n",
       "      <td>0.010999</td>\n",
       "      <td>0.791667</td>\n",
       "      <td>0.750000</td>\n",
       "      <td>0.923077</td>\n",
       "      <td>0.827586</td>\n",
       "    </tr>\n",
       "    <tr>\n",
       "      <th>7</th>\n",
       "      <td>0.002002</td>\n",
       "      <td>0.006999</td>\n",
       "      <td>0.875000</td>\n",
       "      <td>0.916667</td>\n",
       "      <td>0.846154</td>\n",
       "      <td>0.880000</td>\n",
       "    </tr>\n",
       "    <tr>\n",
       "      <th>8</th>\n",
       "      <td>0.000998</td>\n",
       "      <td>0.009003</td>\n",
       "      <td>0.916667</td>\n",
       "      <td>0.923077</td>\n",
       "      <td>0.923077</td>\n",
       "      <td>0.923077</td>\n",
       "    </tr>\n",
       "    <tr>\n",
       "      <th>9</th>\n",
       "      <td>0.002000</td>\n",
       "      <td>0.010000</td>\n",
       "      <td>0.875000</td>\n",
       "      <td>0.916667</td>\n",
       "      <td>0.846154</td>\n",
       "      <td>0.880000</td>\n",
       "    </tr>\n",
       "    <tr>\n",
       "      <th>10</th>\n",
       "      <td>0.003001</td>\n",
       "      <td>0.009995</td>\n",
       "      <td>0.791667</td>\n",
       "      <td>0.750000</td>\n",
       "      <td>0.923077</td>\n",
       "      <td>0.827586</td>\n",
       "    </tr>\n",
       "  </tbody>\n",
       "</table>\n",
       "</div>"
      ],
      "text/plain": [
       "    fit_time  score_time  test_accuracy  test_precision  test_recall   test_f1\n",
       "1   0.003003    0.014001       0.840000        0.857143     0.857143  0.857143\n",
       "2   0.003000    0.008995       0.600000        0.611111     0.785714  0.687500\n",
       "3   0.002002    0.014008       0.791667        0.785714     0.846154  0.814815\n",
       "4   0.001997    0.007998       0.833333        0.764706     1.000000  0.866667\n",
       "5   0.003998    0.006997       0.916667        1.000000     0.846154  0.916667\n",
       "6   0.002000    0.010999       0.791667        0.750000     0.923077  0.827586\n",
       "7   0.002002    0.006999       0.875000        0.916667     0.846154  0.880000\n",
       "8   0.000998    0.009003       0.916667        0.923077     0.923077  0.923077\n",
       "9   0.002000    0.010000       0.875000        0.916667     0.846154  0.880000\n",
       "10  0.003001    0.009995       0.791667        0.750000     0.923077  0.827586"
      ]
     },
     "execution_count": 111,
     "metadata": {},
     "output_type": "execute_result"
    }
   ],
   "source": [
    "model = KNeighborsClassifier(n_neighbors=9)\n",
    "\n",
    "scores = cross_validate(model, X_train_scaled, y_train, scoring = ['accuracy', 'precision','recall',\n",
    "                                                                   'f1'], cv = 10)\n",
    "df_scores = pd.DataFrame(scores, index = range(1, 11))\n",
    "df_scores"
   ]
  },
  {
   "cell_type": "code",
   "execution_count": 115,
   "id": "4efb8c95-fe25-4ffa-b08c-f3c251b656f0",
   "metadata": {},
   "outputs": [
    {
     "data": {
      "text/plain": [
       "test_accuracy     0.823167\n",
       "test_precision    0.827508\n",
       "test_recall       0.879670\n",
       "test_f1           0.848104\n",
       "dtype: float64"
      ]
     },
     "execution_count": 115,
     "metadata": {},
     "output_type": "execute_result"
    }
   ],
   "source": [
    "df_scores.mean()[2:]"
   ]
  },
  {
   "cell_type": "markdown",
   "id": "a034de20-b466-4b17-ac22-24e2b731dc1f",
   "metadata": {},
   "source": [
    "## Gridsearch K Values"
   ]
  },
  {
   "cell_type": "code",
   "execution_count": 119,
   "id": "0c1e866e-3491-449a-9c4b-098275bd1d4c",
   "metadata": {},
   "outputs": [],
   "source": [
    "from sklearn.model_selection import GridSearchCV"
   ]
  },
  {
   "cell_type": "code",
   "execution_count": 120,
   "id": "bb43657a-e7f3-4051-8728-46d90f1c1c0b",
   "metadata": {},
   "outputs": [],
   "source": [
    "knn_grid = KNeighborsClassifier()"
   ]
  },
  {
   "cell_type": "code",
   "execution_count": 121,
   "id": "3133d3e5-14d6-4679-b499-82dd4846c5f9",
   "metadata": {},
   "outputs": [],
   "source": [
    "k_values= range(1,30)"
   ]
  },
  {
   "cell_type": "code",
   "execution_count": 122,
   "id": "e1c476a7-0974-423b-bf53-52eb1013fa06",
   "metadata": {},
   "outputs": [],
   "source": [
    "param_grid = {\"n_neighbors\":k_values, \"p\": [1,2], \"weights\": ['uniform', \"distance\"]}"
   ]
  },
  {
   "cell_type": "code",
   "execution_count": 123,
   "id": "f1a13156-47e2-4e06-98f3-3dae0ea7756b",
   "metadata": {},
   "outputs": [],
   "source": [
    "knn_grid_model = GridSearchCV(knn_grid, param_grid, cv=10, scoring= 'accuracy')"
   ]
  },
  {
   "cell_type": "code",
   "execution_count": 124,
   "id": "0b6107a5-4001-402b-911e-1fe815f19069",
   "metadata": {},
   "outputs": [
    {
     "data": {
      "text/plain": [
       "GridSearchCV(cv=10, estimator=KNeighborsClassifier(),\n",
       "             param_grid={'n_neighbors': range(1, 30), 'p': [1, 2],\n",
       "                         'weights': ['uniform', 'distance']},\n",
       "             scoring='accuracy')"
      ]
     },
     "execution_count": 124,
     "metadata": {},
     "output_type": "execute_result"
    }
   ],
   "source": [
    "knn_grid_model.fit(X_train_scaled, y_train)"
   ]
  },
  {
   "cell_type": "code",
   "execution_count": 125,
   "id": "40978889-96ca-4f91-937a-154a795e574e",
   "metadata": {},
   "outputs": [
    {
     "data": {
      "text/plain": [
       "{'n_neighbors': 26, 'p': 1, 'weights': 'distance'}"
      ]
     },
     "execution_count": 125,
     "metadata": {},
     "output_type": "execute_result"
    }
   ],
   "source": [
    "knn_grid_model.best_params_"
   ]
  },
  {
   "cell_type": "code",
   "execution_count": 126,
   "id": "74f40037-421e-4515-942c-d32b093c0e6b",
   "metadata": {},
   "outputs": [
    {
     "name": "stdout",
     "output_type": "stream",
     "text": [
      "WITH K=21\n",
      "\n",
      "Test_Set\n",
      "\n",
      "[[18 10]\n",
      " [ 1 32]]\n",
      "              precision    recall  f1-score   support\n",
      "\n",
      "           0       0.95      0.64      0.77        28\n",
      "           1       0.76      0.97      0.85        33\n",
      "\n",
      "    accuracy                           0.82        61\n",
      "   macro avg       0.85      0.81      0.81        61\n",
      "weighted avg       0.85      0.82      0.81        61\n",
      "\n",
      "\n",
      "Train_Set\n",
      "\n",
      "[[110   0]\n",
      " [  0 132]]\n",
      "              precision    recall  f1-score   support\n",
      "\n",
      "           0       1.00      1.00      1.00       110\n",
      "           1       1.00      1.00      1.00       132\n",
      "\n",
      "    accuracy                           1.00       242\n",
      "   macro avg       1.00      1.00      1.00       242\n",
      "weighted avg       1.00      1.00      1.00       242\n",
      "\n"
     ]
    }
   ],
   "source": [
    "print('WITH K=21\\n')\n",
    "eval_metric(knn_grid_model, X_train_scaled, y_train, X_test_scaled, y_test)"
   ]
  },
  {
   "cell_type": "code",
   "execution_count": null,
   "id": "108e55c8-49e8-41f5-9f1c-56de68b92e74",
   "metadata": {},
   "outputs": [],
   "source": []
  },
  {
   "cell_type": "markdown",
   "id": "8d86b157-a555-4798-a171-0eaf571d6921",
   "metadata": {
    "id": "612bff88-57f4-4d18-88bc-6fc7bb95735f"
   },
   "source": [
    "## ROC Curves and AUC¶"
   ]
  },
  {
   "cell_type": "code",
   "execution_count": 127,
   "id": "68c15427-80a7-444b-83c4-bb6a031dc90a",
   "metadata": {},
   "outputs": [],
   "source": [
    "from sklearn.metrics import precision_recall_curve, plot_precision_recall_curve, plot_roc_curve, roc_auc_score, roc_curve"
   ]
  },
  {
   "cell_type": "code",
   "execution_count": 128,
   "id": "02ae4384-09b5-4c24-abb8-9d51b51f0773",
   "metadata": {},
   "outputs": [],
   "source": [
    "knn_model = KNeighborsClassifier(n_neighbors=9).fit(X_train_scaled, y_train)"
   ]
  },
  {
   "cell_type": "code",
   "execution_count": 129,
   "id": "29be5b55-578d-416b-9465-83579cb9e251",
   "metadata": {},
   "outputs": [
    {
     "data": {
      "text/plain": [
       "<sklearn.metrics._plot.roc_curve.RocCurveDisplay at 0x169a6a63ca0>"
      ]
     },
     "execution_count": 129,
     "metadata": {},
     "output_type": "execute_result"
    },
    {
     "data": {
      "image/png": "[encoded data removed]",
      "text/plain": [
       "<Figure size 432x288 with 1 Axes>"
      ]
     },
     "metadata": {
      "needs_background": "light"
     },
     "output_type": "display_data"
    }
   ],
   "source": [
    "plot_roc_curve(knn_model, X_test_scaled, y_test)"
   ]
  },
  {
   "cell_type": "code",
   "execution_count": 130,
   "id": "bb72ae95-9f45-4d30-8bd4-4bfc2b1eb89f",
   "metadata": {},
   "outputs": [
    {
     "data": {
      "text/plain": [
       "0.8896103896103896"
      ]
     },
     "execution_count": 130,
     "metadata": {},
     "output_type": "execute_result"
    }
   ],
   "source": [
    "y_pred_proba = knn_model.predict_proba(X_test_scaled)\n",
    "roc_auc_score(y_test, y_pred_proba[:,1])"
   ]
  },
  {
   "cell_type": "code",
   "execution_count": null,
   "id": "pBjxBp8VxzhE",
   "metadata": {
    "id": "pBjxBp8VxzhE"
   },
   "outputs": [],
   "source": []
  }
 ],
 "metadata": {
  "colab": {
   "collapsed_sections": [],
   "name": "Heart_Stroke_Prediction_lab.ipynb",
   "provenance": []
  },
  "kernelspec": {
   "display_name": "Python 3",
   "language": "python",
   "name": "python3"
  },
  "language_info": {
   "codemirror_mode": {
    "name": "ipython",
    "version": 3
   },
   "file_extension": ".py",
   "mimetype": "text/x-python",
   "name": "python",
   "nbconvert_exporter": "python",
   "pygments_lexer": "ipython3",
   "version": "3.8.8"
  }
 },
 "nbformat": 4,
 "nbformat_minor": 5
}
